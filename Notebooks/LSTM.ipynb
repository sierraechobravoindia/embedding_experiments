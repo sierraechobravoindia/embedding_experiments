{
 "cells": [
  {
   "cell_type": "code",
   "execution_count": 1,
   "metadata": {},
   "outputs": [],
   "source": [
    "import pandas as pd\n",
    "import numpy as np \n",
    "from matplotlib import pyplot as plt\n",
    "import gensim\n",
    "from gensim.models import Word2Vec, FastText, KeyedVectors\n",
    "%matplotlib inline"
   ]
  },
  {
   "cell_type": "code",
   "execution_count": 48,
   "metadata": {},
   "outputs": [],
   "source": [
    "import tensorflow \n",
    "\n",
    "\n",
    "from keras import layers,optimizers, regularizers\n",
    "\n",
    "from keras.models import Sequential, Model\n",
    "\n",
    "from keras.preprocessing.sequence import pad_sequences\n",
    "from keras.preprocessing.text import one_hot, Tokenizer\n",
    "\n",
    "from keras.metrics import categorical_accuracy\n",
    "from keras.optimizers import Adam\n",
    "from keras.utils import to_categorical\n",
    "from keras.backend import mean\n",
    "\n",
    "from keras.layers import Input, Dense, Dropout, Embedding, LSTM, Flatten, multiply, Lambda\n",
    "from keras.layers import MaxPooling1D, Embedding, Bidirectional, CuDNNLSTM, RepeatVector\n",
    "from keras.layers import MaxPooling2D, concatenate, SpatialDropout1D\n",
    "\n",
    "from keras.layers.core import Reshape, Flatten, Permute\n",
    "from keras.layers.normalization import BatchNormalization\n",
    "\n",
    "from keras.callbacks import EarlyStopping"
   ]
  },
  {
   "cell_type": "code",
   "execution_count": 3,
   "metadata": {},
   "outputs": [],
   "source": [
    "fasttext =  KeyedVectors.load_word2vec_format('../WordEmbeddings/FastText/cc.de.300.vec') \n",
    "\n",
    "#Load pretrained FastText\n",
    "#model_ft =  KeyedVectors.load_word2vec_format('../WordEmbeddings/FastText/cc.de.300.vec') \n",
    "\n",
    "#Load domain specific FastText\n",
    "#model_ds_ft = FastText.load(\"../WordEmbeddings/ft_ds.model\")\n",
    "\n",
    "#Load domain specific word2vec\n",
    "#model_ds_w2v = Word2Vec.load(\"../WordEmbeddings/w2v_ds.model\")\n"
   ]
  },
  {
   "cell_type": "code",
   "execution_count": 5,
   "metadata": {},
   "outputs": [],
   "source": [
    "test_data = pd.read_pickle(\"../Data/testset.pkl\")\n",
    "train_data = pd.read_pickle(\"../Data/trainset.pkl\")\n",
    "\n",
    "train_data=train_data[train_data.label!=\"A\"]\n",
    "test_data=test_data[test_data.label!=\"A\"]\n",
    "\n",
    "vocab_base = pd.concat([train_data, test_data])"
   ]
  },
  {
   "cell_type": "code",
   "execution_count": 7,
   "metadata": {},
   "outputs": [
    {
     "name": "stdout",
     "output_type": "stream",
     "text": [
      "Found 36785 unique tokens.\n"
     ]
    }
   ],
   "source": [
    "NUM_WORDS=20000\n",
    "tokenizer = Tokenizer(num_words=NUM_WORDS,\n",
    "                      lower=True)\n",
    "tokenizer.fit_on_texts(vocab_base.CR_s)\n",
    "sequences_train = tokenizer.texts_to_sequences(train_data.CR_s)\n",
    "sequences_test = tokenizer.texts_to_sequences(test_data.CR_s)\n",
    "word_index = tokenizer.word_index\n",
    "print('Found %s unique tokens.' % len(word_index))"
   ]
  },
  {
   "cell_type": "code",
   "execution_count": 8,
   "metadata": {},
   "outputs": [],
   "source": [
    "functions=train_data.label.unique()\n",
    "dic={}\n",
    "for i,func in enumerate(functions):\n",
    "    dic[func]=i\n",
    "train_labels=train_data.label.apply(lambda x:dic[x])\n",
    "test_labels = test_data.label.apply(lambda x:dic[x])"
   ]
  },
  {
   "cell_type": "code",
   "execution_count": 9,
   "metadata": {},
   "outputs": [
    {
     "name": "stdout",
     "output_type": "stream",
     "text": [
      "Shape of X_train and X_test tensor: (7556, 405) (841, 405)\n",
      "Shape of label train and test tensor: (7556, 8) (841, 8)\n"
     ]
    }
   ],
   "source": [
    "X_train = pad_sequences(sequences_train)\n",
    "y_train = to_categorical(np.asarray(train_labels[train_data.index]))\n",
    "\n",
    "X_test = pad_sequences(sequences_test,maxlen=X_train.shape[1])\n",
    "y_test = to_categorical(np.asarray(test_labels[test_data.index]))\n",
    "print('Shape of X_train and X_test tensor:', X_train.shape, X_test.shape)\n",
    "print('Shape of label train and test tensor:', y_train.shape, y_test.shape)"
   ]
  },
  {
   "cell_type": "code",
   "execution_count": 10,
   "metadata": {},
   "outputs": [
    {
     "name": "stderr",
     "output_type": "stream",
     "text": [
      "/usr/local/lib/python3.6/dist-packages/ipykernel_launcher.py:2: DeprecationWarning: Call to deprecated `wv` (Attribute will be removed in 4.0.0, use self instead).\n",
      "  \n"
     ]
    }
   ],
   "source": [
    "#Hier kann man zwischen den Embeddings umschalten!\n",
    "embed=fasttext\n",
    "\n",
    "pretrained_weights = embed.wv.vectors\n",
    "vocab_size, emdedding_size = pretrained_weights.shape"
   ]
  },
  {
   "cell_type": "code",
   "execution_count": 11,
   "metadata": {},
   "outputs": [],
   "source": [
    "# Alternaticve Möglichkeit mit keras-Bordmitteln???\n",
    "# https://stackoverflow.com/questions/51492778/how-to-properly-use-get-keras-embedding-in-gensim-s-word2vec\n",
    "\n",
    "MAX_NB_WORDS = len(word_index)\n",
    "EMBEDDING_DIM = emdedding_size\n",
    "nb_words = len(word_index)+1\n",
    "# we initialize the matrix with random numbers\n",
    "ft_matrix = (np.random.rand(nb_words, EMBEDDING_DIM) - 0.5) / 5.0\n",
    "for word, i in word_index.items():\n",
    "    if i >= MAX_NB_WORDS:\n",
    "        continue\n",
    "    try:\n",
    "        embedding_vector = embed.wv[word]\n",
    "        # words not found in embedding index will be all-zeros.\n",
    "        ft_matrix[i] = embedding_vector\n",
    "    except:\n",
    "        pass        "
   ]
  },
  {
   "cell_type": "code",
   "execution_count": 31,
   "metadata": {},
   "outputs": [
    {
     "name": "stdout",
     "output_type": "stream",
     "text": [
      "[ 0.59216301  3.02724359  2.04437229  5.72424242  0.363409   10.15591398\n",
      "  9.35148515  0.42373262]\n",
      "[ 0.54468912  3.18560606  2.14540816  4.38020833  0.38507326 17.52083333\n",
      " 13.140625    0.4122549 ]\n"
     ]
    }
   ],
   "source": [
    "from sklearn.utils import class_weight\n",
    "class_weights = class_weight.compute_class_weight('balanced',\n",
    "                                                 np.unique(train_data.label),\n",
    "                                                 train_data.label)\n",
    "print(class_weights)\n",
    "\n",
    "# Run this with test_data and compare!\n",
    "\n",
    "class_weights_test = class_weight.compute_class_weight('balanced',\n",
    "                                                 np.unique(test_data.label),\n",
    "                                                 test_data.label)\n",
    "print(class_weights_test)\n",
    "\n",
    "# Wäre noch eine Baustelle, hier nochmal zu mergen und durchzumischen. \n",
    "# Aber so in erster Näherung ok... "
   ]
  },
  {
   "cell_type": "code",
   "execution_count": 63,
   "metadata": {},
   "outputs": [],
   "source": [
    "# Source: Modified version of:  https://github.com/philipperemy/keras-attention-mechanism\n",
    "\n",
    "SINGLE_ATTENTION_VECTOR = False\n",
    "\n",
    "def attention_3d_block(inputs):\n",
    "    # inputs.shape = (batch_size, time_steps, input_dim)\n",
    "    input_dim = int(inputs.shape[2])\n",
    "    a = Permute((2, 1))(inputs) #Dense layer operates only on last dimension of array. hence we rotate time in last place\n",
    "    a = Dense(405, activation='softmax')(a) #Weights are the attention matrix: 405 x 405 \n",
    "    if SINGLE_ATTENTION_VECTOR: #if single layer, then take mean over all hidden dimensions, then broadcast mean back over hidden dimensiosn\n",
    "        a = Lambda(lambda x: mean(x, axis=1), name='dim_reduction')(a)\n",
    "        a = RepeatVector(input_dim)(a)\n",
    "    a_probs = Permute((2, 1), name='attention_vec')(a) #permute time back in second place, hidden dimensions back to last\n",
    "    # output_attention_mul = merge([inputs, a_probs], name='attention_mul', mode='mul')\n",
    "    output_attention_mul = multiply([inputs, a_probs])\n",
    "    return output_attention_mul"
   ]
  },
  {
   "cell_type": "code",
   "execution_count": 64,
   "metadata": {},
   "outputs": [
    {
     "name": "stderr",
     "output_type": "stream",
     "text": [
      "/usr/local/lib/python3.6/dist-packages/ipykernel_launcher.py:16: UserWarning: Update your `Model` call to the Keras 2 API: `Model(inputs=[<tf.Tenso..., outputs=Tensor(\"de...)`\n",
      "  app.launch_new_instance()\n"
     ]
    }
   ],
   "source": [
    "vocab_size = len(tokenizer.word_index) + 1\n",
    "input_dim = X_train.shape[1]  # length padded sequences\n",
    "\n",
    "inputs = Input(name='inputs',shape=[input_dim])\n",
    "layer = Embedding(input_dim=vocab_size, \n",
    "                            output_dim=EMBEDDING_DIM, \n",
    "                            weights=[ft_matrix],\n",
    "                            trainable=False)(inputs)\n",
    "lstm_out = LSTM(100,dropout=0.2,recurrent_dropout=0.2, return_sequences=True)(layer)\n",
    "lstm_out = Dropout(0.2)(lstm_out)\n",
    "attention_mul = attention_3d_block(lstm_out)\n",
    "attention_mul = Flatten()(attention_mul)\n",
    "output = Dense(len(functions), activation='softmax')(attention_mul)\n",
    "\n",
    "\n",
    "model = Model(input=[inputs], output=output)"
   ]
  },
  {
   "cell_type": "code",
   "execution_count": 65,
   "metadata": {
    "scrolled": true
   },
   "outputs": [
    {
     "name": "stdout",
     "output_type": "stream",
     "text": [
      "Model: \"model_5\"\n",
      "__________________________________________________________________________________________________\n",
      "Layer (type)                    Output Shape         Param #     Connected to                     \n",
      "==================================================================================================\n",
      "inputs (InputLayer)             (None, 405)          0                                            \n",
      "__________________________________________________________________________________________________\n",
      "embedding_9 (Embedding)         (None, 405, 300)     11035800    inputs[0][0]                     \n",
      "__________________________________________________________________________________________________\n",
      "lstm_9 (LSTM)                   (None, 405, 100)     160400      embedding_9[0][0]                \n",
      "__________________________________________________________________________________________________\n",
      "dropout_9 (Dropout)             (None, 405, 100)     0           lstm_9[0][0]                     \n",
      "__________________________________________________________________________________________________\n",
      "permute_9 (Permute)             (None, 100, 405)     0           dropout_9[0][0]                  \n",
      "__________________________________________________________________________________________________\n",
      "dense_13 (Dense)                (None, 100, 405)     164430      permute_9[0][0]                  \n",
      "__________________________________________________________________________________________________\n",
      "attention_vec (Permute)         (None, 405, 100)     0           dense_13[0][0]                   \n",
      "__________________________________________________________________________________________________\n",
      "multiply_5 (Multiply)           (None, 405, 100)     0           dropout_9[0][0]                  \n",
      "                                                                 attention_vec[0][0]              \n",
      "__________________________________________________________________________________________________\n",
      "flatten_5 (Flatten)             (None, 40500)        0           multiply_5[0][0]                 \n",
      "__________________________________________________________________________________________________\n",
      "dense_14 (Dense)                (None, 8)            324008      flatten_5[0][0]                  \n",
      "==================================================================================================\n",
      "Total params: 11,684,638\n",
      "Trainable params: 648,838\n",
      "Non-trainable params: 11,035,800\n",
      "__________________________________________________________________________________________________\n"
     ]
    }
   ],
   "source": [
    "model.compile(loss='categorical_crossentropy', optimizer='adam', metrics=['accuracy'])\n",
    "model.summary()"
   ]
  },
  {
   "cell_type": "code",
   "execution_count": 67,
   "metadata": {},
   "outputs": [
    {
     "name": "stdout",
     "output_type": "stream",
     "text": [
      "Train on 7556 samples, validate on 841 samples\n",
      "Epoch 1/50\n",
      "7556/7556 [==============================] - 124s 16ms/step - loss: 0.7584 - accuracy: 0.7233 - val_loss: 0.7558 - val_accuracy: 0.7229\n",
      "Epoch 2/50\n",
      "7556/7556 [==============================] - 125s 17ms/step - loss: 0.7337 - accuracy: 0.7336 - val_loss: 0.7243 - val_accuracy: 0.7432\n",
      "Epoch 3/50\n",
      "7556/7556 [==============================] - 124s 16ms/step - loss: 0.7013 - accuracy: 0.7458 - val_loss: 0.7056 - val_accuracy: 0.7455\n",
      "Epoch 4/50\n",
      "7556/7556 [==============================] - 124s 16ms/step - loss: 0.6869 - accuracy: 0.7524 - val_loss: 0.6854 - val_accuracy: 0.7574\n",
      "Epoch 5/50\n",
      "7556/7556 [==============================] - 124s 16ms/step - loss: 0.6593 - accuracy: 0.7680 - val_loss: 0.6771 - val_accuracy: 0.7646\n",
      "Epoch 6/50\n",
      "7556/7556 [==============================] - 125s 17ms/step - loss: 0.6379 - accuracy: 0.7767 - val_loss: 0.6817 - val_accuracy: 0.7574\n",
      "Epoch 7/50\n",
      "7556/7556 [==============================] - 126s 17ms/step - loss: 0.6078 - accuracy: 0.7839 - val_loss: 0.6767 - val_accuracy: 0.7598\n",
      "Epoch 8/50\n",
      "7556/7556 [==============================] - 125s 17ms/step - loss: 0.5922 - accuracy: 0.7935 - val_loss: 0.6290 - val_accuracy: 0.7681\n",
      "Epoch 9/50\n",
      "7556/7556 [==============================] - 124s 16ms/step - loss: 0.5620 - accuracy: 0.7934 - val_loss: 0.6296 - val_accuracy: 0.7634\n",
      "Epoch 10/50\n",
      "7556/7556 [==============================] - 126s 17ms/step - loss: 0.5425 - accuracy: 0.8053 - val_loss: 0.6620 - val_accuracy: 0.7646\n",
      "Epoch 11/50\n",
      "7556/7556 [==============================] - 126s 17ms/step - loss: 0.5197 - accuracy: 0.8126 - val_loss: 0.6657 - val_accuracy: 0.7634\n"
     ]
    }
   ],
   "source": [
    "history = model.fit(X_train, y_train,\n",
    "                    validation_split=0,\n",
    "                    validation_data=(X_test, y_test),\n",
    "                    epochs=50, \n",
    "                    batch_size=16,\n",
    "                    callbacks=[EarlyStopping(monitor='val_loss', patience=3, min_delta=0.0001)], \n",
    "                    shuffle=True,\n",
    "                    class_weight=class_weights\n",
    "                   )"
   ]
  },
  {
   "cell_type": "code",
   "execution_count": 68,
   "metadata": {},
   "outputs": [
    {
     "data": {
      "image/png": "[encoded data removed]",
      "text/plain": [
       "<matplotlib.figure.Figure at 0x7ff1edecbb00>"
      ]
     },
     "metadata": {
      "needs_background": "light"
     },
     "output_type": "display_data"
    }
   ],
   "source": [
    "plt.figure(figsize=(8,8));\n",
    "plt.plot(history.history['accuracy'])\n",
    "plt.plot(history.history['val_accuracy'])\n",
    "plt.title('model accuracy')\n",
    "plt.ylabel('accuracy')\n",
    "plt.xlabel('epoch')\n",
    "plt.legend(['train', 'val'], loc='upper left')\n",
    "plt.show()"
   ]
  },
  {
   "cell_type": "code",
   "execution_count": 69,
   "metadata": {},
   "outputs": [
    {
     "data": {
      "image/png": "[encoded data removed]",
      "text/plain": [
       "<matplotlib.figure.Figure at 0x7ff1edd5a438>"
      ]
     },
     "metadata": {
      "needs_background": "light"
     },
     "output_type": "display_data"
    }
   ],
   "source": [
    "plt.figure(figsize=(8,8));\n",
    "plt.plot(history.history['loss'])\n",
    "plt.plot(history.history['val_loss'])\n",
    "plt.title('model loss')\n",
    "plt.ylabel('loss')\n",
    "plt.xlabel('epoch')\n",
    "plt.legend(['train', 'val'], loc='upper left')\n",
    "plt.show()"
   ]
  },
  {
   "cell_type": "code",
   "execution_count": 70,
   "metadata": {},
   "outputs": [
    {
     "name": "stdout",
     "output_type": "stream",
     "text": [
      "841/841 [==============================] - 2s 3ms/step\n",
      "[0.6657182054769128, 0.7633769512176514]\n",
      "['loss', 'accuracy']\n"
     ]
    }
   ],
   "source": [
    "print(model.evaluate(X_test,y_test))\n",
    "print(model.metrics_names)"
   ]
  },
  {
   "cell_type": "code",
   "execution_count": 56,
   "metadata": {},
   "outputs": [
    {
     "name": "stdout",
     "output_type": "stream",
     "text": [
      "{'batch_input_shape': (None, 405), 'dtype': 'float32', 'sparse': False, 'name': 'inputs'} []\n",
      "{'name': 'embedding_6', 'trainable': False, 'batch_input_shape': (None, None), 'dtype': 'float32', 'input_dim': 36786, 'output_dim': 300, 'embeddings_initializer': {'class_name': 'RandomUniform', 'config': {'minval': -0.05, 'maxval': 0.05, 'seed': None}}, 'embeddings_regularizer': None, 'activity_regularizer': None, 'embeddings_constraint': None, 'mask_zero': False, 'input_length': None} [array([[-0.06219178,  0.01851014, -0.03526384, ..., -0.07026948,\n",
      "        -0.03989571, -0.02812475],\n",
      "       [ 0.0357    ,  0.0152    ,  0.0626    , ...,  0.0103    ,\n",
      "        -0.0027    , -0.0119    ],\n",
      "       [-0.0181    , -0.0035    ,  0.0374    , ..., -0.0009    ,\n",
      "        -0.004     , -0.0159    ],\n",
      "       ...,\n",
      "       [-0.02117594,  0.06782613, -0.0423121 , ...,  0.04121714,\n",
      "         0.05288602, -0.08463021],\n",
      "       [-0.06492188, -0.07552168, -0.09243724, ..., -0.00352561,\n",
      "         0.02750216, -0.07809304],\n",
      "       [ 0.07678399, -0.06576511, -0.07234623, ...,  0.07315905,\n",
      "        -0.08042671, -0.05815887]], dtype=float32)]\n",
      "{'name': 'lstm_6', 'trainable': True, 'dtype': 'float32', 'return_sequences': True, 'return_state': False, 'go_backwards': False, 'stateful': False, 'unroll': False, 'units': 100, 'activation': 'tanh', 'recurrent_activation': 'sigmoid', 'use_bias': True, 'kernel_initializer': {'class_name': 'VarianceScaling', 'config': {'scale': 1.0, 'mode': 'fan_avg', 'distribution': 'uniform', 'seed': None}}, 'recurrent_initializer': {'class_name': 'Orthogonal', 'config': {'gain': 1.0, 'seed': None}}, 'bias_initializer': {'class_name': 'Zeros', 'config': {}}, 'unit_forget_bias': True, 'kernel_regularizer': None, 'recurrent_regularizer': None, 'bias_regularizer': None, 'activity_regularizer': None, 'kernel_constraint': None, 'recurrent_constraint': None, 'bias_constraint': None, 'dropout': 0.2, 'recurrent_dropout': 0.2, 'implementation': 2} [array([[-0.13021128,  0.15605287, -0.05048011, ...,  0.13965802,\n",
      "         0.00840915,  0.05959111],\n",
      "       [-0.07223952, -0.12871134,  0.04698023, ..., -0.03924735,\n",
      "        -0.14035872,  0.1114173 ],\n",
      "       [-0.09459885,  0.04774309, -0.00636842, ...,  0.05400189,\n",
      "        -0.03422004,  0.04326283],\n",
      "       ...,\n",
      "       [ 0.09316862, -0.04215032,  0.03011166, ...,  0.17192192,\n",
      "        -0.07361107, -0.08954471],\n",
      "       [-0.16158675, -0.15824918, -0.0227553 , ...,  0.04324221,\n",
      "         0.0921041 ,  0.09290498],\n",
      "       [-0.16776924,  0.06083146,  0.03193338, ..., -0.15892473,\n",
      "        -0.1199192 ,  0.02753395]], dtype=float32), array([[-0.04118681,  0.09141464,  0.1042124 , ...,  0.06532652,\n",
      "         0.10924661,  0.17736852],\n",
      "       [ 0.08155528,  0.07236303, -0.02650146, ..., -0.02647416,\n",
      "        -0.11020453, -0.0720102 ],\n",
      "       [-0.00416326, -0.14390388,  0.03043888, ...,  0.26480645,\n",
      "         0.01434139,  0.03806737],\n",
      "       ...,\n",
      "       [ 0.05798001, -0.03701995, -0.18147779, ..., -0.01311428,\n",
      "         0.02190931, -0.04077676],\n",
      "       [-0.02808093,  0.02233122, -0.00219822, ...,  0.02266524,\n",
      "        -0.02136605,  0.0020755 ],\n",
      "       [ 0.10946953,  0.29810464,  0.04029267, ..., -0.01179562,\n",
      "         0.03017321, -0.0693868 ]], dtype=float32), array([ 3.87892239e-02, -4.67691235e-02, -6.08053505e-02,  1.32274143e-02,\n",
      "        3.16857651e-04, -1.95690747e-02,  3.88158150e-02,  1.43448636e-02,\n",
      "        7.00270012e-02, -8.05247128e-02,  1.76944099e-02, -5.81860542e-02,\n",
      "       -9.48419720e-02,  2.79845856e-02, -3.05965096e-02,  1.88123081e-02,\n",
      "        3.21251415e-02,  9.39006422e-05, -8.75744037e-03, -3.56593356e-02,\n",
      "       -3.16701569e-02,  1.29914843e-02, -6.59856200e-02, -4.30949125e-03,\n",
      "        1.08236624e-02,  6.75107241e-02,  6.71580061e-02,  1.62343718e-02,\n",
      "        8.70397985e-02, -5.45712560e-02,  1.37641087e-01, -6.01371378e-02,\n",
      "        3.78098972e-02,  7.04998747e-02,  4.87568881e-03,  3.76940332e-02,\n",
      "        6.71632737e-02, -8.19222927e-02,  6.12043962e-02, -7.03849196e-02,\n",
      "       -2.26942971e-02,  2.04646923e-02, -8.40129144e-03, -2.45603677e-02,\n",
      "        2.10813694e-02,  1.41878380e-02,  9.62707400e-02, -1.47076753e-06,\n",
      "       -4.63344231e-02, -4.15891074e-02, -1.04316786e-01, -5.67434467e-02,\n",
      "       -3.80510390e-02, -5.43638952e-02,  5.48727587e-02,  7.91623369e-02,\n",
      "       -1.16978668e-01,  5.29467836e-02, -7.70549625e-02,  5.37034050e-02,\n",
      "       -1.76526792e-02, -5.01281433e-02,  7.53194243e-02,  1.15931034e-02,\n",
      "       -3.29711661e-02, -4.90329834e-03,  1.49891712e-02,  1.35082817e-02,\n",
      "        4.79814261e-02, -7.78536052e-02, -6.42152652e-02, -1.20592397e-02,\n",
      "        1.40952868e-02, -3.23781855e-02, -3.41560319e-02, -1.28642827e-01,\n",
      "       -9.32545736e-02, -2.51957066e-02, -7.40390271e-02,  1.40688568e-02,\n",
      "        5.77964149e-02,  8.53489339e-03,  1.14161104e-01, -5.13838157e-02,\n",
      "       -2.92612258e-02, -8.95771831e-02, -5.15863262e-02,  5.17009646e-02,\n",
      "        6.61590621e-02,  1.60810968e-03, -1.77655965e-02,  1.29032694e-02,\n",
      "        7.58539513e-02,  4.51262482e-02, -2.97894366e-02, -1.41279334e-02,\n",
      "       -1.15938716e-01,  2.35071592e-02, -2.37461980e-02, -1.21004209e-01,\n",
      "        9.85120237e-01,  8.74199510e-01,  9.00952756e-01,  9.83963609e-01,\n",
      "        1.00404656e+00,  9.61658299e-01,  1.07333112e+00,  1.06141639e+00,\n",
      "        1.00235212e+00,  9.71148551e-01,  9.77509916e-01,  9.29987371e-01,\n",
      "        1.02161002e+00,  9.60626423e-01,  9.12547052e-01,  9.54330325e-01,\n",
      "        9.56726193e-01,  1.04993749e+00,  1.05189002e+00,  8.87872398e-01,\n",
      "        9.13572967e-01,  9.58639205e-01,  9.16729093e-01,  9.32661116e-01,\n",
      "        1.03944552e+00,  1.11673319e+00,  9.92401600e-01,  1.00301385e+00,\n",
      "        1.06851017e+00,  9.21924174e-01,  1.04386175e+00,  9.58451927e-01,\n",
      "        9.33988035e-01,  1.01228249e+00,  9.74358737e-01,  1.03212011e+00,\n",
      "        1.10341215e+00,  9.03412402e-01,  1.08384931e+00,  1.00445235e+00,\n",
      "        9.61426437e-01,  9.83252347e-01,  9.12421525e-01,  9.86322582e-01,\n",
      "        9.75873172e-01,  9.71891403e-01,  1.11333680e+00,  1.00591958e+00,\n",
      "        9.44403529e-01,  9.71578240e-01,  8.53950262e-01,  9.63237345e-01,\n",
      "        9.82130706e-01,  9.24932599e-01,  1.04790783e+00,  9.61201012e-01,\n",
      "        9.12107646e-01,  9.86059606e-01,  9.21185017e-01,  1.02915645e+00,\n",
      "        8.77495229e-01,  1.02907157e+00,  9.83740509e-01,  9.57422793e-01,\n",
      "        9.94739473e-01,  9.68577564e-01,  9.83482361e-01,  9.60663795e-01,\n",
      "        1.03803599e+00,  1.00684536e+00,  8.71206641e-01,  9.27416623e-01,\n",
      "        1.00189757e+00,  8.93904984e-01,  9.82595801e-01,  9.14738178e-01,\n",
      "        9.09577966e-01,  9.44622338e-01,  9.49209750e-01,  9.58485365e-01,\n",
      "        1.02292740e+00,  1.00351989e+00,  9.97588336e-01,  9.32712853e-01,\n",
      "        9.90230799e-01,  1.03945434e+00,  9.25773859e-01,  1.07318151e+00,\n",
      "        1.14856839e+00,  1.00289786e+00,  9.40262973e-01,  9.79931176e-01,\n",
      "        1.05218399e+00,  1.03620100e+00,  9.56642091e-01,  1.10570741e+00,\n",
      "        9.06994164e-01,  1.07658827e+00,  9.35379863e-01,  8.83262098e-01,\n",
      "       -6.57773912e-02,  2.00869292e-02, -6.50682896e-02,  4.11429591e-02,\n",
      "        7.71149099e-02, -8.60038251e-02,  3.78838107e-02,  8.20831358e-02,\n",
      "       -8.82869065e-02, -1.07527059e-02,  8.34593624e-02,  3.65960635e-02,\n",
      "       -5.46753295e-02, -1.26895551e-02, -1.30285555e-02, -5.99095933e-02,\n",
      "       -5.16689159e-02, -3.11976466e-02,  6.42839298e-02,  3.11525296e-02,\n",
      "        4.11301218e-02, -3.59855108e-02,  1.44440564e-03, -8.25718343e-02,\n",
      "        9.10766125e-02,  9.32055414e-02,  3.80530171e-02,  1.01521134e-01,\n",
      "        7.64011368e-02,  2.65766941e-02,  2.09634490e-02,  1.98916625e-02,\n",
      "        4.19849940e-02,  1.85604021e-02, -2.29869317e-02, -1.16502412e-01,\n",
      "        1.21585548e-01, -4.29608114e-02,  1.17753513e-01,  9.43877618e-04,\n",
      "        2.38216855e-02,  3.39472741e-02,  6.55650422e-02, -6.85994886e-03,\n",
      "       -3.62819545e-02,  5.12342760e-03,  1.24750957e-01, -2.96627115e-02,\n",
      "       -2.32829191e-02,  4.84915636e-02, -5.33540733e-02,  5.65841831e-02,\n",
      "       -5.79888262e-02,  7.68896798e-03, -4.04769331e-02,  1.96939018e-02,\n",
      "        2.88997404e-02, -2.64034094e-03, -5.25258668e-02,  1.22253612e-01,\n",
      "        2.51874439e-02,  4.25217710e-02, -3.50010023e-02,  1.71314552e-02,\n",
      "       -3.24318074e-02,  2.78433040e-02, -4.95493412e-03, -3.50535219e-03,\n",
      "        1.19330160e-01,  5.78913540e-02,  1.72808878e-02,  6.29326776e-02,\n",
      "       -5.79822212e-02,  3.09595726e-02,  7.33404011e-02,  1.26741212e-02,\n",
      "        1.18980100e-02, -9.98629481e-02, -2.41938792e-02,  3.66065800e-02,\n",
      "        5.92970252e-02,  3.99969108e-02, -4.41102423e-02, -4.35547493e-02,\n",
      "        8.45203102e-02, -4.82608937e-02,  1.23845404e-02,  1.12843633e-01,\n",
      "       -1.16943680e-01, -8.19547549e-02,  4.43497207e-03,  8.86074081e-03,\n",
      "       -6.01821207e-02,  1.06539614e-01,  5.67440921e-03, -6.75436929e-02,\n",
      "        5.47217168e-02,  9.88510251e-02,  6.60803840e-02,  3.19802612e-02,\n",
      "       -5.54870516e-02,  4.84201172e-03,  2.87596718e-04, -3.92692164e-02,\n",
      "       -9.80957448e-02,  1.95935853e-02,  1.14577755e-01, -9.03567150e-02,\n",
      "        2.52273884e-02, -1.00799151e-01,  4.82432283e-02, -4.99091707e-02,\n",
      "        9.71849486e-02,  9.59041715e-02, -6.04822487e-02, -9.77392271e-02,\n",
      "       -6.05099462e-02,  4.18166667e-02, -2.25394554e-02,  1.12008490e-02,\n",
      "        5.97974192e-03, -7.99872801e-02, -9.11758468e-02, -3.34699415e-02,\n",
      "        1.36680454e-01, -8.31307918e-02,  3.78269218e-02, -6.91177249e-02,\n",
      "        8.53275694e-03, -1.21306978e-01, -1.94316935e-02,  5.99395297e-02,\n",
      "        1.65446885e-02,  2.01229863e-02, -1.59945153e-02, -3.78260985e-02,\n",
      "       -8.48435909e-02, -5.04508577e-02, -1.01185255e-01, -3.32103521e-02,\n",
      "        5.44840507e-02, -1.25650624e-02, -3.14579695e-03, -1.01320252e-01,\n",
      "       -7.55385980e-02,  8.37327987e-02, -7.45856091e-02,  1.08847804e-01,\n",
      "       -6.32445663e-02, -1.00963019e-01, -6.10817447e-02, -8.99166092e-02,\n",
      "        2.79635172e-02, -4.82690483e-02,  7.12164268e-02,  9.90702063e-02,\n",
      "       -5.41660823e-02,  5.41568696e-02, -1.05150931e-01, -6.97068796e-02,\n",
      "       -1.29266689e-02,  5.16120493e-02, -7.72208571e-02,  2.94192769e-02,\n",
      "        5.48922122e-02,  2.08937451e-02,  3.01556084e-02, -3.62286791e-02,\n",
      "       -6.80452511e-02,  5.33091798e-02, -9.27277207e-02,  2.07727440e-02,\n",
      "        1.60942879e-02, -1.06886797e-01, -5.43941520e-02, -1.47574833e-02,\n",
      "        4.96493140e-03, -1.06502380e-02, -6.14368264e-03,  6.03599362e-02,\n",
      "       -1.14829935e-01,  6.72473833e-02, -2.12958064e-02, -2.45665219e-02,\n",
      "        1.07145943e-02,  1.25747070e-01, -8.92085731e-02, -8.98325667e-02,\n",
      "       -4.99291234e-02, -5.78298829e-02,  1.04374364e-01, -7.86909536e-02,\n",
      "       -3.49532403e-02, -7.62222186e-02, -1.27123773e-01,  3.40558006e-03,\n",
      "       -1.19618140e-02, -4.05732021e-02,  6.38688877e-02, -6.99139461e-02],\n",
      "      dtype=float32)]\n",
      "{'name': 'dropout_6', 'trainable': True, 'dtype': 'float32', 'rate': 0.2, 'noise_shape': None, 'seed': None} []\n",
      "{'name': 'permute_6', 'trainable': True, 'dtype': 'float32', 'dims': (2, 1)} []\n",
      "{'name': 'dense_7', 'trainable': True, 'dtype': 'float32', 'units': 405, 'activation': 'softmax', 'use_bias': True, 'kernel_initializer': {'class_name': 'VarianceScaling', 'config': {'scale': 1.0, 'mode': 'fan_avg', 'distribution': 'uniform', 'seed': None}}, 'bias_initializer': {'class_name': 'Zeros', 'config': {}}, 'kernel_regularizer': None, 'bias_regularizer': None, 'activity_regularizer': None, 'kernel_constraint': None, 'bias_constraint': None} [array([[ 0.05601888,  0.04358279,  0.04157127, ...,  0.12623104,\n",
      "         0.2574329 ,  0.0271102 ],\n",
      "       [ 0.07540903,  0.07031009,  0.15178478, ...,  0.09781589,\n",
      "         0.21782364,  0.06708711],\n",
      "       [ 0.02029729, -0.03742612,  0.04547455, ...,  0.05999336,\n",
      "         0.23486052,  0.05242062],\n",
      "       ...,\n",
      "       [-0.05754283, -0.00860842, -0.05544992, ...,  0.07941245,\n",
      "         0.14003243,  0.09634504],\n",
      "       [-0.07992937, -0.03349115, -0.02211719, ...,  0.25659126,\n",
      "         0.20864226,  0.09392452],\n",
      "       [ 0.00197239,  0.01182078, -0.07921869, ...,  0.1562317 ,\n",
      "         0.22215655,  0.129961  ]], dtype=float32), array([-0.19877484, -0.2617778 , -0.15232363, -0.242884  , -0.1737146 ,\n",
      "       -0.19692232, -0.18181734, -0.15839894, -0.1508475 , -0.11185719,\n",
      "       -0.19473913, -0.07525282, -0.11760225, -0.1738528 ,  0.05854458,\n",
      "       -0.186354  , -0.16170998,  0.02259464, -0.13329412, -0.09474113,\n",
      "       -0.15657501,  0.0397639 , -0.15008827, -0.10520018, -0.14384098,\n",
      "       -0.20615362, -0.17783178, -0.05699148, -0.15411283, -0.10440257,\n",
      "       -0.16748215, -0.1983677 , -0.20559826,  0.02842117, -0.1491037 ,\n",
      "       -0.22420053, -0.20574513, -0.02604796, -0.18010375, -0.28437072,\n",
      "       -0.2508673 , -0.18406808, -0.09264038, -0.27015805, -0.17250675,\n",
      "       -0.00963459, -0.0747681 , -0.25186706, -0.0317008 , -0.19080217,\n",
      "       -0.2261536 , -0.09821495, -0.23745963,  0.02144348, -0.09045999,\n",
      "       -0.2731019 ,  0.0273543 , -0.06563634, -0.22903304,  0.03448081,\n",
      "       -0.24191552, -0.2534491 , -0.05243471, -0.22889137,  0.00626754,\n",
      "       -0.14783406, -0.19121712, -0.13288286, -0.15201741, -0.09506891,\n",
      "        0.03214325, -0.11889339, -0.11719048, -0.1704262 , -0.16310744,\n",
      "       -0.18850446, -0.22034541, -0.10214206, -0.05096035, -0.2248335 ,\n",
      "       -0.16674463, -0.06901123, -0.19692443,  0.0434489 , -0.2475674 ,\n",
      "       -0.11791486, -0.08220477, -0.08715452, -0.24682716, -0.14126314,\n",
      "       -0.18568379, -0.19763513, -0.07564878, -0.21674359, -0.10945769,\n",
      "       -0.12894247,  0.02639492, -0.12096624, -0.12298057, -0.1624302 ,\n",
      "        0.04473712, -0.18510151, -0.17933702, -0.05273525, -0.21123618,\n",
      "       -0.21067949, -0.07402409, -0.2344835 , -0.19569479, -0.02338432,\n",
      "        0.02165651, -0.00254937, -0.13783725,  0.0510747 , -0.13512744,\n",
      "       -0.15136516, -0.19225667, -0.23963326, -0.16023004, -0.19099365,\n",
      "       -0.19204196, -0.21821705, -0.17809753, -0.24046834, -0.27711222,\n",
      "        0.03253683, -0.22055875, -0.12088148, -0.01696901, -0.12397926,\n",
      "       -0.20582348,  0.02339256, -0.18335494, -0.10157648,  0.00905634,\n",
      "       -0.19779855, -0.00509756, -0.19782525, -0.24663828,  0.02925864,\n",
      "       -0.02231042, -0.09025291,  0.024361  , -0.2006936 ,  0.01494831,\n",
      "        0.03411596, -0.186515  , -0.20961757, -0.1413022 , -0.14869724,\n",
      "       -0.18982723, -0.14659783, -0.02065849, -0.11217076, -0.02089027,\n",
      "       -0.20504422, -0.09534618, -0.19260731,  0.03076608, -0.17411205,\n",
      "        0.00068453, -0.17567888, -0.01894302, -0.02939121, -0.07903738,\n",
      "       -0.25970674, -0.11685776, -0.18857116, -0.07866362,  0.0099241 ,\n",
      "       -0.03945063,  0.04765505, -0.13104634, -0.13091159, -0.1218719 ,\n",
      "       -0.20716344, -0.18157493, -0.2659355 , -0.10319779, -0.24202636,\n",
      "       -0.01989184, -0.05852855, -0.02624561, -0.0882429 ,  0.00413621,\n",
      "       -0.17377071, -0.04829866, -0.0569253 , -0.18364502, -0.07312699,\n",
      "       -0.2370199 , -0.13730851, -0.01279329, -0.07698125, -0.20794381,\n",
      "       -0.05724863,  0.01823696, -0.14931469, -0.17090684, -0.05894664,\n",
      "       -0.2608464 , -0.10631425,  0.0470894 , -0.16026099, -0.15194328,\n",
      "       -0.07450411, -0.02370647, -0.25672355,  0.0050494 , -0.16728413,\n",
      "       -0.18181728, -0.15350099, -0.19155423,  0.02102023, -0.02994349,\n",
      "       -0.14847909, -0.17413728, -0.11516996, -0.09292719,  0.02145724,\n",
      "       -0.14299133, -0.24610423, -0.14178786, -0.11435636,  0.01781185,\n",
      "       -0.12258849, -0.1313976 , -0.14548174, -0.19767173, -0.16866918,\n",
      "       -0.03648835, -0.2272681 , -0.14565305, -0.03034876, -0.13923264,\n",
      "       -0.17797098, -0.25353718, -0.15842932, -0.16763286, -0.11955442,\n",
      "       -0.08350216,  0.02060103, -0.07837507, -0.05292678, -0.13665771,\n",
      "       -0.12859839, -0.00521595, -0.01066956, -0.21360302, -0.05493953,\n",
      "       -0.10970367, -0.17193878, -0.11477049, -0.08789464, -0.00599017,\n",
      "        0.04546028, -0.04747689, -0.06743706, -0.09904761,  0.01090092,\n",
      "       -0.11204771,  0.03472024, -0.17171225,  0.00595396, -0.14689943,\n",
      "       -0.14631833, -0.16680926, -0.14771038, -0.17231025,  0.01666047,\n",
      "       -0.07636229, -0.08310725, -0.19007243, -0.14660135, -0.17078601,\n",
      "       -0.14420232, -0.13611001, -0.09725551, -0.09171348, -0.04866378,\n",
      "       -0.15177184, -0.18394865, -0.03690299, -0.12020433, -0.09360403,\n",
      "       -0.11489584, -0.00766782, -0.04823919, -0.06612036, -0.10518374,\n",
      "       -0.08499718,  0.01512167, -0.09771208, -0.09298858, -0.08484538,\n",
      "        0.05046436, -0.0519117 , -0.03759558,  0.00740514, -0.12625796,\n",
      "       -0.05639974, -0.05625146, -0.13947564,  0.00912447, -0.04139424,\n",
      "        0.00105239,  0.02528776,  0.05352475,  0.01593093, -0.04228326,\n",
      "        0.01400166, -0.04638876,  0.14069109,  0.10555056,  0.04522003,\n",
      "       -0.03600527,  0.17017224,  0.0636946 ,  0.07463882,  0.05048574,\n",
      "        0.07094512,  0.04521757,  0.08863405,  0.08777469,  0.06307025,\n",
      "        0.08004625,  0.06835693,  0.05175482,  0.06262308,  0.05089367,\n",
      "        0.0840024 , -0.01424077,  0.06755725, -0.07279127,  0.07127018,\n",
      "        0.07585638, -0.15383817, -0.14947958,  0.06761549,  0.04079644,\n",
      "        0.05945981,  0.0885573 ,  0.06664466,  0.09438676,  0.15001684,\n",
      "        0.08568185,  0.13794182,  0.0983886 ,  0.14438628,  0.04378202,\n",
      "       -0.06323238, -0.06214697, -0.0278626 ,  0.15383616,  0.04605774,\n",
      "       -0.02247426, -0.02698816,  0.19341889,  0.17848504, -0.03604792,\n",
      "       -0.04306236,  0.25165996,  0.18664025,  0.10763731, -0.07891085,\n",
      "       -0.01742369,  0.12912768,  0.07459347,  0.15806282,  0.15867373,\n",
      "       -0.1027232 , -0.0107483 ,  0.04654989,  0.04263142,  0.04903582,\n",
      "       -0.09239177,  0.04996569,  0.08663241, -0.02698674, -0.06604464,\n",
      "        0.02472859,  0.01328213,  0.11726002,  0.13474835,  0.07127412,\n",
      "        0.10050423,  0.17329599,  0.22544743,  0.10140471,  0.17220227,\n",
      "        0.15083435,  0.08119331,  0.17350693,  0.24959585,  0.19179179,\n",
      "        0.14216067,  0.14528738,  0.17627645,  0.05184193,  0.20136814,\n",
      "        0.08513857,  0.14420801,  0.13443524,  0.18948632,  0.19611077],\n",
      "      dtype=float32)]\n",
      "{'name': 'dim_reduction', 'trainable': True, 'dtype': 'float32', 'function': ('4wEAAAAAAAAAAQAAAAQAAABTAAAAcwwAAAB0AHwAZAFkAo0CUwApA07pAQAAACkB2gRheGlzKQHa\\nBG1lYW4pAdoBeKkAcgUAAAD6HzxpcHl0aG9uLWlucHV0LTQ5LTQzOWZhMDllMTA1NT7aCDxsYW1i\\nZGE+DAAAAHMAAAAA\\n', None, None), 'function_type': 'lambda', 'output_shape': None, 'output_shape_type': 'raw', 'arguments': {}} []\n",
      "{'name': 'repeat_vector_1', 'trainable': True, 'dtype': 'float32', 'n': 100} []\n",
      "{'name': 'attention_vec', 'trainable': True, 'dtype': 'float32', 'dims': (2, 1)} []\n",
      "{'name': 'multiply_2', 'trainable': True, 'dtype': 'float32'} []\n",
      "{'name': 'flatten_2', 'trainable': True, 'dtype': 'float32', 'data_format': 'channels_last'} []\n",
      "{'name': 'dense_8', 'trainable': True, 'dtype': 'float32', 'units': 8, 'activation': 'softmax', 'use_bias': True, 'kernel_initializer': {'class_name': 'VarianceScaling', 'config': {'scale': 1.0, 'mode': 'fan_avg', 'distribution': 'uniform', 'seed': None}}, 'bias_initializer': {'class_name': 'Zeros', 'config': {}}, 'kernel_regularizer': None, 'bias_regularizer': None, 'activity_regularizer': None, 'kernel_constraint': None, 'bias_constraint': None} [array([[ 0.07243472, -0.09284659, -0.03123206, ..., -0.04830202,\n",
      "         0.09648057,  0.11469523],\n",
      "       [-0.04302523,  0.02150427,  0.06797891, ..., -0.02252718,\n",
      "        -0.08135066, -0.0986417 ],\n",
      "       [ 0.07421443, -0.13109593, -0.01117495, ..., -0.02093014,\n",
      "         0.07232492,  0.1078852 ],\n",
      "       ...,\n",
      "       [-0.2995747 ,  0.16336574,  0.07098014, ..., -0.06907444,\n",
      "        -0.12772056, -0.13870075],\n",
      "       [-0.10320923, -0.17472339,  0.24456547, ...,  0.02239032,\n",
      "        -0.11927661, -0.05616284],\n",
      "       [-0.01097786, -0.05348224,  0.0505876 , ..., -0.02913647,\n",
      "        -0.07565372, -0.06374033]], dtype=float32), array([-0.08292154,  0.05294249,  0.06274623,  0.04438357, -0.04214805,\n",
      "       -0.04364256, -0.13924487, -0.15487882], dtype=float32)]\n"
     ]
    }
   ],
   "source": [
    "for layer in model.layers: print(layer.get_config(), layer.get_weights())"
   ]
  },
  {
   "cell_type": "code",
   "execution_count": 59,
   "metadata": {},
   "outputs": [
    {
     "ename": "NameError",
     "evalue": "name 'dense_7' is not defined",
     "output_type": "error",
     "traceback": [
      "\u001b[0;31m---------------------------------------------------------------------------\u001b[0m",
      "\u001b[0;31mNameError\u001b[0m                                 Traceback (most recent call last)",
      "\u001b[0;32m<ipython-input-59-1bd7d717d6f5>\u001b[0m in \u001b[0;36m<module>\u001b[0;34m\u001b[0m\n\u001b[0;32m----> 1\u001b[0;31m \u001b[0mdense_7\u001b[0m\u001b[0;34m.\u001b[0m\u001b[0mget_weights\u001b[0m\u001b[0;34m(\u001b[0m\u001b[0;34m)\u001b[0m\u001b[0;34m\u001b[0m\u001b[0;34m\u001b[0m\u001b[0m\n\u001b[0m",
      "\u001b[0;31mNameError\u001b[0m: name 'dense_7' is not defined"
     ]
    }
   ],
   "source": [
    "dense_7.get_weights()"
   ]
  },
  {
   "cell_type": "code",
   "execution_count": null,
   "metadata": {},
   "outputs": [],
   "source": []
  }
 ],
 "metadata": {
  "kernelspec": {
   "display_name": "Python 3",
   "language": "python",
   "name": "python3"
  },
  "language_info": {
   "codemirror_mode": {
    "name": "ipython",
    "version": 3
   },
   "file_extension": ".py",
   "mimetype": "text/x-python",
   "name": "python",
   "nbconvert_exporter": "python",
   "pygments_lexer": "ipython3",
   "version": "3.6.8"
  }
 },
 "nbformat": 4,
 "nbformat_minor": 2
}
