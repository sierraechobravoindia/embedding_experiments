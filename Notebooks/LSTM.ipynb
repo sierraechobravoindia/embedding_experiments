{
 "cells": [
  {
   "cell_type": "code",
   "execution_count": 1,
   "metadata": {},
   "outputs": [],
   "source": [
    "import pandas as pd\n",
    "import numpy as np \n",
    "from matplotlib import pyplot as plt\n",
    "import gensim\n",
    "from gensim.models import Word2Vec, FastText, KeyedVectors\n",
    "%matplotlib inline"
   ]
  },
  {
   "cell_type": "code",
   "execution_count": 2,
   "metadata": {},
   "outputs": [
    {
     "name": "stderr",
     "output_type": "stream",
     "text": [
      "Using TensorFlow backend.\n"
     ]
    }
   ],
   "source": [
    "import tensorflow \n",
    "\n",
    "from keras import layers,optimizers, regularizers\n",
    "\n",
    "from keras.models import Sequential, Model\n",
    "\n",
    "from keras.preprocessing.sequence import pad_sequences\n",
    "from keras.preprocessing.text import one_hot, Tokenizer\n",
    "\n",
    "from keras.metrics import categorical_accuracy\n",
    "from keras.optimizers import Adam\n",
    "from keras.utils import to_categorical\n",
    "\n",
    "from keras.layers import Input, Dense, Dropout, Embedding, LSTM, Flatten, multiply\n",
    "from keras.layers import MaxPooling1D, Embedding, Bidirectional, CuDNNLSTM\n",
    "from keras.layers import MaxPooling2D, concatenate, SpatialDropout1D\n",
    "\n",
    "from keras.layers.core import Reshape, Flatten, Permute\n",
    "from keras.layers.normalization import BatchNormalization\n",
    "\n",
    "from keras.callbacks import EarlyStopping"
   ]
  },
  {
   "cell_type": "code",
   "execution_count": 3,
   "metadata": {},
   "outputs": [],
   "source": [
    "fasttext =  KeyedVectors.load_word2vec_format('../WordEmbeddings/FastText/cc.de.300.vec') \n",
    "\n",
    "#Load pretrained FastText\n",
    "#model_ft =  KeyedVectors.load_word2vec_format('../WordEmbeddings/FastText/cc.de.300.vec') \n",
    "\n",
    "#Load domain specific FastText\n",
    "#model_ds_ft = FastText.load(\"../WordEmbeddings/ft_ds.model\")\n",
    "\n",
    "#Load domain specific word2vec\n",
    "#model_ds_w2v = Word2Vec.load(\"../WordEmbeddings/w2v_ds.model\")\n"
   ]
  },
  {
   "cell_type": "code",
   "execution_count": 5,
   "metadata": {},
   "outputs": [],
   "source": [
    "test_data = pd.read_pickle(\"../Data/testset.pkl\")\n",
    "train_data = pd.read_pickle(\"../Data/trainset.pkl\")\n",
    "\n",
    "train_data=train_data[train_data.label!=\"A\"]\n",
    "test_data=test_data[test_data.label!=\"A\"]\n",
    "\n",
    "vocab_base = pd.concat([train_data, test_data])"
   ]
  },
  {
   "cell_type": "code",
   "execution_count": 7,
   "metadata": {},
   "outputs": [
    {
     "name": "stdout",
     "output_type": "stream",
     "text": [
      "Found 36785 unique tokens.\n"
     ]
    }
   ],
   "source": [
    "NUM_WORDS=20000\n",
    "tokenizer = Tokenizer(num_words=NUM_WORDS,\n",
    "                      lower=True)\n",
    "tokenizer.fit_on_texts(vocab_base.CR_s)\n",
    "sequences_train = tokenizer.texts_to_sequences(train_data.CR_s)\n",
    "sequences_test = tokenizer.texts_to_sequences(test_data.CR_s)\n",
    "word_index = tokenizer.word_index\n",
    "print('Found %s unique tokens.' % len(word_index))"
   ]
  },
  {
   "cell_type": "code",
   "execution_count": 8,
   "metadata": {},
   "outputs": [],
   "source": [
    "functions=train_data.label.unique()\n",
    "dic={}\n",
    "for i,func in enumerate(functions):\n",
    "    dic[func]=i\n",
    "train_labels=train_data.label.apply(lambda x:dic[x])\n",
    "test_labels = test_data.label.apply(lambda x:dic[x])"
   ]
  },
  {
   "cell_type": "code",
   "execution_count": 9,
   "metadata": {},
   "outputs": [
    {
     "name": "stdout",
     "output_type": "stream",
     "text": [
      "Shape of X_train and X_test tensor: (7556, 405) (841, 405)\n",
      "Shape of label train and test tensor: (7556, 8) (841, 8)\n"
     ]
    }
   ],
   "source": [
    "X_train = pad_sequences(sequences_train)\n",
    "y_train = to_categorical(np.asarray(train_labels[train_data.index]))\n",
    "\n",
    "X_test = pad_sequences(sequences_test,maxlen=X_train.shape[1])\n",
    "y_test = to_categorical(np.asarray(test_labels[test_data.index]))\n",
    "print('Shape of X_train and X_test tensor:', X_train.shape, X_test.shape)\n",
    "print('Shape of label train and test tensor:', y_train.shape, y_test.shape)"
   ]
  },
  {
   "cell_type": "code",
   "execution_count": 10,
   "metadata": {},
   "outputs": [
    {
     "name": "stderr",
     "output_type": "stream",
     "text": [
      "/usr/local/lib/python3.6/dist-packages/ipykernel_launcher.py:2: DeprecationWarning: Call to deprecated `wv` (Attribute will be removed in 4.0.0, use self instead).\n",
      "  \n"
     ]
    }
   ],
   "source": [
    "#Hier kann man zwischen den Embeddings umschalten!\n",
    "embed=fasttext\n",
    "\n",
    "\n",
    "pretrained_weights = embed.wv.vectors\n",
    "vocab_size, emdedding_size = pretrained_weights.shape"
   ]
  },
  {
   "cell_type": "code",
   "execution_count": 11,
   "metadata": {},
   "outputs": [],
   "source": [
    "# Alternaticve Möglichkeit mit keras-Bordmitteln???\n",
    "# https://stackoverflow.com/questions/51492778/how-to-properly-use-get-keras-embedding-in-gensim-s-word2vec\n",
    "\n",
    "MAX_NB_WORDS = len(word_index)\n",
    "EMBEDDING_DIM = emdedding_size\n",
    "nb_words = len(word_index)+1\n",
    "# we initialize the matrix with random numbers\n",
    "ft_matrix = (np.random.rand(nb_words, EMBEDDING_DIM) - 0.5) / 5.0\n",
    "for word, i in word_index.items():\n",
    "    if i >= MAX_NB_WORDS:\n",
    "        continue\n",
    "    try:\n",
    "        embedding_vector = embed.wv[word]\n",
    "        # words not found in embedding index will be all-zeros.\n",
    "        ft_matrix[i] = embedding_vector\n",
    "    except:\n",
    "        pass        "
   ]
  },
  {
   "cell_type": "code",
   "execution_count": 31,
   "metadata": {},
   "outputs": [
    {
     "name": "stdout",
     "output_type": "stream",
     "text": [
      "[ 0.59216301  3.02724359  2.04437229  5.72424242  0.363409   10.15591398\n",
      "  9.35148515  0.42373262]\n",
      "[ 0.54468912  3.18560606  2.14540816  4.38020833  0.38507326 17.52083333\n",
      " 13.140625    0.4122549 ]\n"
     ]
    }
   ],
   "source": [
    "from sklearn.utils import class_weight\n",
    "class_weights = class_weight.compute_class_weight('balanced',\n",
    "                                                 np.unique(train_data.label),\n",
    "                                                 train_data.label)\n",
    "print(class_weights)\n",
    "\n",
    "# Run this with test_data and compare!\n",
    "\n",
    "class_weights_test = class_weight.compute_class_weight('balanced',\n",
    "                                                 np.unique(test_data.label),\n",
    "                                                 test_data.label)\n",
    "print(class_weights_test)\n",
    "\n",
    "# Wäre noch eine Baustelle, hier nochmal zu mergen und durchzumischen. \n",
    "# Aber so in erster Näherung ok... "
   ]
  },
  {
   "cell_type": "code",
   "execution_count": 14,
   "metadata": {},
   "outputs": [],
   "source": [
    "# Source: Modified version of:  https://github.com/philipperemy/keras-attention-mechanism\n",
    "\n",
    "SINGLE_ATTENTION_VECTOR = False\n",
    "\n",
    "def attention_3d_block(inputs):\n",
    "    # inputs.shape = (batch_size, time_steps, input_dim)\n",
    "    input_dim = int(inputs.shape[2])\n",
    "    a = Permute((2, 1))(inputs)\n",
    "    #a = Reshape((input_dim, input_dim))(a) # this line is not useful. It's just to know which dimension is what.\n",
    "    a = Dense(405, activation='softmax')(a)\n",
    "    if SINGLE_ATTENTION_VECTOR:\n",
    "        a = Lambda(lambda x: K.mean(x, axis=1), name='dim_reduction')(a)\n",
    "        a = RepeatVector(input_dim)(a)\n",
    "    a_probs = Permute((2, 1), name='attention_vec')(a)\n",
    "    # output_attention_mul = merge([inputs, a_probs], name='attention_mul', mode='mul')\n",
    "    output_attention_mul = multiply([inputs, a_probs])\n",
    "    return output_attention_mul"
   ]
  },
  {
   "cell_type": "code",
   "execution_count": 15,
   "metadata": {},
   "outputs": [
    {
     "name": "stderr",
     "output_type": "stream",
     "text": [
      "/usr/local/lib/python3.6/dist-packages/ipykernel_launcher.py:16: UserWarning: Update your `Model` call to the Keras 2 API: `Model(inputs=[<tf.Tenso..., outputs=Tensor(\"de...)`\n",
      "  app.launch_new_instance()\n"
     ]
    }
   ],
   "source": [
    "vocab_size = len(tokenizer.word_index) + 1\n",
    "input_dim = X_train.shape[1]  # length padded sequences\n",
    "\n",
    "inputs = Input(name='inputs',shape=[input_dim])\n",
    "layer = Embedding(input_dim=vocab_size, \n",
    "                            output_dim=EMBEDDING_DIM, \n",
    "                            weights=[ft_matrix],\n",
    "                            trainable=False)(inputs)\n",
    "lstm_out = LSTM(100,dropout=0.2,recurrent_dropout=0.2, return_sequences=True)(layer)\n",
    "lstm_out = Dropout(0.2)(lstm_out)\n",
    "attention_mul = attention_3d_block(lstm_out)\n",
    "attention_mul = Flatten()(attention_mul)\n",
    "output = Dense(len(functions), activation='softmax')(attention_mul)\n",
    "\n",
    "\n",
    "model = Model(input=[inputs], output=output)"
   ]
  },
  {
   "cell_type": "code",
   "execution_count": 16,
   "metadata": {},
   "outputs": [
    {
     "name": "stdout",
     "output_type": "stream",
     "text": [
      "Model: \"model_1\"\n",
      "__________________________________________________________________________________________________\n",
      "Layer (type)                    Output Shape         Param #     Connected to                     \n",
      "==================================================================================================\n",
      "inputs (InputLayer)             (None, 405)          0                                            \n",
      "__________________________________________________________________________________________________\n",
      "embedding_1 (Embedding)         (None, 405, 300)     11035800    inputs[0][0]                     \n",
      "__________________________________________________________________________________________________\n",
      "lstm_1 (LSTM)                   (None, 405, 100)     160400      embedding_1[0][0]                \n",
      "__________________________________________________________________________________________________\n",
      "dropout_1 (Dropout)             (None, 405, 100)     0           lstm_1[0][0]                     \n",
      "__________________________________________________________________________________________________\n",
      "permute_1 (Permute)             (None, 100, 405)     0           dropout_1[0][0]                  \n",
      "__________________________________________________________________________________________________\n",
      "dense_1 (Dense)                 (None, 100, 405)     164430      permute_1[0][0]                  \n",
      "__________________________________________________________________________________________________\n",
      "attention_vec (Permute)         (None, 405, 100)     0           dense_1[0][0]                    \n",
      "__________________________________________________________________________________________________\n",
      "multiply_1 (Multiply)           (None, 405, 100)     0           dropout_1[0][0]                  \n",
      "                                                                 attention_vec[0][0]              \n",
      "__________________________________________________________________________________________________\n",
      "flatten_1 (Flatten)             (None, 40500)        0           multiply_1[0][0]                 \n",
      "__________________________________________________________________________________________________\n",
      "dense_2 (Dense)                 (None, 8)            324008      flatten_1[0][0]                  \n",
      "==================================================================================================\n",
      "Total params: 11,684,638\n",
      "Trainable params: 648,838\n",
      "Non-trainable params: 11,035,800\n",
      "__________________________________________________________________________________________________\n"
     ]
    }
   ],
   "source": [
    "model.compile(loss='categorical_crossentropy', optimizer='adam', metrics=['accuracy'])\n",
    "model.summary()"
   ]
  },
  {
   "cell_type": "code",
   "execution_count": 29,
   "metadata": {},
   "outputs": [
    {
     "name": "stdout",
     "output_type": "stream",
     "text": [
      "Train on 7556 samples, validate on 841 samples\n",
      "Epoch 1/3\n",
      "7556/7556 [==============================] - 125s 17ms/step - loss: 1.2205 - accuracy: 0.5401 - val_loss: 1.1433 - val_accuracy: 0.5767\n",
      "Epoch 2/3\n",
      "7556/7556 [==============================] - 127s 17ms/step - loss: 1.1485 - accuracy: 0.5864 - val_loss: 1.0169 - val_accuracy: 0.6445\n",
      "Epoch 3/3\n",
      "7556/7556 [==============================] - 124s 16ms/step - loss: 1.1243 - accuracy: 0.5997 - val_loss: 1.0118 - val_accuracy: 0.6397\n"
     ]
    }
   ],
   "source": [
    "history = model.fit(X_train, y_train,\n",
    "                    validation_split=0.2,\n",
    "                    validation_data=(X_test, y_test),\n",
    "                    epochs=3, \n",
    "                    batch_size=16,\n",
    "                    callbacks=[EarlyStopping(monitor='val_loss', patience=3, min_delta=0.0001)], \n",
    "                    shuffle=True,\n",
    "                    class_weight=class_weights\n",
    "                   )"
   ]
  },
  {
   "cell_type": "code",
   "execution_count": 26,
   "metadata": {},
   "outputs": [
    {
     "data": {
      "image/png": "[encoded data removed]",
      "text/plain": [
       "<matplotlib.figure.Figure at 0x7ff1ede63f60>"
      ]
     },
     "metadata": {
      "needs_background": "light"
     },
     "output_type": "display_data"
    }
   ],
   "source": [
    "plt.figure(figsize=(8,8));\n",
    "plt.plot(history.history['accuracy'])\n",
    "plt.plot(history.history['val_accuracy'])\n",
    "plt.title('model accuracy')\n",
    "plt.ylabel('accuracy')\n",
    "plt.xlabel('epoch')\n",
    "plt.legend(['train', 'val'], loc='upper left')\n",
    "plt.show()"
   ]
  },
  {
   "cell_type": "code",
   "execution_count": 27,
   "metadata": {},
   "outputs": [
    {
     "data": {
      "image/png": "[encoded data removed]",
      "text/plain": [
       "<matplotlib.figure.Figure at 0x7ff1edf5a828>"
      ]
     },
     "metadata": {
      "needs_background": "light"
     },
     "output_type": "display_data"
    }
   ],
   "source": [
    "plt.figure(figsize=(8,8));\n",
    "plt.plot(history.history['loss'])\n",
    "plt.plot(history.history['val_loss'])\n",
    "plt.title('model loss')\n",
    "plt.ylabel('loss')\n",
    "plt.xlabel('epoch')\n",
    "plt.legend(['train', 'val'], loc='upper left')\n",
    "plt.show()"
   ]
  },
  {
   "cell_type": "code",
   "execution_count": 28,
   "metadata": {},
   "outputs": [
    {
     "name": "stdout",
     "output_type": "stream",
     "text": [
      "841/841 [==============================] - 3s 3ms/step\n",
      "[1.1817815217336776, 0.5350772738456726]\n",
      "['loss', 'accuracy']\n"
     ]
    }
   ],
   "source": [
    "print(model.evaluate(X_test,y_test))\n",
    "print(model.metrics_names)"
   ]
  },
  {
   "cell_type": "code",
   "execution_count": null,
   "metadata": {},
   "outputs": [],
   "source": []
  }
 ],
 "metadata": {
  "kernelspec": {
   "display_name": "Python 3",
   "language": "python",
   "name": "python3"
  },
  "language_info": {
   "codemirror_mode": {
    "name": "ipython",
    "version": 3
   },
   "file_extension": ".py",
   "mimetype": "text/x-python",
   "name": "python",
   "nbconvert_exporter": "python",
   "pygments_lexer": "ipython3",
   "version": "3.6.8"
  }
 },
 "nbformat": 4,
 "nbformat_minor": 2
}
