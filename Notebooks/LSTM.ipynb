{
 "cells": [
  {
   "cell_type": "code",
   "execution_count": 1,
   "metadata": {},
   "outputs": [],
   "source": [
    "import pandas as pd\n",
    "import numpy as np \n",
    "from matplotlib import pyplot as plt\n",
    "import gensim\n",
    "from gensim.models import Word2Vec, FastText, KeyedVectors\n",
    "%matplotlib inline"
   ]
  },
  {
   "cell_type": "code",
   "execution_count": 2,
   "metadata": {},
   "outputs": [
    {
     "name": "stderr",
     "output_type": "stream",
     "text": [
      "Using TensorFlow backend.\n"
     ]
    }
   ],
   "source": [
    "import tensorflow \n",
    "\n",
    "\n",
    "from keras import layers,optimizers, regularizers\n",
    "\n",
    "from keras.models import Sequential, Model\n",
    "\n",
    "from keras.preprocessing.sequence import pad_sequences\n",
    "from keras.preprocessing.text import one_hot, Tokenizer\n",
    "\n",
    "from keras.metrics import categorical_accuracy\n",
    "from keras.optimizers import Adam\n",
    "from keras.utils import to_categorical\n",
    "from keras.backend import mean\n",
    "\n",
    "from keras.layers import Input, Dense, Dropout, Embedding, LSTM, Flatten, multiply, Lambda\n",
    "from keras.layers import MaxPooling1D, Embedding, Bidirectional, CuDNNLSTM, RepeatVector\n",
    "from keras.layers import MaxPooling2D, concatenate, SpatialDropout1D\n",
    "\n",
    "from keras.layers.core import Reshape, Flatten, Permute\n",
    "from keras.layers.normalization import BatchNormalization\n",
    "\n",
    "from keras.callbacks import EarlyStopping"
   ]
  },
  {
   "cell_type": "code",
   "execution_count": 3,
   "metadata": {},
   "outputs": [],
   "source": [
    "#fasttext =  KeyedVectors.load_word2vec_format('../WordEmbeddings/FastText/cc.de.300.vec') \n",
    "\n",
    "#Load pretrained FastText\n",
    "model_ft =  KeyedVectors.load_word2vec_format('../WordEmbeddings/FastText/cc.de.300.vec') \n",
    "\n",
    "#Load domain specific FastText\n",
    "model_ds_ft = FastText.load(\"../WordEmbeddings/ft_ds.model\")\n",
    "\n",
    "#Load domain specific word2vec\n",
    "model_ds_w2v = Word2Vec.load(\"../WordEmbeddings/w2v_ds.model\")\n"
   ]
  },
  {
   "cell_type": "code",
   "execution_count": 4,
   "metadata": {},
   "outputs": [],
   "source": [
    "test_data = pd.read_pickle(\"../Data/testset.pkl\")\n",
    "train_data = pd.read_pickle(\"../Data/trainset.pkl\")\n",
    "\n",
    "train_data=train_data[train_data.label!=\"A\"]\n",
    "test_data=test_data[test_data.label!=\"A\"]\n",
    "\n",
    "vocab_base = pd.concat([train_data, test_data])"
   ]
  },
  {
   "cell_type": "code",
   "execution_count": 5,
   "metadata": {},
   "outputs": [
    {
     "name": "stdout",
     "output_type": "stream",
     "text": [
      "Found 36785 unique tokens.\n"
     ]
    }
   ],
   "source": [
    "NUM_WORDS=20000\n",
    "tokenizer = Tokenizer(num_words=NUM_WORDS,\n",
    "                      lower=True)\n",
    "tokenizer.fit_on_texts(vocab_base.CR_s)\n",
    "sequences_train = tokenizer.texts_to_sequences(train_data.CR_s)\n",
    "sequences_test = tokenizer.texts_to_sequences(test_data.CR_s)\n",
    "word_index = tokenizer.word_index\n",
    "print('Found %s unique tokens.' % len(word_index))"
   ]
  },
  {
   "cell_type": "code",
   "execution_count": 47,
   "metadata": {},
   "outputs": [],
   "source": [
    "functions=train_data.label.unique()\n",
    "dic={}\n",
    "for i,func in enumerate(functions):\n",
    "    dic[func]=i\n",
    "train_labels=train_data.label.apply(lambda x:dic[x])\n",
    "test_labels = test_data.label.apply(lambda x:dic[x])\n",
    "y_test_multiclass = test_labels.tolist() #needed later for confusion matrix"
   ]
  },
  {
   "cell_type": "code",
   "execution_count": 18,
   "metadata": {},
   "outputs": [
    {
     "name": "stdout",
     "output_type": "stream",
     "text": [
      "Shape of X_train and X_test tensor: (7556, 405) (841, 405)\n",
      "Shape of label train and test tensor: (7556, 8) (841, 8)\n"
     ]
    }
   ],
   "source": [
    "X_train = pad_sequences(sequences_train)\n",
    "y_train = to_categorical(np.asarray(train_labels[train_data.index]))\n",
    "\n",
    "X_test = pad_sequences(sequences_test,maxlen=X_train.shape[1])\n",
    "y_test = to_categorical(np.asarray(test_labels[test_data.index]))\n",
    "print('Shape of X_train and X_test tensor:', X_train.shape, X_test.shape)\n",
    "print('Shape of label train and test tensor:', y_train.shape, y_test.shape)"
   ]
  },
  {
   "cell_type": "code",
   "execution_count": 58,
   "metadata": {},
   "outputs": [
    {
     "name": "stderr",
     "output_type": "stream",
     "text": [
      "/usr/local/lib/python3.6/dist-packages/ipykernel_launcher.py:4: DeprecationWarning: Call to deprecated `wv` (Attribute will be removed in 4.0.0, use self instead).\n",
      "  after removing the cwd from sys.path.\n"
     ]
    }
   ],
   "source": [
    "#Hier kann man zwischen den Embeddings umschalten!\n",
    "embed=model_ft\n",
    "\n",
    "pretrained_weights = embed.wv.vectors\n",
    "vocab_size, emdedding_size = pretrained_weights.shape"
   ]
  },
  {
   "cell_type": "code",
   "execution_count": 59,
   "metadata": {},
   "outputs": [
    {
     "name": "stderr",
     "output_type": "stream",
     "text": [
      "/usr/local/lib/python3.6/dist-packages/ipykernel_launcher.py:13: DeprecationWarning: Call to deprecated `wv` (Attribute will be removed in 4.0.0, use self instead).\n",
      "  del sys.path[0]\n"
     ]
    }
   ],
   "source": [
    "# Alternaticve Möglichkeit mit keras-Bordmitteln???\n",
    "# https://stackoverflow.com/questions/51492778/how-to-properly-use-get-keras-embedding-in-gensim-s-word2vec\n",
    "\n",
    "MAX_NB_WORDS = len(word_index)\n",
    "EMBEDDING_DIM = emdedding_size\n",
    "nb_words = len(word_index)+1\n",
    "# we initialize the matrix with random numbers\n",
    "ft_matrix = (np.random.rand(nb_words, EMBEDDING_DIM) - 0.5) / 5.0\n",
    "for word, i in word_index.items():\n",
    "    if i >= MAX_NB_WORDS:\n",
    "        continue\n",
    "    try:\n",
    "        embedding_vector = embed.wv[word]\n",
    "        # words not found in embedding index will be all-zeros.\n",
    "        ft_matrix[i] = embedding_vector\n",
    "    except:\n",
    "        pass        "
   ]
  },
  {
   "cell_type": "code",
   "execution_count": 60,
   "metadata": {},
   "outputs": [
    {
     "name": "stdout",
     "output_type": "stream",
     "text": [
      "[ 0.59216301  3.02724359  2.04437229  5.72424242  0.363409   10.15591398\n",
      "  9.35148515  0.42373262]\n",
      "[ 0.54468912  3.18560606  2.14540816  4.38020833  0.38507326 17.52083333\n",
      " 13.140625    0.4122549 ]\n"
     ]
    }
   ],
   "source": [
    "from sklearn.utils import class_weight\n",
    "class_weights = class_weight.compute_class_weight('balanced',\n",
    "                                                 np.unique(train_data.label),\n",
    "                                                 train_data.label)\n",
    "print(class_weights)\n",
    "\n",
    "# Run this with test_data and compare!\n",
    "\n",
    "class_weights_test = class_weight.compute_class_weight('balanced',\n",
    "                                                 np.unique(test_data.label),\n",
    "                                                 test_data.label)\n",
    "print(class_weights_test)\n",
    "\n",
    "# Wäre noch eine Baustelle, hier nochmal zu mergen und durchzumischen. \n",
    "# Aber so in erster Näherung ok... "
   ]
  },
  {
   "cell_type": "code",
   "execution_count": 61,
   "metadata": {},
   "outputs": [],
   "source": [
    "# Source: Modified version of:  https://github.com/philipperemy/keras-attention-mechanism\n",
    "\n",
    "SINGLE_ATTENTION_VECTOR = False\n",
    "\n",
    "def attention_3d_block(inputs):\n",
    "    # inputs.shape = (batch_size, time_steps, input_dim)\n",
    "    input_dim = int(inputs.shape[2])\n",
    "    a = Permute((2, 1))(inputs) #Dense layer operates only on last dimension of array. hence we rotate time in last place\n",
    "    a = Dense(405, activation='softmax')(a) #Weights are the attention matrix: 405 x 405 \n",
    "    if SINGLE_ATTENTION_VECTOR: #if single layer, then take mean over all hidden dimensions, then broadcast mean back over hidden dimensiosn\n",
    "        a = Lambda(lambda x: mean(x, axis=1), name='dim_reduction')(a)\n",
    "        a = RepeatVector(input_dim)(a)\n",
    "    a_probs = Permute((2, 1), name='attention_vec')(a) #permute time back in second place, hidden dimensions back to last\n",
    "    # output_attention_mul = merge([inputs, a_probs], name='attention_mul', mode='mul')\n",
    "    output_attention_mul = multiply([inputs, a_probs])\n",
    "    return output_attention_mul"
   ]
  },
  {
   "cell_type": "code",
   "execution_count": 62,
   "metadata": {},
   "outputs": [
    {
     "name": "stderr",
     "output_type": "stream",
     "text": [
      "/usr/local/lib/python3.6/dist-packages/ipykernel_launcher.py:16: UserWarning: Update your `Model` call to the Keras 2 API: `Model(inputs=[<tf.Tenso..., outputs=Tensor(\"de...)`\n",
      "  app.launch_new_instance()\n"
     ]
    }
   ],
   "source": [
    "vocab_size = len(tokenizer.word_index) + 1\n",
    "input_dim = X_train.shape[1]  # length padded sequences\n",
    "\n",
    "inputs = Input(name='inputs',shape=[input_dim])\n",
    "layer = Embedding(input_dim=vocab_size, \n",
    "                            output_dim=EMBEDDING_DIM, \n",
    "                            weights=[ft_matrix],\n",
    "                            trainable=False)(inputs)\n",
    "lstm_out = LSTM(80,dropout=0.4,recurrent_dropout=0.4, return_sequences=True)(layer)\n",
    "lstm_out = Dropout(0.4)(lstm_out)\n",
    "attention_mul = attention_3d_block(lstm_out)\n",
    "attention_mul = Flatten()(attention_mul)\n",
    "output = Dense(len(functions), activation='softmax')(attention_mul)\n",
    "\n",
    "\n",
    "model = Model(input=[inputs], output=output)"
   ]
  },
  {
   "cell_type": "code",
   "execution_count": 63,
   "metadata": {
    "scrolled": true
   },
   "outputs": [
    {
     "name": "stdout",
     "output_type": "stream",
     "text": [
      "Model: \"model_5\"\n",
      "__________________________________________________________________________________________________\n",
      "Layer (type)                    Output Shape         Param #     Connected to                     \n",
      "==================================================================================================\n",
      "inputs (InputLayer)             (None, 405)          0                                            \n",
      "__________________________________________________________________________________________________\n",
      "embedding_5 (Embedding)         (None, 405, 300)     11035800    inputs[0][0]                     \n",
      "__________________________________________________________________________________________________\n",
      "lstm_5 (LSTM)                   (None, 405, 80)      121920      embedding_5[0][0]                \n",
      "__________________________________________________________________________________________________\n",
      "dropout_5 (Dropout)             (None, 405, 80)      0           lstm_5[0][0]                     \n",
      "__________________________________________________________________________________________________\n",
      "permute_5 (Permute)             (None, 80, 405)      0           dropout_5[0][0]                  \n",
      "__________________________________________________________________________________________________\n",
      "dense_9 (Dense)                 (None, 80, 405)      164430      permute_5[0][0]                  \n",
      "__________________________________________________________________________________________________\n",
      "attention_vec (Permute)         (None, 405, 80)      0           dense_9[0][0]                    \n",
      "__________________________________________________________________________________________________\n",
      "multiply_5 (Multiply)           (None, 405, 80)      0           dropout_5[0][0]                  \n",
      "                                                                 attention_vec[0][0]              \n",
      "__________________________________________________________________________________________________\n",
      "flatten_5 (Flatten)             (None, 32400)        0           multiply_5[0][0]                 \n",
      "__________________________________________________________________________________________________\n",
      "dense_10 (Dense)                (None, 8)            259208      flatten_5[0][0]                  \n",
      "==================================================================================================\n",
      "Total params: 11,581,358\n",
      "Trainable params: 545,558\n",
      "Non-trainable params: 11,035,800\n",
      "__________________________________________________________________________________________________\n"
     ]
    }
   ],
   "source": [
    "model.compile(loss='categorical_crossentropy', optimizer='adam', metrics=['accuracy'])\n",
    "model.summary()"
   ]
  },
  {
   "cell_type": "code",
   "execution_count": null,
   "metadata": {},
   "outputs": [
    {
     "name": "stdout",
     "output_type": "stream",
     "text": [
      "Train on 7556 samples, validate on 841 samples\n",
      "Epoch 1/50\n",
      "7556/7556 [==============================] - 129s 17ms/step - loss: 1.5832 - accuracy: 0.3334 - val_loss: 1.5505 - val_accuracy: 0.3032\n",
      "Epoch 2/50\n",
      "7556/7556 [==============================] - 129s 17ms/step - loss: 1.5598 - accuracy: 0.3344 - val_loss: 1.5014 - val_accuracy: 0.3246\n",
      "Epoch 3/50\n",
      "7556/7556 [==============================] - 129s 17ms/step - loss: 1.4858 - accuracy: 0.3487 - val_loss: 1.4207 - val_accuracy: 0.3413\n",
      "Epoch 4/50\n",
      "7556/7556 [==============================] - 129s 17ms/step - loss: 1.4426 - accuracy: 0.3679 - val_loss: 1.3104 - val_accuracy: 0.4376\n",
      "Epoch 5/50\n",
      "7556/7556 [==============================] - 129s 17ms/step - loss: 1.3711 - accuracy: 0.4263 - val_loss: 1.2319 - val_accuracy: 0.4875\n",
      "Epoch 6/50\n",
      "7556/7556 [==============================] - 129s 17ms/step - loss: 1.2912 - accuracy: 0.4964 - val_loss: 1.1606 - val_accuracy: 0.5541\n",
      "Epoch 7/50\n",
      "7556/7556 [==============================] - 130s 17ms/step - loss: 1.2374 - accuracy: 0.5267 - val_loss: 1.0940 - val_accuracy: 0.6195\n",
      "Epoch 8/50\n",
      "7556/7556 [==============================] - 129s 17ms/step - loss: 1.1884 - accuracy: 0.5627 - val_loss: 1.0618 - val_accuracy: 0.6219\n",
      "Epoch 9/50\n",
      "7556/7556 [==============================] - 129s 17ms/step - loss: 1.1525 - accuracy: 0.5840 - val_loss: 1.0281 - val_accuracy: 0.6361\n",
      "Epoch 10/50\n",
      "7556/7556 [==============================] - 129s 17ms/step - loss: 1.1078 - accuracy: 0.5973 - val_loss: 0.9801 - val_accuracy: 0.6576\n",
      "Epoch 11/50\n",
      "7556/7556 [==============================] - 129s 17ms/step - loss: 1.0791 - accuracy: 0.6079 - val_loss: 0.9561 - val_accuracy: 0.6552\n",
      "Epoch 12/50\n",
      "7556/7556 [==============================] - 128s 17ms/step - loss: 1.0436 - accuracy: 0.6297 - val_loss: 0.9192 - val_accuracy: 0.6813\n",
      "Epoch 13/50\n",
      "7556/7556 [==============================] - 128s 17ms/step - loss: 1.0128 - accuracy: 0.6330 - val_loss: 0.8972 - val_accuracy: 0.6968\n",
      "Epoch 14/50\n",
      "7556/7556 [==============================] - 128s 17ms/step - loss: 0.9901 - accuracy: 0.6453 - val_loss: 0.8732 - val_accuracy: 0.6992\n",
      "Epoch 15/50\n",
      "7556/7556 [==============================] - 128s 17ms/step - loss: 0.9724 - accuracy: 0.6437 - val_loss: 0.8551 - val_accuracy: 0.6932\n",
      "Epoch 16/50\n",
      "7556/7556 [==============================] - 127s 17ms/step - loss: 0.9406 - accuracy: 0.6511 - val_loss: 0.8387 - val_accuracy: 0.7015\n",
      "Epoch 17/50\n",
      "7556/7556 [==============================] - 127s 17ms/step - loss: 0.9087 - accuracy: 0.6788 - val_loss: 0.8352 - val_accuracy: 0.6992\n",
      "Epoch 18/50\n",
      "7556/7556 [==============================] - 127s 17ms/step - loss: 0.9009 - accuracy: 0.6750 - val_loss: 0.7986 - val_accuracy: 0.7063\n",
      "Epoch 19/50\n",
      "7556/7556 [==============================] - 128s 17ms/step - loss: 0.8813 - accuracy: 0.6897 - val_loss: 0.7809 - val_accuracy: 0.7134\n",
      "Epoch 20/50\n",
      "7556/7556 [==============================] - 128s 17ms/step - loss: 0.8607 - accuracy: 0.6897 - val_loss: 0.7664 - val_accuracy: 0.7241\n",
      "Epoch 21/50\n",
      "7556/7556 [==============================] - 128s 17ms/step - loss: 0.8401 - accuracy: 0.6949 - val_loss: 0.7475 - val_accuracy: 0.7396\n",
      "Epoch 22/50\n",
      "7556/7556 [==============================] - 129s 17ms/step - loss: 0.8224 - accuracy: 0.7026 - val_loss: 0.7494 - val_accuracy: 0.7515\n",
      "Epoch 23/50\n",
      "7556/7556 [==============================] - 129s 17ms/step - loss: 0.7952 - accuracy: 0.7053 - val_loss: 0.7418 - val_accuracy: 0.7384\n",
      "Epoch 24/50\n",
      "7556/7556 [==============================] - 129s 17ms/step - loss: 0.7905 - accuracy: 0.7121 - val_loss: 0.7265 - val_accuracy: 0.7503\n",
      "Epoch 25/50\n",
      "7556/7556 [==============================] - 131s 17ms/step - loss: 0.7684 - accuracy: 0.7237 - val_loss: 0.7267 - val_accuracy: 0.7646\n",
      "Epoch 26/50\n",
      "7556/7556 [==============================] - 131s 17ms/step - loss: 0.7556 - accuracy: 0.7243 - val_loss: 0.7004 - val_accuracy: 0.7527\n",
      "Epoch 27/50\n",
      "7556/7556 [==============================] - 130s 17ms/step - loss: 0.7300 - accuracy: 0.7343 - val_loss: 0.6806 - val_accuracy: 0.7634\n",
      "Epoch 28/50\n",
      "7556/7556 [==============================] - 131s 17ms/step - loss: 0.7138 - accuracy: 0.7364 - val_loss: 0.6740 - val_accuracy: 0.7753\n",
      "Epoch 29/50\n",
      "7556/7556 [==============================] - 131s 17ms/step - loss: 0.7047 - accuracy: 0.7373 - val_loss: 0.6877 - val_accuracy: 0.7729\n",
      "Epoch 30/50\n",
      "7556/7556 [==============================] - 130s 17ms/step - loss: 0.6867 - accuracy: 0.7501 - val_loss: 0.6714 - val_accuracy: 0.7729\n",
      "Epoch 31/50\n",
      "7556/7556 [==============================] - 134s 18ms/step - loss: 0.6637 - accuracy: 0.7571 - val_loss: 0.6532 - val_accuracy: 0.7943\n",
      "Epoch 32/50\n",
      "7556/7556 [==============================] - 132s 17ms/step - loss: 0.6561 - accuracy: 0.7578 - val_loss: 0.6605 - val_accuracy: 0.7824\n",
      "Epoch 33/50\n",
      "7556/7556 [==============================] - 132s 17ms/step - loss: 0.6452 - accuracy: 0.7615 - val_loss: 0.6460 - val_accuracy: 0.7967\n",
      "Epoch 34/50\n",
      "7556/7556 [==============================] - 133s 18ms/step - loss: 0.6296 - accuracy: 0.7688 - val_loss: 0.6351 - val_accuracy: 0.7765\n",
      "Epoch 35/50\n",
      "7556/7556 [==============================] - 136s 18ms/step - loss: 0.6142 - accuracy: 0.7732 - val_loss: 0.6341 - val_accuracy: 0.7800\n",
      "Epoch 36/50\n",
      "7556/7556 [==============================] - 130s 17ms/step - loss: 0.5959 - accuracy: 0.7791 - val_loss: 0.6401 - val_accuracy: 0.7741\n",
      "Epoch 37/50\n",
      "7556/7556 [==============================] - 129s 17ms/step - loss: 0.5867 - accuracy: 0.7869 - val_loss: 0.6154 - val_accuracy: 0.7955\n",
      "Epoch 38/50\n",
      "7556/7556 [==============================] - 128s 17ms/step - loss: 0.5701 - accuracy: 0.7918 - val_loss: 0.6044 - val_accuracy: 0.8026\n",
      "Epoch 39/50\n",
      "7556/7556 [==============================] - 129s 17ms/step - loss: 0.5637 - accuracy: 0.7969 - val_loss: 0.6087 - val_accuracy: 0.7848\n",
      "Epoch 40/50\n",
      "7556/7556 [==============================] - 130s 17ms/step - loss: 0.5542 - accuracy: 0.7935 - val_loss: 0.6271 - val_accuracy: 0.7848\n",
      "Epoch 41/50\n",
      "7556/7556 [==============================] - 129s 17ms/step - loss: 0.5386 - accuracy: 0.7996 - val_loss: 0.5873 - val_accuracy: 0.8014\n",
      "Epoch 42/50\n",
      "7556/7556 [==============================] - 128s 17ms/step - loss: 0.5105 - accuracy: 0.8145 - val_loss: 0.5977 - val_accuracy: 0.7943\n",
      "Epoch 43/50\n",
      "7556/7556 [==============================] - 128s 17ms/step - loss: 0.5129 - accuracy: 0.8105 - val_loss: 0.5873 - val_accuracy: 0.8014\n",
      "Epoch 44/50\n",
      " 752/7556 [=>............................] - ETA: 1:50 - loss: 0.4835 - accuracy: 0.8231"
     ]
    }
   ],
   "source": [
    "history = model.fit(X_train, y_train,\n",
    "                    validation_split=0,\n",
    "                    validation_data=(X_test, y_test),\n",
    "                    epochs=50, \n",
    "                    batch_size=16,\n",
    "                    callbacks=[EarlyStopping(monitor='val_loss', patience=3, min_delta=0.0001)], \n",
    "                    shuffle=True,\n",
    "                    class_weight=class_weights\n",
    "                   )"
   ]
  },
  {
   "cell_type": "code",
   "execution_count": 55,
   "metadata": {},
   "outputs": [
    {
     "data": {
      "image/png": "[encoded data removed]",
      "text/plain": [
       "<matplotlib.figure.Figure at 0x7f6624c90c88>"
      ]
     },
     "metadata": {
      "needs_background": "light"
     },
     "output_type": "display_data"
    }
   ],
   "source": [
    "plt.figure(figsize=(8,8));\n",
    "plt.plot(history.history['accuracy'])\n",
    "plt.plot(history.history['val_accuracy'])\n",
    "plt.title('model accuracy')\n",
    "plt.ylabel('accuracy')\n",
    "plt.xlabel('epoch')\n",
    "plt.legend(['train', 'val'], loc='upper left')\n",
    "plt.show()"
   ]
  },
  {
   "cell_type": "code",
   "execution_count": 56,
   "metadata": {},
   "outputs": [
    {
     "data": {
      "image/png": "[encoded data removed]",
      "text/plain": [
       "<matplotlib.figure.Figure at 0x7f631271c400>"
      ]
     },
     "metadata": {
      "needs_background": "light"
     },
     "output_type": "display_data"
    }
   ],
   "source": [
    "plt.figure(figsize=(8,8));\n",
    "plt.plot(history.history['loss'])\n",
    "plt.plot(history.history['val_loss'])\n",
    "plt.title('model loss')\n",
    "plt.ylabel('loss')\n",
    "plt.xlabel('epoch')\n",
    "plt.legend(['train', 'val'], loc='upper left')\n",
    "plt.show()"
   ]
  },
  {
   "cell_type": "code",
   "execution_count": 57,
   "metadata": {},
   "outputs": [
    {
     "name": "stdout",
     "output_type": "stream",
     "text": [
      "841/841 [==============================] - 3s 4ms/step\n",
      "[0.527598113742935, 0.8192628026008606]\n",
      "['loss', 'accuracy']\n"
     ]
    }
   ],
   "source": [
    "print(model.evaluate(X_test,y_test))\n",
    "print(model.metrics_names)"
   ]
  },
  {
   "cell_type": "code",
   "execution_count": 45,
   "metadata": {},
   "outputs": [
    {
     "name": "stdout",
     "output_type": "stream",
     "text": [
      "[[ 22   0   1   1   0   0   0   0]\n",
      " [  0 174  12   3   1   3   0   0]\n",
      " [  0   5 215  20   7   8   0   0]\n",
      " [  0  10  17 234   5   5   2   0]\n",
      " [  0   0   1   3  29   0   0   0]\n",
      " [  0   7   9   8   3  21   0   1]\n",
      " [  0   0   3   3   0   0   2   0]\n",
      " [  0   0   1   0   0   0   0   5]]\n"
     ]
    },
    {
     "data": {
      "text/plain": [
       "<matplotlib.image.AxesImage at 0x7f662575bda0>"
      ]
     },
     "execution_count": 45,
     "metadata": {},
     "output_type": "execute_result"
    },
    {
     "data": {
      "image/png": "[encoded data removed]",
      "text/plain": [
       "<matplotlib.figure.Figure at 0x7f66257ac278>"
      ]
     },
     "metadata": {
      "needs_background": "light"
     },
     "output_type": "display_data"
    }
   ],
   "source": [
    "from sklearn.metrics import confusion_matrix\n",
    "%matplotlib inline\n",
    "y_pred = model.predict(X_test).argmax(axis=1)\n",
    "\n",
    "cm = confusion_matrix(y_test_multiclass, y_pred, labels=None, sample_weight=None )\n",
    "  \n",
    "print(cm)\n",
    "plt.imshow(cm, cmap='binary')"
   ]
  },
  {
   "cell_type": "code",
   "execution_count": 46,
   "metadata": {},
   "outputs": [
    {
     "name": "stdout",
     "output_type": "stream",
     "text": [
      "{'batch_input_shape': (None, 405), 'dtype': 'float32', 'sparse': False, 'name': 'inputs'} []\n",
      "{'name': 'embedding_3', 'trainable': False, 'batch_input_shape': (None, None), 'dtype': 'float32', 'input_dim': 36786, 'output_dim': 300, 'embeddings_initializer': {'class_name': 'RandomUniform', 'config': {'minval': -0.05, 'maxval': 0.05, 'seed': None}}, 'embeddings_regularizer': None, 'activity_regularizer': None, 'embeddings_constraint': None, 'mask_zero': False, 'input_length': None} [array([[ 2.1104127e-02, -6.6042505e-02, -5.9566073e-02, ...,\n",
      "         3.9218254e-02,  1.6524125e-03, -5.3010704e-03],\n",
      "       [ 5.6211400e-01, -1.2752330e+00,  3.6714014e-01, ...,\n",
      "         7.1641594e-01, -2.0809224e+00,  3.8616073e-01],\n",
      "       [ 5.9366381e-01, -5.4290450e-01,  6.1892653e-01, ...,\n",
      "         2.5513845e-02, -1.4185814e+00, -8.9313889e-01],\n",
      "       ...,\n",
      "       [ 9.3665056e-02, -6.3305318e-02, -4.2916533e-02, ...,\n",
      "        -3.6718938e-02, -6.4458489e-02, -9.1600843e-02],\n",
      "       [ 6.9873564e-02,  8.7692931e-02, -9.0976907e-03, ...,\n",
      "         1.9952075e-03, -8.0541231e-02, -3.7748419e-02],\n",
      "       [-3.9064534e-02, -7.6923348e-02, -2.3476874e-02, ...,\n",
      "         5.3150643e-02, -9.4502516e-02,  3.8831793e-02]], dtype=float32)]\n",
      "{'name': 'lstm_3', 'trainable': True, 'dtype': 'float32', 'return_sequences': True, 'return_state': False, 'go_backwards': False, 'stateful': False, 'unroll': False, 'units': 60, 'activation': 'tanh', 'recurrent_activation': 'sigmoid', 'use_bias': True, 'kernel_initializer': {'class_name': 'VarianceScaling', 'config': {'scale': 1.0, 'mode': 'fan_avg', 'distribution': 'uniform', 'seed': None}}, 'recurrent_initializer': {'class_name': 'Orthogonal', 'config': {'gain': 1.0, 'seed': None}}, 'bias_initializer': {'class_name': 'Zeros', 'config': {}}, 'unit_forget_bias': True, 'kernel_regularizer': None, 'recurrent_regularizer': None, 'bias_regularizer': None, 'activity_regularizer': None, 'kernel_constraint': None, 'recurrent_constraint': None, 'bias_constraint': None, 'dropout': 0.5, 'recurrent_dropout': 0.5, 'implementation': 2} [array([[ 0.01243563,  0.18944524,  0.1742005 , ...,  0.31338814,\n",
      "         0.08965547, -0.19546312],\n",
      "       [-0.3749072 , -0.25725552,  0.18720955, ..., -0.04078167,\n",
      "        -0.03541166,  0.20641373],\n",
      "       [-0.07239455, -0.00869932, -0.02073694, ...,  0.03887042,\n",
      "         0.2817377 ,  0.05689343],\n",
      "       ...,\n",
      "       [ 0.09922755,  0.2804136 , -0.2143784 , ..., -0.02984276,\n",
      "        -0.01926871, -0.28040713],\n",
      "       [ 0.05364324, -0.03300458,  0.03861253, ..., -0.31064522,\n",
      "        -0.16960625, -0.03356174],\n",
      "       [ 0.20330274,  0.13275489,  0.17421909, ...,  0.14736739,\n",
      "        -0.1697455 , -0.11689352]], dtype=float32), array([[-0.22459896,  0.04026858, -0.01922199, ...,  0.02569348,\n",
      "        -0.07789643, -0.09998743],\n",
      "       [ 0.0559471 , -0.33617628, -0.06879278, ..., -0.15176755,\n",
      "         0.25595298,  0.20742401],\n",
      "       [-0.01121434, -0.2603587 , -0.13021252, ..., -0.08196282,\n",
      "         0.03655566,  0.07208493],\n",
      "       ...,\n",
      "       [-0.15854397, -0.00211037,  0.02034391, ...,  0.17416963,\n",
      "         0.36492997,  0.05626212],\n",
      "       [-0.11121003,  0.04562816, -0.07911836, ..., -0.02765909,\n",
      "        -0.14264922, -0.1248123 ],\n",
      "       [ 0.05529904,  0.00389067, -0.17028461, ..., -0.03440639,\n",
      "        -0.08139227, -0.02092427]], dtype=float32), array([-0.19515713, -0.05122904, -0.26616055, -0.06324773, -0.05818273,\n",
      "        0.04068232,  0.02974837, -0.0067856 , -0.25424457, -0.4256043 ,\n",
      "       -0.20305969, -0.03122624, -0.20826226, -0.29790983,  0.03252186,\n",
      "       -0.10975458, -0.14776598, -0.35671097, -0.1854037 , -0.06393135,\n",
      "       -0.4345277 , -0.15726072, -0.44637254, -0.22237487, -0.00659958,\n",
      "       -0.21601151, -0.24200806, -0.05585319, -0.274782  , -0.07153028,\n",
      "       -0.14112698, -0.42981687, -0.388724  , -0.03901383, -0.09396843,\n",
      "        0.0172356 , -0.14899448, -0.08117627, -0.34376416, -0.2509319 ,\n",
      "       -0.21766412, -0.31189904, -0.12120914, -0.12819807, -0.3063197 ,\n",
      "       -0.22702044, -0.11494754, -0.2575245 , -0.19436835, -0.14605826,\n",
      "       -0.19024564, -0.25645494, -0.27822778, -0.24045666, -0.2487315 ,\n",
      "       -0.18383572, -0.3701156 , -0.13400446, -0.15891694, -0.20423573,\n",
      "        0.9480505 ,  1.1828718 ,  0.9896771 ,  0.83981276,  1.1055018 ,\n",
      "        1.1791893 ,  1.1481307 ,  0.9747829 ,  1.1087694 ,  1.0309142 ,\n",
      "        1.0183775 ,  1.0050416 ,  1.1753103 ,  1.0832475 ,  1.099425  ,\n",
      "        1.1340674 ,  0.8866283 ,  1.145377  ,  1.0395545 ,  1.1145164 ,\n",
      "        1.0040718 ,  0.93087393,  0.901931  ,  1.0805339 ,  1.0849024 ,\n",
      "        0.8288815 ,  1.2180412 ,  0.9489844 ,  1.062487  ,  1.0910894 ,\n",
      "        0.976188  ,  1.0054468 ,  1.0771931 ,  1.0860635 ,  0.93157476,\n",
      "        0.9728831 ,  1.1537851 ,  0.9304058 ,  1.1249092 ,  1.1185064 ,\n",
      "        1.1161009 ,  1.1107832 ,  1.1319984 ,  1.0016122 ,  0.80979174,\n",
      "        1.1861688 ,  1.1166332 ,  1.1213398 ,  1.4202142 ,  0.93170327,\n",
      "        0.98051554,  1.0937598 ,  1.2256143 ,  1.0053475 ,  0.9600162 ,\n",
      "        1.2185835 ,  1.0888172 ,  0.9222747 ,  1.0737464 ,  0.9115331 ,\n",
      "       -0.2437952 , -0.12113147,  0.03842179, -0.12217776,  0.07666218,\n",
      "        0.04974442,  0.00814909, -0.10119659,  0.00263697,  0.09427109,\n",
      "        0.11543702, -0.0827997 , -0.04785359,  0.14722598, -0.31286764,\n",
      "        0.02615413, -0.19235803,  0.04572041,  0.10402325, -0.02948869,\n",
      "       -0.15034151,  0.05693993, -0.0603168 , -0.04870464,  0.07167282,\n",
      "       -0.14340411, -0.20276369,  0.01624249,  0.02072434,  0.22465697,\n",
      "        0.11945437, -0.08909115, -0.13075136, -0.07501766, -0.04160874,\n",
      "       -0.01601694,  0.0689076 , -0.01791643, -0.0534271 ,  0.16641077,\n",
      "        0.08897324, -0.05128574,  0.00913005, -0.12908348,  0.04509003,\n",
      "       -0.11184899,  0.15434772, -0.08124315, -0.10097919, -0.12617654,\n",
      "       -0.10068858, -0.16984174, -0.04765816, -0.0928879 ,  0.10457753,\n",
      "        0.08721787,  0.16919257, -0.04753669,  0.05432009,  0.08280077,\n",
      "        0.10976707, -0.263475  ,  0.01720352, -0.0837639 , -0.29776108,\n",
      "       -0.26683408, -0.15670246, -0.0247309 , -0.03061695, -0.14873762,\n",
      "       -0.16245502, -0.12210932,  0.05912727, -0.02900994, -0.05693898,\n",
      "       -0.02733243, -0.02861259,  0.05476933,  0.14493997, -0.01829662,\n",
      "        0.16037099, -0.15914491, -0.10304963,  0.03177854, -0.1714675 ,\n",
      "       -0.1657376 , -0.22184747, -0.22552785,  0.13732569, -0.1017627 ,\n",
      "       -0.02073783, -0.12089565, -0.15731192, -0.19540435,  0.0243589 ,\n",
      "       -0.3179119 , -0.05125099, -0.1657214 ,  0.00193159,  0.00900968,\n",
      "       -0.2044521 , -0.08386173, -0.45453268,  0.05872791, -0.08919638,\n",
      "       -0.25235242, -0.02136127, -0.12165406,  0.03046681, -0.00315444,\n",
      "        0.0775521 , -0.17535907,  0.3137621 , -0.04224142, -0.01267556,\n",
      "       -0.19810466,  0.08376399, -0.1130647 , -0.16587847,  0.02516246],\n",
      "      dtype=float32)]\n",
      "{'name': 'dropout_3', 'trainable': True, 'dtype': 'float32', 'rate': 0.5, 'noise_shape': None, 'seed': None} []\n",
      "{'name': 'permute_3', 'trainable': True, 'dtype': 'float32', 'dims': (2, 1)} []\n",
      "{'name': 'dense_5', 'trainable': True, 'dtype': 'float32', 'units': 405, 'activation': 'softmax', 'use_bias': True, 'kernel_initializer': {'class_name': 'VarianceScaling', 'config': {'scale': 1.0, 'mode': 'fan_avg', 'distribution': 'uniform', 'seed': None}}, 'bias_initializer': {'class_name': 'Zeros', 'config': {}}, 'kernel_regularizer': None, 'bias_regularizer': None, 'activity_regularizer': None, 'kernel_constraint': None, 'bias_constraint': None} [array([[ 1.77202791e-01,  1.38230085e-01,  2.07944557e-01, ...,\n",
      "         1.17609851e-01, -2.60923773e-01, -2.34610602e-01],\n",
      "       [ 1.13370769e-01,  9.46301669e-02,  5.62767722e-02, ...,\n",
      "        -2.25637048e-01, -1.85990021e-01, -2.14656830e-01],\n",
      "       [ 2.03055650e-01,  6.77380264e-02,  1.81635901e-01, ...,\n",
      "        -9.13797915e-02, -2.24229842e-01, -1.32002935e-01],\n",
      "       ...,\n",
      "       [-3.12751532e-03,  2.62724399e-03, -8.20713642e-04, ...,\n",
      "         1.34586132e+00,  1.26204461e-01, -4.27000001e-02],\n",
      "       [-8.26910138e-02, -1.03481986e-01, -8.76439214e-02, ...,\n",
      "        -4.00757715e-02,  1.00503385e+00,  4.84366603e-02],\n",
      "       [-1.87446684e-01, -1.47533312e-01, -1.74622685e-01, ...,\n",
      "        -2.08092272e-01, -2.68170029e-01,  1.38566184e+00]], dtype=float32), array([-2.03076863e+00, -1.98080111e+00, -1.80538285e+00, -1.86614060e+00,\n",
      "       -1.90749776e+00, -1.99708033e+00, -1.96016753e+00, -2.06186652e+00,\n",
      "       -2.23904395e+00, -1.79857314e+00, -2.14484167e+00, -2.15831494e+00,\n",
      "       -1.85235500e+00, -1.81760967e+00, -1.47598803e+00, -2.29949880e+00,\n",
      "       -1.89021790e+00, -1.45497739e+00, -2.12161040e+00, -2.10302854e+00,\n",
      "       -2.11834645e+00, -1.88011837e+00, -2.08430314e+00, -2.17178726e+00,\n",
      "       -1.83763528e+00, -2.13709378e+00, -1.93767142e+00, -2.20798802e+00,\n",
      "       -1.36165762e+00, -1.66476452e+00, -1.72507358e+00, -2.14180875e+00,\n",
      "       -2.21782351e+00, -2.09139633e+00, -2.14325929e+00, -2.10591602e+00,\n",
      "       -2.12923741e+00, -1.49778450e+00, -1.90487099e+00, -2.04587746e+00,\n",
      "       -2.06101084e+00, -2.03424740e+00, -2.05236101e+00, -2.00402880e+00,\n",
      "       -1.99318922e+00, -2.13037944e+00, -2.06608653e+00, -1.82124162e+00,\n",
      "       -2.09250927e+00, -2.13325834e+00, -2.09348917e+00, -2.20368886e+00,\n",
      "       -2.24856853e+00, -1.78275704e+00, -1.97060394e+00, -1.59229255e+00,\n",
      "       -1.86348224e+00, -1.88470137e+00, -1.71087146e+00, -2.00815582e+00,\n",
      "       -2.05077791e+00, -2.03754663e+00, -2.18883634e+00, -2.10540056e+00,\n",
      "       -1.41098809e+00, -2.04768801e+00, -2.16499662e+00, -2.09490919e+00,\n",
      "       -1.61790931e+00, -2.20845175e+00, -2.18733239e+00, -2.04795241e+00,\n",
      "       -2.17603850e+00,  7.93868527e-02, -2.14069819e+00, -1.92735291e+00,\n",
      "       -7.26709247e-01, -2.09681773e+00,  5.02817333e-02, -2.03206658e+00,\n",
      "       -1.26718712e+00, -2.13253927e+00, -2.04203868e+00, -2.14057565e+00,\n",
      "       -1.95748472e+00, -1.95094776e+00, -2.14395189e+00, -2.15707421e+00,\n",
      "       -2.13498425e+00, -2.23719525e+00, -2.05275726e+00, -1.41226614e+00,\n",
      "       -2.10114980e+00, -2.06460285e+00, -1.69203448e+00, -1.50980616e+00,\n",
      "       -2.13191271e+00, -1.94314766e+00, -2.11745095e+00, -2.19282508e+00,\n",
      "       -2.04786110e+00, -2.21118665e+00, -2.07092667e+00, -2.16634774e+00,\n",
      "       -2.03543377e+00, -2.17707300e+00, -1.97749794e+00, -2.27208972e+00,\n",
      "       -2.06605577e+00, -1.98109722e+00, -2.11801386e+00, -1.95991433e+00,\n",
      "       -1.85670912e+00, -2.20294929e+00, -2.18057132e+00, -1.85425639e+00,\n",
      "       -2.22435713e+00, -2.13791060e+00, -2.18554163e+00, -1.98071706e+00,\n",
      "       -2.10710502e+00, -2.16487813e+00, -1.82621980e+00, -2.00878811e+00,\n",
      "       -1.89138079e+00, -1.71405518e+00, -2.18625093e+00, -2.15884066e+00,\n",
      "       -2.22589707e+00, -2.17875266e+00, -1.91784942e+00, -2.24888206e+00,\n",
      "       -2.12402010e+00, -2.20250893e+00, -2.12783933e+00, -2.24493575e+00,\n",
      "       -2.12915325e+00, -2.10060906e+00, -1.69030130e+00, -2.01311994e+00,\n",
      "       -2.21001244e+00, -2.11215711e+00, -2.14817286e+00, -1.42446733e+00,\n",
      "       -2.11466694e+00, -1.83490193e+00, -1.95612836e+00, -2.18843818e+00,\n",
      "       -2.17282486e+00, -2.16673517e+00, -2.11995673e+00, -1.84789538e+00,\n",
      "       -1.95604062e+00, -2.17742133e+00, -2.05746269e+00, -2.16719389e+00,\n",
      "       -2.16849947e+00, -1.69790709e+00, -2.01334214e+00, -1.60325801e+00,\n",
      "       -2.13479924e+00, -2.12173867e+00, -1.85853434e+00, -2.14615846e+00,\n",
      "       -1.75711870e+00, -1.60556686e+00, -1.79895926e+00, -1.96245348e+00,\n",
      "       -2.18753695e+00, -2.12246490e+00, -2.25531292e+00, -2.14241290e+00,\n",
      "       -2.10958576e+00, -2.04663277e+00, -2.15740681e+00, -1.48684478e+00,\n",
      "       -1.68367612e+00, -1.99129021e+00, -1.95599616e+00, -2.15485287e+00,\n",
      "       -2.08694983e+00, -1.88934052e+00, -2.23495245e+00, -2.14996648e+00,\n",
      "       -7.69836366e-01, -2.04056478e+00, -2.07471824e+00, -1.78820670e+00,\n",
      "       -1.77230227e+00, -2.09538960e+00, -2.21937203e+00, -2.20760345e+00,\n",
      "       -9.45986927e-01, -2.16251850e+00, -2.15728259e+00, -2.09723473e+00,\n",
      "       -2.12723732e+00, -2.12573481e+00, -2.17905283e+00, -1.84775805e+00,\n",
      "       -2.04671478e+00, -2.03105092e+00, -2.16023517e+00, -2.08568287e+00,\n",
      "       -2.01386428e+00, -2.20753741e+00, -2.09741282e+00, -2.09679556e+00,\n",
      "       -2.24110746e+00, -2.13229799e+00, -1.97086239e+00, -2.24235082e+00,\n",
      "       -1.93514812e+00, -1.71542585e+00, -2.23526096e+00, -2.03234577e+00,\n",
      "       -2.06651425e+00, -2.13549638e+00, -1.65666234e+00, -1.95807564e+00,\n",
      "       -2.06531620e+00, -2.17072701e+00, -2.20197988e+00, -1.90808439e+00,\n",
      "       -2.16650939e+00, -1.95338142e+00, -2.08557129e+00, -2.17990470e+00,\n",
      "       -1.32089221e+00, -2.28108907e+00, -1.99879646e+00, -1.77599752e+00,\n",
      "       -2.08228993e+00, -1.99091327e+00, -2.14188027e+00, -1.98308647e+00,\n",
      "       -2.05792308e+00, -2.20047855e+00, -2.22964358e+00, -2.10816956e+00,\n",
      "       -2.17936563e+00, -2.00094390e+00, -1.93958235e+00, -2.23165560e+00,\n",
      "       -2.19711590e+00, -2.06545472e+00, -2.23653555e+00, -1.76000035e+00,\n",
      "       -1.98907030e+00, -1.99965799e+00, -2.07000995e+00, -2.12537146e+00,\n",
      "       -2.06673217e+00, -1.93773174e+00, -2.24128366e+00, -2.02080727e+00,\n",
      "       -2.08129096e+00, -2.18736959e+00, -2.08326721e+00, -2.00062084e+00,\n",
      "       -2.21673989e+00, -1.69774532e+00, -2.14774609e+00, -2.15899634e+00,\n",
      "       -2.22001553e+00, -1.91907871e+00, -2.19719672e+00, -1.73890245e+00,\n",
      "       -2.04251289e+00, -1.98761332e+00, -2.02972174e+00, -2.22426677e+00,\n",
      "       -2.04418731e+00, -2.02230644e+00, -2.08345032e+00, -1.53686273e+00,\n",
      "       -2.10468316e+00, -2.21237326e+00, -2.07800770e+00, -2.10084295e+00,\n",
      "       -1.96432912e+00, -2.26761270e+00, -2.04151607e+00, -2.13351727e+00,\n",
      "       -1.42621779e+00, -6.87624454e-01, -2.21661305e+00, -2.12163448e+00,\n",
      "       -2.03439212e+00, -1.89807594e+00, -2.20634198e+00, -2.48585746e-01,\n",
      "       -1.81243098e+00, -2.01331282e+00, -1.38665628e+00, -9.80944574e-01,\n",
      "       -1.55122614e+00, -1.09815931e+00, -2.04386616e+00, -2.10005069e+00,\n",
      "       -2.11497378e+00, -1.17633975e+00, -1.74615490e+00, -2.06793571e+00,\n",
      "       -2.13452244e+00, -2.10432935e+00, -2.11264300e+00, -1.23668838e+00,\n",
      "       -1.87273657e+00, -2.06338024e+00, -1.50158858e+00, -2.08089995e+00,\n",
      "       -2.22890115e+00, -2.17553306e+00, -1.79529130e+00, -1.81886828e+00,\n",
      "       -1.24498045e+00, -1.24299693e+00, -1.98772907e+00, -1.63283062e+00,\n",
      "       -5.89526534e-01, -5.38686991e-01, -2.02353668e+00, -1.93676090e+00,\n",
      "       -3.31214145e-02, -1.66757143e+00, -9.49779600e-02, -7.08220363e-01,\n",
      "       -7.70875454e-01, -1.59332976e-01, -1.70249748e+00,  9.76612642e-02,\n",
      "       -1.75898850e+00, -2.12695807e-01, -9.87319827e-01, -8.57533962e-02,\n",
      "       -1.87627390e-01, -1.16791677e+00, -7.41146803e-01, -1.01454902e+00,\n",
      "       -7.01520920e-01, -5.50159216e-01, -2.04695493e-01, -1.96155414e-01,\n",
      "       -6.89563096e-01, -6.73615396e-01,  1.07883446e-01, -4.02530909e-01,\n",
      "       -1.35647309e+00, -1.17599614e-01, -6.98277950e-01, -1.16309777e-01,\n",
      "       -1.11201905e-01, -4.66543138e-01, -3.85165155e-01, -2.39057586e-01,\n",
      "       -2.71668136e-01, -5.40116251e-01, -1.71805203e-01, -5.63222647e-01,\n",
      "        4.01404351e-02, -2.26988018e-01, -4.93792623e-01,  1.17487729e-01,\n",
      "       -3.57235789e-01,  7.58132041e-02, -7.52734318e-02, -1.44355427e-02,\n",
      "        5.89732081e-02, -4.92127798e-03, -3.47419083e-01, -1.60109177e-02,\n",
      "        1.11112170e-01, -1.26992747e-01,  2.11696580e-01, -1.84038728e-01,\n",
      "        9.47326347e-02,  1.89341724e-01,  7.38061070e-02, -3.15436840e-01,\n",
      "       -4.86197649e-03, -8.52600019e-03, -2.20832066e-04, -6.62966847e-01,\n",
      "        2.02870369e-01,  9.28138942e-02,  1.61088601e-01,  1.81579560e-01,\n",
      "        8.65139440e-02,  1.00513890e-01,  3.34504455e-01,  1.78291008e-01,\n",
      "        2.05789775e-01,  3.33299279e-01,  2.32331708e-01,  3.54005724e-01,\n",
      "        1.83441758e-01,  1.57938823e-01,  4.63402271e-01,  3.87682885e-01,\n",
      "        4.63343561e-01,  2.07304388e-01,  2.61208087e-01,  7.06920028e-01,\n",
      "        6.80952907e-01], dtype=float32)]\n",
      "{'name': 'attention_vec', 'trainable': True, 'dtype': 'float32', 'dims': (2, 1)} []\n",
      "{'name': 'multiply_3', 'trainable': True, 'dtype': 'float32'} []\n",
      "{'name': 'flatten_3', 'trainable': True, 'dtype': 'float32', 'data_format': 'channels_last'} []\n",
      "{'name': 'dense_6', 'trainable': True, 'dtype': 'float32', 'units': 8, 'activation': 'softmax', 'use_bias': True, 'kernel_initializer': {'class_name': 'VarianceScaling', 'config': {'scale': 1.0, 'mode': 'fan_avg', 'distribution': 'uniform', 'seed': None}}, 'bias_initializer': {'class_name': 'Zeros', 'config': {}}, 'kernel_regularizer': None, 'bias_regularizer': None, 'activity_regularizer': None, 'kernel_constraint': None, 'bias_constraint': None} [array([[ 0.12727827, -0.0895878 , -0.00706027, ..., -0.10739375,\n",
      "        -0.1261603 , -0.13974407],\n",
      "       [ 0.13658212,  0.04718126,  0.08052363, ...,  0.0545304 ,\n",
      "         0.3516413 ,  0.04639481],\n",
      "       [-0.00303353, -0.03658317,  0.0848217 , ...,  0.04300997,\n",
      "         0.14057022,  0.16472241],\n",
      "       ...,\n",
      "       [-0.55104214, -0.1561425 , -0.07399711, ...,  0.3014773 ,\n",
      "        -0.51240575, -0.1478355 ],\n",
      "       [-0.32830307,  0.01257475,  0.04786156, ...,  0.19418491,\n",
      "        -0.38286117, -0.49490643],\n",
      "       [-0.6323621 , -0.22418612, -0.37438652, ..., -0.10158435,\n",
      "         0.2661258 ,  0.46148208]], dtype=float32), array([ 0.08065021, -0.2017147 , -0.09913093, -0.0504689 ,  0.23519886,\n",
      "        0.18619561,  0.06634035,  0.15581907], dtype=float32)]\n"
     ]
    }
   ],
   "source": [
    "# Would also be interesting to see if and what the attention layer learns...to be continued...\n",
    "\n",
    "for layer in model.layers: print(layer.get_config(), layer.get_weights())"
   ]
  },
  {
   "cell_type": "code",
   "execution_count": null,
   "metadata": {},
   "outputs": [],
   "source": []
  }
 ],
 "metadata": {
  "kernelspec": {
   "display_name": "Python 3",
   "language": "python",
   "name": "python3"
  },
  "language_info": {
   "codemirror_mode": {
    "name": "ipython",
    "version": 3
   },
   "file_extension": ".py",
   "mimetype": "text/x-python",
   "name": "python",
   "nbconvert_exporter": "python",
   "pygments_lexer": "ipython3",
   "version": "3.6.8"
  }
 },
 "nbformat": 4,
 "nbformat_minor": 2
}
