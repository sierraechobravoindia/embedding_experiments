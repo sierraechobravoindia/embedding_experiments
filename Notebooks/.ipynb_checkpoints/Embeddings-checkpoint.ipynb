{
 "cells": [
  {
   "cell_type": "markdown",
   "metadata": {},
   "source": [
    "# Embeddings\n",
    "\n",
    "In this notebook two different embeddings, FastText and Word2Vex are trained on domain specific corpora.  Furthermore a few sanity checks on the objects involved are done."
   ]
  },
  {
   "cell_type": "code",
   "execution_count": null,
   "metadata": {},
   "outputs": [],
   "source": [
    "import pickle\n",
    "import gensim\n",
    "from gensim.models import FastText, Word2Vec, KeyedVectors\n",
    "from gensim.scripts.glove2word2vec import glove2word2vec\n",
    "from gensim.test.utils import datapath, get_tmpfile"
   ]
  },
  {
   "cell_type": "markdown",
   "metadata": {},
   "source": [
    "## Loading a pretrained model"
   ]
  },
  {
   "cell_type": "code",
   "execution_count": null,
   "metadata": {},
   "outputs": [],
   "source": [
    "# Load Facebook pretrained FastText in gensim, either bin or vec.\n",
    "# Source: https://fasttext.cc/docs/en/crawl-vectors.html\n",
    "\n",
    "# model = FastText.load_fasttext_format('../WordEmbeddings/FastText/cc.de.300.bin') \n",
    "model =  KeyedVectors.load_word2vec_format('../WordEmbeddings/FastText/cc.de.300.vec') "
   ]
  },
  {
   "cell_type": "code",
   "execution_count": null,
   "metadata": {},
   "outputs": [],
   "source": [
    "# sanity checks\n",
    "\n",
    "print(model.wv.vectors.shape)\n",
    "\n",
    "print(model.similarity('Lehrer', 'Lehrerin'))\n",
    "# Output = 0.683924396754\n",
    "\n",
    "#print(model.most_similar(positive=['frau', 'könig'], negative=['mann']))\n",
    "print(model.most_similar(positive=[\"Auto\", \"Fahrer\"], negative=[\"Fahrrad\"]))"
   ]
  },
  {
   "cell_type": "markdown",
   "metadata": {},
   "source": [
    "## Training word2vec and FastText on domain specific data corpora"
   ]
  },
  {
   "cell_type": "code",
   "execution_count": null,
   "metadata": {},
   "outputs": [],
   "source": [
    "# import and merge data\n",
    "\n",
    "with open(\"../Data/CRQ_preprocessed.pkl\",'rb') as file:\n",
    "    CRQ_data = pickle.load(file)\n",
    "\n",
    "with open(\"../Data/CRQ_test_preprocessed.pkl\",'rb') as file:\n",
    "    CRQ_test_data = pickle.load(file)\n",
    "    \n",
    "with open(\"../Data/CRQ_train_preprocessed.pkl\",'rb') as file:\n",
    "    CRQ_train_data = pickle.load(file)\n",
    "    \n",
    "with open(\"../Data/Patents_preprocessed.pkl\",'rb') as file:\n",
    "    patents_data = pickle.load(file)\n",
    "    \n",
    "with open(\"../Data/Books_preprocessed.pkl\",'rb') as file:\n",
    "    books_data = pickle.load(file)\n",
    "    \n",
    "training_data = CRQ_data + CRQ_test_data + CRQ_train_data + patents_data + books_data"
   ]
  },
  {
   "cell_type": "code",
   "execution_count": null,
   "metadata": {},
   "outputs": [],
   "source": [
    "# sanity checks\n",
    "\n",
    "print(len(CRQ_data))\n",
    "print(len(CRQ_test_data))\n",
    "print(len(CRQ_train_data))\n",
    "print(len(patents_data))\n",
    "print(len(books_data))\n",
    "print(len(training_data))"
   ]
  },
  {
   "cell_type": "code",
   "execution_count": null,
   "metadata": {},
   "outputs": [],
   "source": [
    "# Train FastText on local data\n",
    "model_ft = FastText(training_data, size=300, window=5, min_count=5, workers=4)"
   ]
  },
  {
   "cell_type": "code",
   "execution_count": null,
   "metadata": {},
   "outputs": [],
   "source": [
    "# save model to disk\n",
    "model_ft.save(\"../WordEmbeddings/ft_ds.model\")"
   ]
  },
  {
   "cell_type": "code",
   "execution_count": null,
   "metadata": {},
   "outputs": [],
   "source": [
    "# sanity checks \n",
    "print(len(model_ft.wv.vocab))\n",
    "similarity = model_ft.wv.similarity('motor', 'starter')\n",
    "print(similarity)"
   ]
  },
  {
   "cell_type": "code",
   "execution_count": null,
   "metadata": {},
   "outputs": [],
   "source": [
    "# Train word2vec on local dataa\n",
    "model_w2v = Word2Vec(training_data, size=300, window=5, min_count=5, workers=4)"
   ]
  },
  {
   "cell_type": "code",
   "execution_count": null,
   "metadata": {},
   "outputs": [],
   "source": [
    "#save model to disk\n",
    "model_w2v.save(\"../WordEmbeddings/w2v_ds.model\")"
   ]
  },
  {
   "cell_type": "code",
   "execution_count": null,
   "metadata": {},
   "outputs": [],
   "source": [
    "#sanity checks\n",
    "\n",
    "print(len(model_w2v.wv.vocab))\n",
    "similarity = model_w2v.wv.similarity('motor', 'starter')\n",
    "print(similarity)"
   ]
  }
 ],
 "metadata": {
  "kernelspec": {
   "display_name": "Python 3",
   "language": "python",
   "name": "python3"
  },
  "language_info": {
   "codemirror_mode": {
    "name": "ipython",
    "version": 3
   },
   "file_extension": ".py",
   "mimetype": "text/x-python",
   "name": "python",
   "nbconvert_exporter": "python",
   "pygments_lexer": "ipython3",
   "version": "3.6.8"
  }
 },
 "nbformat": 4,
 "nbformat_minor": 2
}
