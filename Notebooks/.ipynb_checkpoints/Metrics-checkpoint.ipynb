{
 "cells": [
  {
   "cell_type": "markdown",
   "metadata": {},
   "source": [
    "# Metriken\n",
    "## M1 Downstram Classification Task\n",
    "Hier werde ich ein einfaches LSTM aufbauen und verwenden. Die gelernten word vectors werden im embedding layer eingesetzt und dann wird die accuracy als Metrik verwendet.\n",
    "## M2 Clustering by Subsystem\n",
    "+ compile a list of 3-5 subsystems and collect 10-20 words that belong to the subsystem\n",
    "+ build a clustering algorithm in the embedding space based on the cosine-distance\n",
    "\n",
    "Hier mal schauen, ob es einen sklearn -Algo gibt, der ein clustering mit einer beliebigen Metrik macht.\n",
    "\n",
    "Cosine Distance is available as function in sklearn:\n",
    "\n",
    "https://scikit-learn.org/stable/modules/generated/sklearn.metrics.pairwise.cosine_distances.html\n",
    "\n",
    "\n",
    "Alternative wäre es, die Qualität mit einem Silhuette Score auf den bekannten Clustern zu machen: Also gar kein Clustering, sondern die Wahrheit als Basis für die Zuordnung zu Clustern nehmen und dann mit dem Silhuette Score  \n",
    "Hier wäre es vielleicht sinnvoll, den Score von einer Matrix aus Zufallszahlen zu vergleichen? \n",
    "https://scikit-learn.org/stable/modules/generated/sklearn.metrics.silhouette_score.html\n",
    "\n",
    "\n",
    "Ach ja, umrechnung von distance in similarity nicht vergessen: Wenn das eine zwischen 0 und 1 läuft, beispielsweise einfach similarity = 1-distance ...\n",
    "\n",
    "Vielversprechender Kandidat ist hierarchial clustering:\n",
    "\n",
    "https://stackabuse.com/hierarchical-clustering-with-python-and-scikit-learn/\n",
    "\n",
    "Hier kann man bei sklearn direkt cosine-similarity verwenden:\n",
    "\n",
    "\n",
    "from sklearn.feature_extraction.text import CountVectorizer, TfidfTransformer\n",
    "from scipy.cluster import  hierarchy\n",
    "\n",
    "#Vectorizing\n",
    "X = CountVectorizer().fit_transform(docs)\n",
    "X = TfidfTransformer().fit_transform(X)\n",
    "#Clustering\n",
    "X = X.todense()\n",
    "threshold = 0.1\n",
    "Z = hierarchy.linkage(X,\"average\", metric=\"cosine\")\n",
    "C = hierarchy.fcluster(Z, threshold, criterion=\"distance\")\n",
    "\n",
    "## M3 Word Analogy\n",
    "\n",
    "a:b::c:d\n",
    "\n",
    "da solte eigentlich gensim eine Funktion bieten, mit der man das direkt machen kann\n",
    "\n",
    "\n",
    "\n",
    "## M4 Word Similarity List\n",
    "Hier werde ich Norberts Liste verwenden und dann die cosine-Distanz der word embeddings mit der gemittelten Similarity korrelieren (PEARSON correlation oder sowas? )\n",
    "\n",
    "Hier hat auch gensim eine Funktion, alternativ einfach einen Pearson-Koeffizienten nehmen...\n"
   ]
  },
  {
   "cell_type": "code",
   "execution_count": 6,
   "metadata": {},
   "outputs": [
    {
     "name": "stderr",
     "output_type": "stream",
     "text": [
      "Using TensorFlow backend.\n"
     ]
    }
   ],
   "source": [
    "import pickle\n",
    "import keras\n",
    "import pandas as pd\n",
    "import pickle\n",
    "import gensim\n",
    "import fasttext\n",
    "from gensim.models import FastText, Word2Vec, KeyedVectors\n",
    "from gensim.scripts.glove2word2vec import glove2word2vec\n",
    "from gensim.test.utils import datapath, get_tmpfile\n",
    "from scipy.stats import pearsonr\n",
    "\n",
    "\n",
    "import sklearn\n",
    "from sklearn.metrics.pairwise import cosine_similarity\n",
    "from sklearn.metrics.pairwise import cosine_distances\n",
    "from sklearn.neighbors import NearestNeighbors\n",
    "from sklearn.neighbors import KNeighborsClassifier\n",
    "from sklearn.metrics import accuracy_score, confusion_matrix\n",
    "\n",
    "\n",
    "\n",
    "\n",
    "from matplotlib import pyplot as plt\n",
    "\n",
    "%matplotlib inline"
   ]
  },
  {
   "cell_type": "code",
   "execution_count": 7,
   "metadata": {},
   "outputs": [],
   "source": [
    "# Load Word Vectors\n",
    "\n",
    "#Load pretrained FastText\n",
    "model_ft =  KeyedVectors.load_word2vec_format('../WordEmbeddings/FastText/cc.de.300.vec') \n",
    "\n",
    "#Load domain specific FastText\n",
    "model_ds_ft = FastText.load(\"../WordEmbeddings/ft_ds.model\")\n",
    "\n",
    "#Load domain specific word2vec\n",
    "model_ds_w2v = Word2Vec.load(\"../WordEmbeddings/w2v_ds.model\")\n"
   ]
  },
  {
   "cell_type": "code",
   "execution_count": 49,
   "metadata": {},
   "outputs": [
    {
     "name": "stdout",
     "output_type": "stream",
     "text": [
      "91716\n",
      "91716\n",
      "2000000\n"
     ]
    },
    {
     "name": "stderr",
     "output_type": "stream",
     "text": [
      "/usr/local/lib/python3.6/dist-packages/ipykernel_launcher.py:3: DeprecationWarning: Call to deprecated `wv` (Attribute will be removed in 4.0.0, use self instead).\n",
      "  This is separate from the ipykernel package so we can avoid doing imports until\n"
     ]
    }
   ],
   "source": [
    "print(len(model_ds_w2v.wv.vocab))\n",
    "print(len(model_ds_ft.wv.vocab))\n",
    "print(len(model_ft.wv.vocab))"
   ]
  },
  {
   "cell_type": "code",
   "execution_count": 21,
   "metadata": {},
   "outputs": [
    {
     "data": {
      "text/plain": [
       "array([ 0.0302, -0.0021,  0.0121, -0.0206, -0.0801, -0.0096,  0.0264,\n",
       "       -0.0125, -0.0196,  0.0497,  0.0041, -0.0541,  0.0067,  0.0442,\n",
       "        0.0008, -0.0069,  0.0596,  0.017 ,  0.0262, -0.0511, -0.0142,\n",
       "        0.0484,  0.0196, -0.0175,  0.0066,  0.0532, -0.0125, -0.0182,\n",
       "        0.0032, -0.0496, -0.0075,  0.0318, -0.0316,  0.0004, -0.0266,\n",
       "        0.0096,  0.0427, -0.0186,  0.029 , -0.013 ,  0.0304, -0.0372,\n",
       "       -0.0102,  0.0125,  0.0337,  0.0347,  0.0449, -0.0143, -0.0444,\n",
       "       -0.0149, -0.0488,  0.0004, -0.0041,  0.0387, -0.0062, -0.0812,\n",
       "       -0.013 , -0.0464,  0.0023, -0.0503, -0.024 ,  0.0208,  0.0545,\n",
       "        0.0016,  0.0231,  0.0503,  0.0433, -0.0195, -0.0071, -0.0187,\n",
       "        0.0035, -0.0352, -0.0085, -0.0411,  0.0492,  0.0076,  0.0315,\n",
       "       -0.015 , -0.0301,  0.0106, -0.075 ,  0.0019, -0.0759,  0.019 ,\n",
       "        0.006 ,  0.022 , -0.0294, -0.023 ,  0.0019, -0.0538,  0.0117,\n",
       "        0.03  ,  0.0147,  0.0253, -0.0059, -0.0207,  0.0409,  0.0044,\n",
       "       -0.004 ,  0.0769, -0.0253,  0.072 , -0.0412, -0.0126,  0.0351,\n",
       "       -0.0096, -0.0202,  0.0042, -0.0523, -0.046 ,  0.0217,  0.0083,\n",
       "       -0.0052, -0.0331, -0.0168,  0.0096,  0.0007,  0.0263,  0.0126,\n",
       "       -0.044 , -0.0544, -0.0203,  0.0561, -0.037 , -0.0677,  0.0131,\n",
       "       -0.0117,  0.0306, -0.0059, -0.0707, -0.0355,  0.1027, -0.0084,\n",
       "       -0.0221, -0.075 , -0.0186,  0.0243,  0.0352, -0.0015, -0.0657,\n",
       "        0.0002, -0.0123,  0.0836, -0.0053, -0.0294,  0.0301,  0.0118,\n",
       "        0.0235,  0.0036, -0.0885, -0.0235,  0.0543, -0.0255, -0.0158,\n",
       "        0.0333,  0.1035, -0.0265,  0.0018,  0.0473, -0.0639, -0.0328,\n",
       "        0.0135, -0.0445, -0.0366,  0.0047,  0.0061, -0.0508, -0.077 ,\n",
       "       -0.0303,  0.0062,  0.0052,  0.0209,  0.0461,  0.0094, -0.0346,\n",
       "        0.0284, -0.007 ,  0.0301,  0.0371,  0.0254,  0.0515, -0.0177,\n",
       "        0.0009, -0.0283,  0.0037, -0.0053,  0.0275,  0.0256,  0.009 ,\n",
       "       -0.0639,  0.0465, -0.0523, -0.0668, -0.0325,  0.015 ,  0.0206,\n",
       "        0.0133,  0.0586,  0.078 , -0.0004, -0.0024, -0.0209, -0.0107,\n",
       "        0.0418,  0.0444,  0.001 , -0.0279,  0.0534, -0.0347, -0.0003,\n",
       "       -0.0208,  0.0482, -0.0173,  0.0296,  0.0027,  0.0439, -0.0305,\n",
       "        0.0222,  0.0002,  0.0379, -0.0113,  0.0214,  0.008 ,  0.0012,\n",
       "        0.0314, -0.0063, -0.0343, -0.0039, -0.0349, -0.0002,  0.0403,\n",
       "        0.0123, -0.013 , -0.0005, -0.0143, -0.0175,  0.048 , -0.0152,\n",
       "        0.0383,  0.0123,  0.0323,  0.0398,  0.0175,  0.0003,  0.0342,\n",
       "        0.0677,  0.0089, -0.0571, -0.0226, -0.0295, -0.0313,  0.0531,\n",
       "        0.0524, -0.0303, -0.0111, -0.0035, -0.0361, -0.0573,  0.0244,\n",
       "       -0.0043,  0.0205,  0.0173,  0.0301, -0.062 ,  0.0735,  0.0561,\n",
       "       -0.0267,  0.0015,  0.0513, -0.0265, -0.0211,  0.0406, -0.0659,\n",
       "        0.0345, -0.0102,  0.0181,  0.0582,  0.0231, -0.0319, -0.0338,\n",
       "       -0.0515, -0.0131, -0.022 , -0.0227, -0.0375, -0.0108,  0.1147,\n",
       "        0.0361,  0.0256,  0.0034, -0.003 , -0.0179, -0.0692, -0.0035,\n",
       "       -0.0249,  0.0145, -0.0058,  0.003 ,  0.0007,  0.055 ],\n",
       "      dtype=float32)"
      ]
     },
     "execution_count": 21,
     "metadata": {},
     "output_type": "execute_result"
    }
   ],
   "source": [
    "#model_ft['Getriebe']\n",
    "model_ft.get_vector('Zylinder')"
   ]
  },
  {
   "cell_type": "code",
   "execution_count": 34,
   "metadata": {},
   "outputs": [],
   "source": [
    "import gensim\n",
    "from gensim.models import word2vec\n",
    "word2vec_CRs = gensim.models.Word2Vec.load(\"../RelatedWork/w2v_CRs\")"
   ]
  },
  {
   "cell_type": "code",
   "execution_count": 42,
   "metadata": {},
   "outputs": [],
   "source": [
    "ft_matrix = word2vec_CRs.wv.get_keras_embedding(train_embeddings=False)\n"
   ]
  },
  {
   "cell_type": "code",
   "execution_count": 44,
   "metadata": {},
   "outputs": [
    {
     "name": "stdout",
     "output_type": "stream",
     "text": [
      "((0.5336101992975493, 0.46638980070245073), SpearmanrResult(correlation=0.39999999999999997, pvalue=0.6), 98.86685552407933)\n"
     ]
    }
   ],
   "source": [
    "from gensim.test.utils import datapath\n",
    "model = gensim.models.Word2Vec.load(\"../RelatedWork/w2v_CRs\")\n",
    "similarities = model.wv.evaluate_word_pairs(datapath('wordsim353.tsv'))\n",
    "print(similarities)"
   ]
  },
  {
   "cell_type": "markdown",
   "metadata": {},
   "source": [
    "# M1: Downstram Classification"
   ]
  },
  {
   "cell_type": "code",
   "execution_count": null,
   "metadata": {},
   "outputs": [],
   "source": [
    "# M1 LSTM\n",
    "# Hier einfach die Pipeline übernehmen und die verschiedenen embeddings einsetzen. \n",
    "# Dazu brauche ich dann word vector und token liste... "
   ]
  },
  {
   "cell_type": "markdown",
   "metadata": {},
   "source": [
    "# M2: Subsystem Classification in Vector Space"
   ]
  },
  {
   "cell_type": "markdown",
   "metadata": {},
   "source": [
    "Clustering oder Klassifikation. Mal schauen...\n",
    "\n",
    "+ Suche je 10 Worte aus 3 Gruppen aus (später vielleicht 30 Worte aus 5 Gruppen...)\n",
    "+ Schreibe die Worte in ein Array\n",
    "+ Mache Lookup des Word Vectors für diese Worte mit der jeweiligen Repräsentation und speichere in einem Matrix\n"
   ]
  },
  {
   "cell_type": "code",
   "execution_count": 73,
   "metadata": {},
   "outputs": [
    {
     "name": "stdout",
     "output_type": "stream",
     "text": [
      "[[0.02536815]]\n",
      "[0 0 0 0 0]\n",
      "0.4\n",
      "[0]\n",
      "[[0.66666667 0.33333333]]\n"
     ]
    }
   ],
   "source": [
    "# Fingerübungen zu KNN Clustering und KNN Classification\n",
    "\n",
    "import sklearn\n",
    "from sklearn.metrics.pairwise import cosine_similarity\n",
    "from sklearn.metrics.pairwise import cosine_distances\n",
    "from sklearn.neighbors import NearestNeighbors\n",
    "from sklearn.neighbors import KNeighborsClassifier\n",
    "from sklearn.metrics import accuracy_score\n",
    "\n",
    "\n",
    "# just using the cosine distance function\n",
    "x=[[1,2,3]]\n",
    "y=[[4,5,6]]\n",
    "print(cosine_distances(x,y))\n",
    "\n",
    "\n",
    "#KNN Clustering w/ cosine distance\n",
    "samples = [[0, 0, 2], [1, 0, 0], [0, 0, 1]]\n",
    "knn = NearestNeighbors(metric='cosine')\n",
    "knn.fit(samples)\n",
    "\n",
    "\n",
    "# KNN Classification\n",
    "X_train =[[1], [2], [3], [4],[5]]\n",
    "y_train = [0,0,1,1,1]\n",
    "knnc=KNeighborsClassifier(metric='cosine', n_neighbors=3)\n",
    "knnc.fit(X_train, y_train)\n",
    "y_pred=knnc.predict(X_train) \n",
    "print(y_pred)\n",
    "print(accuracy_score(y_train, y_pred, normalize=True, sample_weight=None))                            \n",
    "print(knnc.predict([[1.4]]))\n",
    "print(knnc.predict_proba([[0.9]])) "
   ]
  },
  {
   "cell_type": "code",
   "execution_count": 104,
   "metadata": {},
   "outputs": [
    {
     "name": "stdout",
     "output_type": "stream",
     "text": [
      "0.7045454545454546\n",
      "[[9 0 0 0 0]\n",
      " [4 5 0 0 0]\n",
      " [0 0 5 2 1]\n",
      " [1 3 0 6 0]\n",
      " [2 0 0 0 6]]\n"
     ]
    },
    {
     "data": {
      "text/plain": [
       "<matplotlib.image.AxesImage at 0x7fd6cc5b2278>"
      ]
     },
     "execution_count": 104,
     "metadata": {},
     "output_type": "execute_result"
    },
    {
     "data": {
      "image/png": "[encoded data removed]",
      "text/plain": [
       "<matplotlib.figure.Figure at 0x7fd6cc8219e8>"
      ]
     },
     "metadata": {
      "needs_background": "light"
     },
     "output_type": "display_data"
    }
   ],
   "source": [
    "# M2 Clustering by subsystem\n",
    "\n",
    "classes = [engine, transmission, control_unit, vehicle, exhaust]\n",
    "models = [model_ds_ft, model_ds_w2v, model_ft]\n",
    "\n",
    "engine = ['motor', 'einspritzung', 'zündung', \"zündkerze\", \"wasserpumpe\", \"nockenwelle\", \"kurbelwelle\", \"starter\", \"generator\"]\n",
    "transmission = ['getriebe', \"gang\", \"schlupf\", \"kupplung\", \"einlegen\", \"zahnrad\", \"gang\", \"automatik\", \"schaltgetriebe\"]\n",
    "control_unit = [\"steuergerät\", \"funktion\", \"applikation\", \"regler\", \"tsk\", \"architektur\", \"variable\", \"parameter\"]\n",
    "vehicle = [\"can\", \"kombiinstrument\", \"gaspedal\", \"fahrwerk\", \"chassis\", \"pedal\", \"mil\", \"esp\", \"abs\", \"lenkrad\"]\n",
    "exhaust = [\"lambdasonde\", \"dpf\", \"opf\", \"katalysator\", \"abgas\", \"emission\", \"nox\", \"co2\"]\n",
    "\n",
    "data = engine+transmission+control_unit+vehicle+exhaust\n",
    "\n",
    "X_train = [model_ft[word] for word in data]\n",
    "y_train = [1]*len(engine)+[2]*len(transmission)+[3]*len(control_unit)+[4]*len(vehicle)+[5]*len(exhaust)\n",
    "\n",
    "knnc=KNeighborsClassifier(metric='cosine', n_neighbors=3)\n",
    "knnc.fit(X_train, y_train)\n",
    "y_pred=knnc.predict(X_train) \n",
    "\n",
    "print(accuracy_score(y_train, y_pred, normalize=True, sample_weight=None))\n",
    "\n",
    "def check_existence(list, model):\n",
    "    flag = True\n",
    "    for word in list:\n",
    "        if word not in model.wv.vocab:\n",
    "            print(\"{} in Class {} not found in Embedding {}\".format(word, c, model))\n",
    "            flag = False\n",
    "    return flag\n",
    "\n",
    "for model in models:\n",
    "    for c in classes:\n",
    "        #print(check_existence(c, model))\n",
    "        pass\n",
    "\n",
    "cm = confusion_matrix(y_train, y_pred, labels=None, sample_weight=None)\n",
    "    \n",
    "print(cm)\n",
    "plt.imshow(cm, cmap='binary')"
   ]
  },
  {
   "cell_type": "markdown",
   "metadata": {},
   "source": [
    "# M3: Word Analogy"
   ]
  },
  {
   "cell_type": "code",
   "execution_count": 114,
   "metadata": {},
   "outputs": [
    {
     "name": "stdout",
     "output_type": "stream",
     "text": [
      "([('turbodieselmotor', 0.8738648295402527), ('dieselmotore', 0.8524552583694458), ('dieselmotors', 0.8507183194160461), ('dieselmoto', 0.8442535400390625), ('ottomotor', 0.837376594543457)], [('otto', 0.8808187246322632), ('ottomotor', 0.8782336115837097), ('dieselmotoren', 0.8254048824310303), ('nkw', 0.8103951811790466), ('ottomotoren', 0.8034964799880981)])\n",
      "([('motorsteue', 0.8250179290771484), ('motorsteu', 0.8179201483726501), ('motormanage', 0.7947388887405396), ('motorsteuerger−t', 0.7931571006774902), ('motorsteuerge', 0.790145754814148)], [('motorsteuerung', 0.7153784036636353), ('empfangszeit', 0.6869455575942993), ('abfühleinrichtungen', 0.6833028197288513), ('steuermodul', 0.6775274872779846), ('überwachen', 0.6653618812561035)])\n",
      "([('nebenzündung', 0.86788010597229), ('zündung', 0.8610290288925171), ('entzündung', 0.8535094857215881), ('frühzündung', 0.8506962060928345), ('„zündung', 0.8475021123886108)], [('zünden', 0.9065707325935364), ('ladungsschichtung', 0.8924934267997742), ('pumpverluste', 0.8770269155502319), ('saugrohreinspritzung', 0.8706098794937134), ('zündkerze', 0.8669152855873108)])\n",
      "([('wasz', 0.8516702651977539), ('wass', 0.8399782180786133), ('hauptwasserpumpe', 0.8363639116287231), ('lüf', 0.8294493556022644), ('wash', 0.8294268846511841)], [('tischer', 0.852907657623291), ('ansteuerbares', 0.8117871284484863), ('angesteuertes', 0.810125470161438), ('wabenförmigen', 0.7962674498558044), ('freiluft', 0.7867015600204468)])\n",
      "([('benzintanks', 0.8719499111175537), ('benzintank', 0.8703476190567017), ('i˜x', 0.8277013301849365), ('benzindi', 0.8128294944763184), ('benzins', 0.7900968790054321)], [('direkteinspritzung', 0.910677969455719), ('enthaltender', 0.8432409167289734), ('gasmotor', 0.8395380973815918), ('fremdzündung', 0.8320984244346619), ('homogenem', 0.8264220952987671)])\n"
     ]
    },
    {
     "name": "stderr",
     "output_type": "stream",
     "text": [
      "/usr/local/lib/python3.6/dist-packages/ipykernel_launcher.py:17: DeprecationWarning: Call to deprecated `most_similar` (Method will be removed in 4.0.0, use self.wv.most_similar() instead).\n",
      "/usr/local/lib/python3.6/dist-packages/ipykernel_launcher.py:18: DeprecationWarning: Call to deprecated `most_similar` (Method will be removed in 4.0.0, use self.wv.most_similar() instead).\n"
     ]
    }
   ],
   "source": [
    "# M3 Word Analogy\n",
    "\n",
    "#Word Analogies:\n",
    "#(positive=['woman', 'king'], negative=['man'])\n",
    "\n",
    "a1 = [\"diesel\", \"dieselmotor\", \"benzin\", \"ottomotor\",]\n",
    "a2 = [\"motor\", \"motorsteuergerät\", \"getriebe\", \"getriebesteuergerät\"]\n",
    "a3 = [\"benzin\",\"fremdzündung\",\"diesel\",\"selbstzündung\"]\n",
    "a4 = [\"can\",\"botschaft\",\"flexray\",\"pdu\"]\n",
    "a5 = [\"wasser\", \"wasserpumpe\", \"benzin\", \"benzinpumpe\"]\n",
    "a6 = [\"benzin\", \"tank\", \"strom\", \"batterie\"]\n",
    "\n",
    "analogies = [a1,a2,a3,a5,a6]\n",
    "\n",
    "def analogy(quartet):\n",
    "    #result_ft = model_ft.most_similar(positive=[quartet[0], quartet[1]], negative=[quartet[2]])\n",
    "    result_ds_ft = model_ds_ft.most_similar(positive=[quartet[0], quartet[1]], negative=[quartet[2]])\n",
    "    result_ds_w2v = model_ds_w2v.most_similar(positive=[quartet[0], quartet[1]], negative=[quartet[2]])\n",
    "\n",
    "    return result_ds_ft[:5], result_ds_w2v[:5]\n",
    "\n",
    "for a in analogies:\n",
    "    print(analogy(a))"
   ]
  },
  {
   "cell_type": "markdown",
   "metadata": {},
   "source": [
    "# M4 Word Similarity"
   ]
  },
  {
   "cell_type": "code",
   "execution_count": 27,
   "metadata": {},
   "outputs": [],
   "source": [
    "DATA_SOURCE = \"list\"\n",
    "\n",
    "#Loading data from disk\n",
    "if DATA_SOURCE == \"disk\":\n",
    "    data = pd.read_csv('../Data/sim_list_N_o.tsv', delimiter ='\\t',header = None)\n",
    "    df_human_score = pd.read_csv('../Data/human_score.tsv', header = None) \n",
    "    e1 = [e.lower() for e in data[0]]\n",
    "    e2 = [e.lower() for e in data[1]]\n",
    "    words = [(e1,e2) for (e1,e2) in zip(e1,e2)]\n",
    "    human_score = [s for s in df_human_score[0]]\n",
    "    \n",
    "    \n",
    "#Loading data from list\n",
    "if DATA_SOURCE == \"list\":\n",
    "    words_original=[(\"riemenstartergenerator\",\"rsg\"),(\"motorsteuergerät\",\"msg\"),(\"haltemanagementsystem\",\"hms\"),\n",
    "       (\"batterymanagementsystem\",\"bms\"),(\"stateofcharge\",\"soc\"),(\"konzernschaltprogramm\",\"ksp\"),\n",
    "        (\"hochvoltkoordinator\",\"hvk\"),(\"geschwindigkeitsregelanlage\",\"gra\"),(\"triebstrangkoordinator\",\"tsk\"),\n",
    "        (\"functionondemand\",\"fod\"),(\"automatictransmissionfluid\",\"atf\"),(\"on boarddiagnose\",\"obd\"),(\"dieselpartikelfilter\",\"dpf\"),\n",
    "        (\"ottopartikelfilter\",\"opf\"),(\"electronicstabilitycontrol\",\"esc\"),(\"antriebssteuergeraet\",\"asg\"),(\"vorderachse\",\"va\"),\n",
    "        (\"intelligenterparkassistent\",\"ipa\"),(\"praediktivereffizienzassistent\",\"pea\"),(\"intelligentspeedassistent\",\"isa\"),\n",
    "        (\"Motor\",\"Zylinder\"),(\"tsk\",\"laengsbeschleunigungsregler\"),(\"Drehzahl\",\"Schub\"),(\"Hybrid\",\"phev\"),(\"Brennstoffzelle\",\"Anode\"),\n",
    "        (\"Brennstoffzelle\",\"Kathode\"),(\"kraftstoff\",\"diesel\"),(\"getriebe\",\"k0\"),(\"Display\",\"Anzeige\"),(\"Monitoring\",\"Überwachung\"),\n",
    "        (\"Wasserstoff\",\"H2\"),(\"motor\",\"vkm\"),(\"EMaschine\",\"Strom\"),(\"Bremspedal\",\"Kriechen\"),(\"Emissionen\",\"nox\"),(\"Druckventil\",\"entllueftung\"),\n",
    "       (\"fahrpedal\",\"moment\"),(\"wählhebel\",\"einlegen\"),(\"kupplung\",\"getriebe\"),(\"dl382\",\"schaltung\"),(\"phev\",\"cbev\"),(\"pumpe\",\"öl\"),\n",
    "        (\"wärme\",\"heizen\"),(\"saugrohrdruck\",\"drosseln\"),(\"drehzahl\",\"anzeige\"),(\"drehzahl\",\"antrieb\"),(\"leerlauf\",\"schaltung\"),\n",
    "    (\"mqb\",\"golf\"),(\"meb\",\"bev\"),(\"entprellung\",\"signal\"),(\"brennstoffzelle\",\"purgeventil\"),(\"adpcus\",\"signal\"),\n",
    "    (\"startstopp\",\"leerlauf\"),(\"drehmoment\",\"achsfunktionalität\"),(\"rampe\",\"momentengradient\"),(\"rekuperation\",\"potential\"),\n",
    "    (\"asg\",\"msg\"),(\"antrieb\",\"leistung\"),(\"sekundaerachse\",\"ankoppeln\"),(\"waehlhebel\",\"kupplung\")]\n",
    "\n",
    "    words=[(\"motorsteuergerät\",\"msg\"),\n",
    "       (\"motor\",\"zylinder\"),\n",
    "       (\"drehzahl\",\"schub\"),\n",
    "       (\"brennstoffzelle\",\"anode\"),\n",
    "       (\"kraftstoff\",\"diesel\"),\n",
    "       (\"display\",\"anzeige\"),\n",
    "       (\"monitoring\",\"überwachung\"),\n",
    "       (\"emissionen\",\"nox\"),\n",
    "       (\"kupplung\",\"getriebe\"),\n",
    "       (\"pumpe\",\"oel\"),\n",
    "       (\"wärme\",\"heizen\"),\n",
    "       (\"drehzahl\",\"anzeige\"),\n",
    "       (\"drehzahl\",\"antrieb\"),\n",
    "       (\"leerlauf\",\"schaltung\"),\n",
    "       (\"asg\",\"msg\"),\n",
    "       (\"antrieb\",\"leistung\")]\n",
    "    human_score = (9, 6, 3, 6, 7, 8, 8, 7, 6, 5, 7, 4, 5, 1, 5, 6)"
   ]
  },
  {
   "cell_type": "code",
   "execution_count": 29,
   "metadata": {},
   "outputs": [
    {
     "name": "stdout",
     "output_type": "stream",
     "text": [
      "Score with domain specific FastText: 0.4055059106623955\n",
      "Score with domain specific word2vec: 0.41986010811768953\n",
      "Score with general FastText: -0.2801245403099004\n"
     ]
    },
    {
     "name": "stderr",
     "output_type": "stream",
     "text": [
      "/usr/local/lib/python3.6/dist-packages/ipykernel_launcher.py:3: DeprecationWarning: Call to deprecated `wv` (Attribute will be removed in 4.0.0, use self instead).\n",
      "  This is separate from the ipykernel package so we can avoid doing imports until\n"
     ]
    }
   ],
   "source": [
    "similarity_ds_ft = [model_ds_ft.wv.similarity(e1, e2) for (e1, e2) in words]\n",
    "similarity_ds_w2v = [model_ds_w2v.wv.similarity(e1, e2) for (e1, e2) in words]\n",
    "similarity_ft = [model_ft.wv.similarity(e1, e2) for (e1, e2) in words]\n",
    "\n",
    "score_ds_ft = pearsonr(similarity_ds_ft, human_score)\n",
    "score_ds_w2v = pearsonr(similarity_ds_w2v, human_score)\n",
    "score_ft = pearsonr(similarity_ft, human_score)\n",
    "\n",
    "print(\"Score with domain specific FastText: {}\".format(score_ds_ft[0]))\n",
    "print(\"Score with domain specific word2vec: {}\".format(score_ds_w2v[0]))\n",
    "print(\"Score with general FastText: {}\".format(score_ft[0]))"
   ]
  },
  {
   "cell_type": "code",
   "execution_count": null,
   "metadata": {},
   "outputs": [],
   "source": [
    "#This plots a t_SNE of the complete embedding. Might give an impression of the quality of learned embeddings? \n",
    "\n",
    "\n",
    "from sklearn.decomposition import IncrementalPCA    # inital reduction\n",
    "from sklearn.manifold import TSNE                   # final reduction\n",
    "import numpy as np                                  # array handling\n",
    "\n",
    "\n",
    "def reduce_dimensions(model):\n",
    "    num_dimensions = 2  # final num dimensions (2D, 3D, etc)\n",
    "\n",
    "    vectors = [] # positions in vector space\n",
    "    labels = [] # keep track of words to label our data again later\n",
    "    for word in model.wv.vocab:\n",
    "        vectors.append(model.wv[word])\n",
    "        labels.append(word)\n",
    "\n",
    "    # convert both lists into numpy vectors for reduction\n",
    "    vectors = np.asarray(vectors)\n",
    "    labels = np.asarray(labels)\n",
    "\n",
    "    # reduce using t-SNE\n",
    "    vectors = np.asarray(vectors)\n",
    "    tsne = TSNE(n_components=num_dimensions, random_state=0)\n",
    "    vectors = tsne.fit_transform(vectors)\n",
    "\n",
    "    x_vals = [v[0] for v in vectors]\n",
    "    y_vals = [v[1] for v in vectors]\n",
    "    return x_vals, y_vals, labels\n",
    "\n",
    "\n",
    "\n",
    "\n",
    "def plot_with_plotly(x_vals, y_vals, labels, plot_in_notebook=True):\n",
    "    from plotly.offline import init_notebook_mode, iplot, plot\n",
    "    import plotly.graph_objs as go\n",
    "\n",
    "    trace = go.Scatter(x=x_vals, y=y_vals, mode='text', text=labels)\n",
    "    data = [trace]\n",
    "\n",
    "    if plot_in_notebook:\n",
    "        init_notebook_mode(connected=True)\n",
    "        iplot(data, filename='word-embedding-plot')\n",
    "    else:\n",
    "        plot(data, filename='word-embedding-plot.html')\n",
    "\n",
    "\n",
    "def plot_with_matplotlib(x_vals, y_vals, labels):\n",
    "    import matplotlib.pyplot as plt\n",
    "    import random\n",
    "\n",
    "    random.seed(0)\n",
    "\n",
    "    plt.figure(figsize=(12, 12))\n",
    "    plt.scatter(x_vals, y_vals)\n",
    "\n",
    "    #\n",
    "    # Label some random data points\n",
    "    #\n",
    "    indices = list(range(len(labels)))\n",
    "    selected_indices = random.sample(indices, 25)\n",
    "    for i in selected_indices:\n",
    "        plt.annotate(labels[i], (x_vals[i], y_vals[i]))\n",
    "\n",
    "\n",
    "x_vals, y_vals, labels = reduce_dimensions(model_ds_ft)\n",
    "plot_with_matplotlib(x_vals, y_vals, labels)     "
   ]
  },
  {
   "cell_type": "markdown",
   "metadata": {},
   "source": [
    "# M5: Visualizations"
   ]
  },
  {
   "cell_type": "code",
   "execution_count": 45,
   "metadata": {},
   "outputs": [],
   "source": [
    "model=model_ft\n",
    "\n",
    "keys = ['benzin', 'diesel']\n",
    "keys2 =['motor','getriebe']\n",
    "keys3 =['','']\n",
    "embedding_clusters = []\n",
    "word_clusters = []\n",
    "for word in keys:\n",
    "    embeddings = []\n",
    "    words = []\n",
    "    for similar_word, _ in model.most_similar(word, topn=20):\n",
    "        words.append(similar_word)\n",
    "        embeddings.append(model[similar_word])\n",
    "    embedding_clusters.append(embeddings)\n",
    "    word_clusters.append(words)"
   ]
  },
  {
   "cell_type": "code",
   "execution_count": 46,
   "metadata": {},
   "outputs": [],
   "source": [
    "from sklearn.manifold import TSNE\n",
    "import numpy as np\n",
    "\n",
    "embedding_clusters = np.array(embedding_clusters)\n",
    "n, m, k = embedding_clusters.shape\n",
    "tsne_model_en_2d = TSNE(perplexity=12, n_components=2, init='pca', n_iter=3500, random_state=32)\n",
    "embeddings_en_2d = np.array(tsne_model_en_2d.fit_transform(embedding_clusters.reshape(n * m, k))).reshape(n, m, 2)"
   ]
  },
  {
   "cell_type": "code",
   "execution_count": 47,
   "metadata": {},
   "outputs": [
    {
     "data": {
      "image/png": "[encoded data removed]",
      "text/plain": [
       "<matplotlib.figure.Figure at 0x7fb5d4d7abe0>"
      ]
     },
     "metadata": {
      "needs_background": "light"
     },
     "output_type": "display_data"
    }
   ],
   "source": [
    "import matplotlib.pyplot as plt\n",
    "import matplotlib.cm as cm\n",
    "\n",
    "def tsne_plot_similar_words(title, labels, embedding_clusters, word_clusters, a, filename=None):\n",
    "    plt.figure(figsize=(12, 9))\n",
    "    colors = cm.rainbow(np.linspace(0, 1, len(labels)))\n",
    "    for label, embeddings, words, color in zip(labels, embedding_clusters, word_clusters, colors):\n",
    "        x = embeddings[:, 0]\n",
    "        y = embeddings[:, 1]\n",
    "        plt.scatter(x, y, c=color, alpha=a, label=label)\n",
    "        for i, word in enumerate(words):\n",
    "            plt.annotate(word, alpha=0.5, xy=(x[i], y[i]), xytext=(5, 2),\n",
    "                         textcoords='offset points', ha='right', va='bottom', size=12)\n",
    "    plt.legend(loc=4)\n",
    "    plt.title(title)\n",
    "    plt.grid(True)\n",
    "    if filename:\n",
    "        plt.savefig(filename, format='png', dpi=150, bbox_inches='tight')\n",
    "    plt.show()\n",
    "\n",
    "\n",
    "tsne_plot_similar_words('Similar words', keys, embeddings_en_2d, word_clusters, 0.7,\n",
    "                        'similar_words.png')"
   ]
  },
  {
   "cell_type": "code",
   "execution_count": null,
   "metadata": {},
   "outputs": [],
   "source": []
  }
 ],
 "metadata": {
  "kernelspec": {
   "display_name": "Python 3",
   "language": "python",
   "name": "python3"
  },
  "language_info": {
   "codemirror_mode": {
    "name": "ipython",
    "version": 3
   },
   "file_extension": ".py",
   "mimetype": "text/x-python",
   "name": "python",
   "nbconvert_exporter": "python",
   "pygments_lexer": "ipython3",
   "version": "3.6.8"
  }
 },
 "nbformat": 4,
 "nbformat_minor": 2
}
