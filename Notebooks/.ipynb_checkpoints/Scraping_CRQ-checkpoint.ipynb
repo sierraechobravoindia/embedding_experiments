{
 "cells": [
  {
   "cell_type": "code",
   "execution_count": 48,
   "metadata": {},
   "outputs": [],
   "source": [
    "#Convert \n",
    "import pickle\n",
    "\n",
    "data = open(\"Unlabelled_crs.txt\", 'r')\n",
    "\n",
    "raw_data = data.read()\n",
    "raw_data = raw_data.replace('\"\"',\"'\")\n",
    "raw_data_sep = raw_data.split('\"')\n",
    "raw_data_sep_nonempty = [element for element in raw_data_sep if element!=\"\\n\"]\n",
    "for i in range(500):\n",
    "    print(raw_data_sep_nonempty[i])\n",
    "    print('------------------------------------')\n",
    "\n",
    "pickle.dump( raw_data_sep_nonempty, open( \"CRQ_1.pkl\", \"wb\" ) )"
   ]
  }
 ],
 "metadata": {
  "kernelspec": {
   "display_name": "Python 3",
   "language": "python",
   "name": "python3"
  },
  "language_info": {
   "codemirror_mode": {
    "name": "ipython",
    "version": 3
   },
   "file_extension": ".py",
   "mimetype": "text/x-python",
   "name": "python",
   "nbconvert_exporter": "python",
   "pygments_lexer": "ipython3",
   "version": "3.6.8"
  }
 },
 "nbformat": 4,
 "nbformat_minor": 2
}
