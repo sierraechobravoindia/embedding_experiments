{
 "cells": [
  {
   "cell_type": "markdown",
   "metadata": {},
   "source": [
    "# Programm\n",
    "\n",
    "Allgemeine To Do's:\n",
    "\n",
    "+ Datensatz mit Labels für Klassifikator von Samia besorgen\n",
    "+ Paper lesen\n",
    "\n",
    "## 1. Preprocessing\n",
    "\n",
    "Hier sammele ich alle Aktivitäten, die für das Preprocessing notwendig sind.\n",
    "+ Was hat Samia gemacht?\n",
    "+ Was ist Standard?\n",
    "+ Pipeline bauen\n",
    "\n",
    "## 2. Metriken vorbereiten\n",
    "\n",
    "+ Liste von Norbert\n",
    "+ Wortlisten für die verschiedenen Baugruppen\n",
    "+ Klassifikator für die extrinsischen Metrik vorbereiten\n",
    "\n",
    "\n",
    "## 3.  Word Embeddings trainieren\n",
    "\n",
    "+ pretrained raussuchen\n",
    "+ tabula rasa trainieren\n",
    "+ welche kann man wie nachtrainieren\n",
    "\n",
    "## 4. Experimente durchführen\n",
    "\n",
    "## 5. Abschlussbericht schreiben\n",
    "\n",
    "+ Struktur 5 Teile wie vorgegeben,\n",
    "+ Noch einmal die Struktur von Christoph anschauen\n",
    "+ "
   ]
  },
  {
   "cell_type": "code",
   "execution_count": 1,
   "metadata": {},
   "outputs": [
    {
     "name": "stderr",
     "output_type": "stream",
     "text": [
      "\n"
     ]
    }
   ],
   "source": [
    "#FastText\n",
    "import fasttext\n",
    "model = fasttext.load_model(\"./WordEmbeddings/FastText/cc.de.300.bin\")"
   ]
  },
  {
   "cell_type": "code",
   "execution_count": 2,
   "metadata": {},
   "outputs": [
    {
     "data": {
      "text/plain": [
       "array([ 2.29420513e-02,  2.26603597e-02,  2.13744305e-02,  1.43581512e-03,\n",
       "        1.16801029e-02, -4.16066870e-02,  3.19800712e-02, -2.50057988e-02,\n",
       "        2.82185078e-02, -3.04313805e-02,  3.57678346e-02, -7.09005967e-02,\n",
       "        4.89445589e-02,  3.21353674e-02, -9.60542783e-02, -1.25292763e-02,\n",
       "       -1.51531082e-02,  2.83696651e-02,  1.70952582e-03, -5.28851673e-02,\n",
       "        3.51614016e-03,  1.02818370e-01,  6.84771221e-03, -2.79685613e-02,\n",
       "        1.71575584e-02, -1.09769162e-02, -6.10488206e-02,  7.41048669e-03,\n",
       "       -7.58053064e-02, -4.50914204e-02, -9.24596377e-03,  4.17196378e-02,\n",
       "        8.36842600e-03,  5.45007735e-03, -4.60333191e-02,  5.10164797e-02,\n",
       "        3.13146152e-02,  3.85859283e-03,  4.05318998e-02,  1.01105981e-02,\n",
       "        2.07310822e-02, -4.82515357e-02, -5.63024879e-02, -4.96605486e-02,\n",
       "       -4.75601070e-02,  1.14443675e-01, -3.58707570e-02,  4.98692831e-03,\n",
       "       -1.04963295e-02, -3.36065963e-02, -3.90632264e-03, -3.95304337e-02,\n",
       "       -9.10925493e-03, -1.18214354e-01,  5.91483414e-02, -5.20307347e-02,\n",
       "        4.79687154e-02,  5.99700771e-02,  6.99688047e-02, -3.84753868e-02,\n",
       "        4.59767841e-02, -2.27092169e-02, -3.28285918e-02,  2.22223848e-02,\n",
       "        1.12752113e-02,  5.21804541e-05,  5.27792796e-02, -5.07562682e-02,\n",
       "        4.62241247e-02,  3.28937136e-02, -2.53776759e-02, -2.17406806e-02,\n",
       "       -3.75818014e-02, -4.53067012e-03, -5.79468906e-04, -3.62765491e-02,\n",
       "       -5.27045727e-02, -2.14952156e-02, -2.28313208e-02,  5.22195920e-02,\n",
       "       -5.51976040e-02, -8.80979374e-03,  5.03761023e-02, -3.52280098e-03,\n",
       "       -1.59097705e-02,  5.04409596e-02, -1.20206196e-02,  8.15930485e-04,\n",
       "       -2.67731547e-02, -5.13215326e-02,  1.66214779e-02,  1.32724522e-02,\n",
       "       -3.96198258e-02, -5.63478321e-02,  4.10542972e-02,  2.45164838e-02,\n",
       "        1.65382605e-02, -1.42133497e-02, -1.34705789e-02, -3.85552123e-02,\n",
       "       -3.57059203e-02,  2.40175612e-02,  2.77234949e-02, -5.22273332e-02,\n",
       "        2.70891022e-02, -1.25145108e-01, -5.34613356e-02,  5.88695705e-02,\n",
       "       -5.16054407e-02, -3.34840529e-02, -2.08142884e-02,  1.15207937e-02,\n",
       "        3.95202488e-02, -3.56231108e-02, -8.07792544e-02, -2.93887258e-02,\n",
       "       -1.45169050e-02, -3.72760892e-02,  6.66231960e-02,  8.20987578e-03,\n",
       "       -5.63390367e-02, -1.88282318e-02,  8.42699781e-04, -2.36234851e-02,\n",
       "       -2.83996370e-02,  7.25964382e-02, -3.17607485e-02,  7.76238590e-02,\n",
       "       -5.83030842e-03, -4.69824597e-02, -9.00346860e-02,  9.73206982e-02,\n",
       "        5.03710425e-03,  6.00512251e-02,  4.46722880e-02, -6.89580813e-02,\n",
       "        4.44838665e-02, -7.98200630e-03, -1.78350117e-02, -6.43778220e-03,\n",
       "        7.00528442e-04, -3.26947197e-02,  5.65894693e-02, -8.24077651e-02,\n",
       "        2.21287757e-02,  1.10425185e-02,  5.34171984e-02, -3.60883102e-02,\n",
       "       -1.72150545e-02, -6.56669140e-02,  8.96525383e-03,  8.67792889e-02,\n",
       "       -6.10252135e-02,  2.07899697e-03, -1.70881301e-02,  8.16489458e-02,\n",
       "        4.93916646e-02,  1.85092855e-02,  1.12779513e-02, -8.57924968e-02,\n",
       "       -7.80377015e-02, -1.89812146e-02,  1.64060667e-02, -9.34836119e-02,\n",
       "        1.20970001e-02,  3.62158492e-02, -3.27206356e-03,  9.68578383e-02,\n",
       "       -4.02213261e-02,  1.59943546e-03, -6.14832193e-02, -1.41878310e-03,\n",
       "        1.48064597e-02, -3.20867300e-02, -3.41998078e-02,  2.78873667e-02,\n",
       "       -5.19760959e-02, -2.37075938e-03,  2.81930249e-02,  3.76702212e-02,\n",
       "        3.31341848e-02, -7.02634007e-02,  2.10556202e-02, -2.90994160e-02,\n",
       "       -3.27046514e-02, -3.10050361e-02,  2.65756026e-02, -1.11885369e-02,\n",
       "       -4.22231071e-02,  8.14508945e-02, -6.24846630e-02,  2.71767601e-02,\n",
       "       -5.83012812e-02, -6.62469417e-02,  4.05130051e-02,  5.94900064e-02,\n",
       "        3.86803374e-02,  5.44081703e-02,  2.20777672e-02, -3.94569412e-02,\n",
       "        2.29282435e-02, -4.01169211e-02, -2.94800475e-02, -2.64777541e-02,\n",
       "       -6.80939388e-03, -5.01645878e-02,  1.14612198e-02, -7.20189586e-02,\n",
       "       -1.91585142e-02,  1.04712136e-02,  1.01917498e-01, -2.74337977e-02,\n",
       "       -4.85794991e-02,  5.40835708e-02,  2.95224246e-02, -6.22707128e-04,\n",
       "       -4.29650024e-02, -7.57686142e-03, -4.35166527e-03,  2.02094316e-02,\n",
       "        3.91813144e-02, -3.25474739e-02,  1.71348751e-02,  6.70974096e-03,\n",
       "       -2.60379538e-02, -2.60714889e-02, -3.39041534e-03,  3.79540287e-02,\n",
       "       -8.57389439e-03, -9.84035581e-02,  7.11181834e-02, -5.03711998e-02,\n",
       "       -3.45322751e-02,  4.02441248e-02,  9.62189026e-03,  1.08429596e-01,\n",
       "       -4.56289612e-02,  3.50404903e-02,  1.70098729e-02,  5.72960190e-02,\n",
       "        3.98204327e-02,  6.41890615e-02,  5.12280688e-02, -2.05085091e-02,\n",
       "        5.87676316e-02,  5.44328988e-03,  1.73237454e-02,  4.51735258e-02,\n",
       "       -1.34640578e-02, -2.08844822e-02, -1.34043563e-02,  3.43980044e-02,\n",
       "        2.72173397e-02, -3.42891639e-04, -3.67370397e-02, -6.29714830e-03,\n",
       "       -6.34785146e-02, -3.26564088e-02, -1.04029831e-02, -4.51048091e-02,\n",
       "        1.91234574e-02,  8.09399039e-03,  7.65336603e-02, -3.67128477e-02,\n",
       "       -4.27860022e-02, -3.11237480e-02, -4.24446305e-03, -5.89779429e-02,\n",
       "       -1.73645988e-02, -1.49790719e-02, -9.62619931e-02, -1.98241826e-02,\n",
       "       -8.15610811e-02, -2.14930233e-02,  1.20245367e-02,  3.24859582e-02,\n",
       "        1.22317635e-01, -4.05645464e-03, -2.52565518e-02, -1.90832634e-02,\n",
       "       -6.71937540e-02,  3.54784094e-02, -3.29080969e-02, -4.02747542e-02,\n",
       "       -3.47328484e-02,  2.81610694e-02, -6.47729486e-02, -4.19064134e-04,\n",
       "        4.72095534e-02, -3.77306193e-02,  3.16127315e-02,  1.16808815e-02,\n",
       "        9.72077250e-02, -8.54617625e-04, -1.71847399e-02, -2.13317052e-02,\n",
       "        6.38806075e-02, -9.61754005e-03,  1.33796325e-02, -1.68815479e-02],\n",
       "      dtype=float32)"
      ]
     },
     "execution_count": 2,
     "metadata": {},
     "output_type": "execute_result"
    }
   ],
   "source": [
    "model.get_word_vector(\"Spargel\")"
   ]
  },
  {
   "cell_type": "code",
   "execution_count": 4,
   "metadata": {},
   "outputs": [
    {
     "data": {
      "text/plain": [
       "[(0.7423688173294067, 'Paris'),\n",
       " (0.6406381726264954, 'Marseille'),\n",
       " (0.6256093382835388, 'Montpellier'),\n",
       " (0.6073217988014221, 'Toulouse'),\n",
       " (0.5821171998977661, 'Lyon'),\n",
       " (0.5769495368003845, 'Charlottenburg'),\n",
       " (0.5727345943450928, 'Südfrankreich'),\n",
       " (0.5682548880577087, 'Amiens'),\n",
       " (0.5682032108306885, 'Nantes'),\n",
       " (0.5676019191741943, 'Nizza')]"
      ]
     },
     "execution_count": 4,
     "metadata": {},
     "output_type": "execute_result"
    }
   ],
   "source": [
    "model.get_analogies(\"Berlin\", \"Deutschland\", \"Frankreich\")"
   ]
  },
  {
   "cell_type": "code",
   "execution_count": 5,
   "metadata": {},
   "outputs": [
    {
     "data": {
      "text/plain": [
       "[(0.7484778165817261, 'Grünspargel'),\n",
       " (0.745671272277832, 'Stangenspargel'),\n",
       " (0.7385724782943726, 'Spargeln'),\n",
       " (0.7228244543075562, 'Spargelspitzen'),\n",
       " (0.7198115587234497, 'Spargelstangen'),\n",
       " (0.718610942363739, 'Spargelschalen'),\n",
       " (0.7117905020713806, 'Gemüsespargel'),\n",
       " (0.7091357111930847, 'Spargels'),\n",
       " (0.7088963389396667, 'Spargelsalat'),\n",
       " (0.7032842040061951, 'Bleichspargel')]"
      ]
     },
     "execution_count": 5,
     "metadata": {},
     "output_type": "execute_result"
    }
   ],
   "source": [
    "model.get_nearest_neighbors(\"Spargel\")"
   ]
  },
  {
   "cell_type": "markdown",
   "metadata": {},
   "source": [
    "Building fasttext python module\n",
    "\n",
    "In order to build fasttext module for python, use the following:\n",
    "\n",
    "$ git clone https://github.com/facebookresearch/fastText.git\n",
    "$ cd fastText\n",
    "$ sudo pip install .\n",
    "$ # or :\n",
    "$ sudo python setup.py install\n"
   ]
  },
  {
   "cell_type": "code",
   "execution_count": 2,
   "metadata": {},
   "outputs": [
    {
     "ename": "UnpicklingError",
     "evalue": "unpickling stack underflow",
     "output_type": "error",
     "traceback": [
      "\u001b[0;31m---------------------------------------------------------------------------\u001b[0m",
      "\u001b[0;31mUnpicklingError\u001b[0m                           Traceback (most recent call last)",
      "\u001b[0;32m<ipython-input-2-737055ff3aff>\u001b[0m in \u001b[0;36m<module>\u001b[0;34m\u001b[0m\n\u001b[1;32m      1\u001b[0m \u001b[0;32mfrom\u001b[0m \u001b[0mgensim\u001b[0m\u001b[0;34m.\u001b[0m\u001b[0mmodels\u001b[0m \u001b[0;32mimport\u001b[0m \u001b[0mKeyedVectors\u001b[0m\u001b[0;34m\u001b[0m\u001b[0;34m\u001b[0m\u001b[0m\n\u001b[1;32m      2\u001b[0m \u001b[0;34m\u001b[0m\u001b[0m\n\u001b[0;32m----> 3\u001b[0;31m \u001b[0mword_vectors\u001b[0m \u001b[0;34m=\u001b[0m \u001b[0mKeyedVectors\u001b[0m\u001b[0;34m.\u001b[0m\u001b[0mload\u001b[0m\u001b[0;34m(\u001b[0m\u001b[0;34m'/home/seb/Desktop/word2vec_German/vectors.txt'\u001b[0m\u001b[0;34m,\u001b[0m \u001b[0mmmap\u001b[0m\u001b[0;34m=\u001b[0m\u001b[0;34m'r'\u001b[0m\u001b[0;34m)\u001b[0m\u001b[0;34m\u001b[0m\u001b[0;34m\u001b[0m\u001b[0m\n\u001b[0m",
      "\u001b[0;32m/usr/local/lib/python3.6/dist-packages/gensim/models/keyedvectors.py\u001b[0m in \u001b[0;36mload\u001b[0;34m(cls, fname_or_handle, **kwargs)\u001b[0m\n\u001b[1;32m   1538\u001b[0m     \u001b[0;34m@\u001b[0m\u001b[0mclassmethod\u001b[0m\u001b[0;34m\u001b[0m\u001b[0;34m\u001b[0m\u001b[0m\n\u001b[1;32m   1539\u001b[0m     \u001b[0;32mdef\u001b[0m \u001b[0mload\u001b[0m\u001b[0;34m(\u001b[0m\u001b[0mcls\u001b[0m\u001b[0;34m,\u001b[0m \u001b[0mfname_or_handle\u001b[0m\u001b[0;34m,\u001b[0m \u001b[0;34m**\u001b[0m\u001b[0mkwargs\u001b[0m\u001b[0;34m)\u001b[0m\u001b[0;34m:\u001b[0m\u001b[0;34m\u001b[0m\u001b[0;34m\u001b[0m\u001b[0m\n\u001b[0;32m-> 1540\u001b[0;31m         \u001b[0mmodel\u001b[0m \u001b[0;34m=\u001b[0m \u001b[0msuper\u001b[0m\u001b[0;34m(\u001b[0m\u001b[0mWordEmbeddingsKeyedVectors\u001b[0m\u001b[0;34m,\u001b[0m \u001b[0mcls\u001b[0m\u001b[0;34m)\u001b[0m\u001b[0;34m.\u001b[0m\u001b[0mload\u001b[0m\u001b[0;34m(\u001b[0m\u001b[0mfname_or_handle\u001b[0m\u001b[0;34m,\u001b[0m \u001b[0;34m**\u001b[0m\u001b[0mkwargs\u001b[0m\u001b[0;34m)\u001b[0m\u001b[0;34m\u001b[0m\u001b[0;34m\u001b[0m\u001b[0m\n\u001b[0m\u001b[1;32m   1541\u001b[0m         \u001b[0;32mif\u001b[0m \u001b[0misinstance\u001b[0m\u001b[0;34m(\u001b[0m\u001b[0mmodel\u001b[0m\u001b[0;34m,\u001b[0m \u001b[0mFastTextKeyedVectors\u001b[0m\u001b[0;34m)\u001b[0m\u001b[0;34m:\u001b[0m\u001b[0;34m\u001b[0m\u001b[0;34m\u001b[0m\u001b[0m\n\u001b[1;32m   1542\u001b[0m             \u001b[0;32mif\u001b[0m \u001b[0;32mnot\u001b[0m \u001b[0mhasattr\u001b[0m\u001b[0;34m(\u001b[0m\u001b[0mmodel\u001b[0m\u001b[0;34m,\u001b[0m \u001b[0;34m'compatible_hash'\u001b[0m\u001b[0;34m)\u001b[0m\u001b[0;34m:\u001b[0m\u001b[0;34m\u001b[0m\u001b[0;34m\u001b[0m\u001b[0m\n",
      "\u001b[0;32m/usr/local/lib/python3.6/dist-packages/gensim/models/keyedvectors.py\u001b[0m in \u001b[0;36mload\u001b[0;34m(cls, fname_or_handle, **kwargs)\u001b[0m\n\u001b[1;32m    226\u001b[0m     \u001b[0;34m@\u001b[0m\u001b[0mclassmethod\u001b[0m\u001b[0;34m\u001b[0m\u001b[0;34m\u001b[0m\u001b[0m\n\u001b[1;32m    227\u001b[0m     \u001b[0;32mdef\u001b[0m \u001b[0mload\u001b[0m\u001b[0;34m(\u001b[0m\u001b[0mcls\u001b[0m\u001b[0;34m,\u001b[0m \u001b[0mfname_or_handle\u001b[0m\u001b[0;34m,\u001b[0m \u001b[0;34m**\u001b[0m\u001b[0mkwargs\u001b[0m\u001b[0;34m)\u001b[0m\u001b[0;34m:\u001b[0m\u001b[0;34m\u001b[0m\u001b[0;34m\u001b[0m\u001b[0m\n\u001b[0;32m--> 228\u001b[0;31m         \u001b[0;32mreturn\u001b[0m \u001b[0msuper\u001b[0m\u001b[0;34m(\u001b[0m\u001b[0mBaseKeyedVectors\u001b[0m\u001b[0;34m,\u001b[0m \u001b[0mcls\u001b[0m\u001b[0;34m)\u001b[0m\u001b[0;34m.\u001b[0m\u001b[0mload\u001b[0m\u001b[0;34m(\u001b[0m\u001b[0mfname_or_handle\u001b[0m\u001b[0;34m,\u001b[0m \u001b[0;34m**\u001b[0m\u001b[0mkwargs\u001b[0m\u001b[0;34m)\u001b[0m\u001b[0;34m\u001b[0m\u001b[0;34m\u001b[0m\u001b[0m\n\u001b[0m\u001b[1;32m    229\u001b[0m \u001b[0;34m\u001b[0m\u001b[0m\n\u001b[1;32m    230\u001b[0m     \u001b[0;32mdef\u001b[0m \u001b[0msimilarity\u001b[0m\u001b[0;34m(\u001b[0m\u001b[0mself\u001b[0m\u001b[0;34m,\u001b[0m \u001b[0mentity1\u001b[0m\u001b[0;34m,\u001b[0m \u001b[0mentity2\u001b[0m\u001b[0;34m)\u001b[0m\u001b[0;34m:\u001b[0m\u001b[0;34m\u001b[0m\u001b[0;34m\u001b[0m\u001b[0m\n",
      "\u001b[0;32m/usr/local/lib/python3.6/dist-packages/gensim/utils.py\u001b[0m in \u001b[0;36mload\u001b[0;34m(cls, fname, mmap)\u001b[0m\n\u001b[1;32m    424\u001b[0m         \u001b[0mcompress\u001b[0m\u001b[0;34m,\u001b[0m \u001b[0msubname\u001b[0m \u001b[0;34m=\u001b[0m \u001b[0mSaveLoad\u001b[0m\u001b[0;34m.\u001b[0m\u001b[0m_adapt_by_suffix\u001b[0m\u001b[0;34m(\u001b[0m\u001b[0mfname\u001b[0m\u001b[0;34m)\u001b[0m\u001b[0;34m\u001b[0m\u001b[0;34m\u001b[0m\u001b[0m\n\u001b[1;32m    425\u001b[0m \u001b[0;34m\u001b[0m\u001b[0m\n\u001b[0;32m--> 426\u001b[0;31m         \u001b[0mobj\u001b[0m \u001b[0;34m=\u001b[0m \u001b[0munpickle\u001b[0m\u001b[0;34m(\u001b[0m\u001b[0mfname\u001b[0m\u001b[0;34m)\u001b[0m\u001b[0;34m\u001b[0m\u001b[0;34m\u001b[0m\u001b[0m\n\u001b[0m\u001b[1;32m    427\u001b[0m         \u001b[0mobj\u001b[0m\u001b[0;34m.\u001b[0m\u001b[0m_load_specials\u001b[0m\u001b[0;34m(\u001b[0m\u001b[0mfname\u001b[0m\u001b[0;34m,\u001b[0m \u001b[0mmmap\u001b[0m\u001b[0;34m,\u001b[0m \u001b[0mcompress\u001b[0m\u001b[0;34m,\u001b[0m \u001b[0msubname\u001b[0m\u001b[0;34m)\u001b[0m\u001b[0;34m\u001b[0m\u001b[0;34m\u001b[0m\u001b[0m\n\u001b[1;32m    428\u001b[0m         \u001b[0mlogger\u001b[0m\u001b[0;34m.\u001b[0m\u001b[0minfo\u001b[0m\u001b[0;34m(\u001b[0m\u001b[0;34m\"loaded %s\"\u001b[0m\u001b[0;34m,\u001b[0m \u001b[0mfname\u001b[0m\u001b[0;34m)\u001b[0m\u001b[0;34m\u001b[0m\u001b[0;34m\u001b[0m\u001b[0m\n",
      "\u001b[0;32m/usr/local/lib/python3.6/dist-packages/gensim/utils.py\u001b[0m in \u001b[0;36munpickle\u001b[0;34m(fname)\u001b[0m\n\u001b[1;32m   1382\u001b[0m         \u001b[0;31m# Because of loading from S3 load can't be used (missing readline in smart_open)\u001b[0m\u001b[0;34m\u001b[0m\u001b[0;34m\u001b[0m\u001b[0;34m\u001b[0m\u001b[0m\n\u001b[1;32m   1383\u001b[0m         \u001b[0;32mif\u001b[0m \u001b[0msys\u001b[0m\u001b[0;34m.\u001b[0m\u001b[0mversion_info\u001b[0m \u001b[0;34m>\u001b[0m \u001b[0;34m(\u001b[0m\u001b[0;36m3\u001b[0m\u001b[0;34m,\u001b[0m \u001b[0;36m0\u001b[0m\u001b[0;34m)\u001b[0m\u001b[0;34m:\u001b[0m\u001b[0;34m\u001b[0m\u001b[0;34m\u001b[0m\u001b[0m\n\u001b[0;32m-> 1384\u001b[0;31m             \u001b[0;32mreturn\u001b[0m \u001b[0m_pickle\u001b[0m\u001b[0;34m.\u001b[0m\u001b[0mload\u001b[0m\u001b[0;34m(\u001b[0m\u001b[0mf\u001b[0m\u001b[0;34m,\u001b[0m \u001b[0mencoding\u001b[0m\u001b[0;34m=\u001b[0m\u001b[0;34m'latin1'\u001b[0m\u001b[0;34m)\u001b[0m\u001b[0;34m\u001b[0m\u001b[0;34m\u001b[0m\u001b[0m\n\u001b[0m\u001b[1;32m   1385\u001b[0m         \u001b[0;32melse\u001b[0m\u001b[0;34m:\u001b[0m\u001b[0;34m\u001b[0m\u001b[0;34m\u001b[0m\u001b[0m\n\u001b[1;32m   1386\u001b[0m             \u001b[0;32mreturn\u001b[0m \u001b[0m_pickle\u001b[0m\u001b[0;34m.\u001b[0m\u001b[0mloads\u001b[0m\u001b[0;34m(\u001b[0m\u001b[0mf\u001b[0m\u001b[0;34m.\u001b[0m\u001b[0mread\u001b[0m\u001b[0;34m(\u001b[0m\u001b[0;34m)\u001b[0m\u001b[0;34m)\u001b[0m\u001b[0;34m\u001b[0m\u001b[0;34m\u001b[0m\u001b[0m\n",
      "\u001b[0;31mUnpicklingError\u001b[0m: unpickling stack underflow"
     ]
    }
   ],
   "source": [
    "from gensim.models import KeyedVectors\n",
    "\n",
    "word_vectors = KeyedVectors.load('/home/seb/Desktop/word2vec_German/vectors.txt', mmap='r')\n"
   ]
  },
  {
   "cell_type": "code",
   "execution_count": null,
   "metadata": {},
   "outputs": [],
   "source": []
  }
 ],
 "metadata": {
  "kernelspec": {
   "display_name": "Python 3",
   "language": "python",
   "name": "python3"
  },
  "language_info": {
   "codemirror_mode": {
    "name": "ipython",
    "version": 3
   },
   "file_extension": ".py",
   "mimetype": "text/x-python",
   "name": "python",
   "nbconvert_exporter": "python",
   "pygments_lexer": "ipython3",
   "version": "3.6.8"
  }
 },
 "nbformat": 4,
 "nbformat_minor": 2
}
