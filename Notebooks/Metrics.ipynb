{
 "cells": [
  {
   "cell_type": "markdown",
   "metadata": {},
   "source": [
    "# Metriken\n",
    "## M1 Downstram Classification Task\n",
    "Hier werde ich ein einfaches LSTM aufbauen und verwenden. Die gelernten word vectors werden im embedding layer eingesetzt und dann wird die accuracy als Metrik verwendet.\n",
    "## M2 Clustering by Subsystem\n",
    "+ compile a list of 3-5 subsystems and collect 10-20 words that belong to the subsystem\n",
    "+ build a clustering algorithm in the embedding space based on the cosine-distance\n",
    "\n",
    "\n",
    "## M3 Word Analogy\n",
    "\n",
    "a:b::c:d\n",
    "\n",
    "\n",
    "\n",
    "## M4 Word Similarity List\n",
    "Hier werde ich Norberts Liste verwenden und dann die cosine-Distanz der word embeddings mit der gemittelten Similarity korrelieren (PEARSON correlation oder sowas? )\n",
    "\n",
    "\n"
   ]
  },
  {
   "cell_type": "code",
   "execution_count": 1,
   "metadata": {},
   "outputs": [],
   "source": [
    "import pickle"
   ]
  },
  {
   "cell_type": "code",
   "execution_count": null,
   "metadata": {},
   "outputs": [],
   "source": [
    "# M1 LSTM"
   ]
  },
  {
   "cell_type": "code",
   "execution_count": 10,
   "metadata": {},
   "outputs": [
    {
     "name": "stdout",
     "output_type": "stream",
     "text": [
      "[['modul', 'hvbattsof', 'werte', 'hv', 'batterie', 'aufbereitet', 'audilib', 'verfügung', 'gestellt', 'gibt', 'modul', 'funktion', 'relativen', 'soc', 'benötigten', 'grenzen', 'bereit', 'stellt', 'problem', 'verschiedene', 'anforderer', 'projekte', 'unterschiedliche', 'lösungen', 'balkon', 'ursprüngliche', 'funktion', 'angehängt', 'worden', 'folgen', 'logikteile', 'doppelt', 'vorkommen', 'ungewollt', 'ausschließen', 'funktion', 'schwer', 'verstehen', 'dadurch', 'erhöhte', 'gefahr', 'falschen', 'applikation', 'mehrfachverwendung', 'applikationsgrößen', 'besteht', 'möglichkeit', 'funktionen', 'modul', 'falsch', 'bedaten', 'z', 'b', 'tiefentladeschutz', 'umsetzung', 'modular', 'bsp', 'tiefentladeschutzkonzept', 'vernetzung', 'möglich', 'strukturierte', 'modularisierte', 'darstellung', 'funktionalität', 'sicherstellung', 'projektanforderung', 'konfiguration', 'funktion', 'applikation', 'entkoppelung', 'applikationsgrößen', 'einzelnen', 'funktionalitäten'], ['test'], ['zustand', 'einschalten', 'klemme', 'leuchtet', 'start', 'stopp', 'taster', 'led', 'apa', 'kurz', 'zustand', 'klemme', 'start', 'stopp', 'eingeschaltet', 'led', 'deaktivierungstasters', 'leuchtet', 'analyse', 'schalter', 'bzw', 'led', 'zustand', 'start', 'stopp', 'taster', 'object', 'strtstopswt', 'berechnet', 'klemme', 'ausgangswerte', 'tasterzustand', 'lampenansteuerung', 'x', 'gesetzt', 'start', 'stop', 'ausgeschaltet', 'lampe', 'apa', 'pq', 'vernetzung', 'start', 'stopp', 'taster', 'bcm', 'angeschlossen', 'übernahme', 'mqb', 'apa', 'vernetzung', 'teilt', 'msg', 'can', 'lampenzustand', 'mqb', 'schalterzustand', 'bcm', 'interpretiert', 'signal', 'start', 'stopp', 'schalterzustand', 'folgt', 'x', 'lampe', 'x', 'lampe', 'zuletzt', 'gesendete', 'wert', 'motor', 'klemme', 'x', 'somit', 'lampe', 'klemme', 'wacht', 'bcm', 'bevor', 'erste', 'botschaft', 'msg', 'angekommen', 'greift', 'daher', 'zuletzt', 'gesendeten', 'wert', 'zurück', 'folglich', 'led', 'angesteuert', 'erste', 'botschaft', 'motor', 'eintrifft', 'led', 'ansteuerung', 'zurückgenommen', 'kurzes', 'leuchten', 'ergänzung', 'siehe', 'pdf', 'datei', 'anhang'], ['berechnung', 'pt', 'r', 'tqwhlaxpred', 'vw', 'erfolgt', 'aktuell', 'via', 'flex', 'ray', 'kommunikation', 'ab', 'is', 'c', 'pst', 'getriebe', 'via', 'flex', 'ray', 'prädiziertes', 'übersetzungsverhältnis', 'gesendet', 'aktuelle', 'berechnung', 'pt', 'r', 'tqwhlaxpred', 'vw', 'ersetzen', 'bisherige', 'berechnung', 'pt', 'r', 'tqwhlaxpred', 'vw', 'ersatzsignal', 'botschaftsausfall', 'verwendet'], ['vorsteuerung', 'getriebeaufnahmemoments', 'motor', 'muß', 'betätigtem', 'fahrpedal', 'begrenzt', 'darf', 'dasjenige', 'moment', 'vorgesteuert', 'betätigtem', 'fahrpedal', 'gestellt', 'reproduzierbares', 'verhalten', 'beim', 'wechsel', 'kriechen', 'anfahren', 'erhalten', 'aktuell', 'verfügbare', 'funktionalität', 'nähert', 'einfrieren', 'vorsteuermoments', 'heute', 'reproduzierbar', 'bereits', 'flex', 'ray', 'verfügbaren', 'botschaft', 'ge', 'grenzkriechmoment', 'teilt', 'getriebe', 'maximale', 'moment', 'kriechen', 'gestellt', 'vorsteuerung', 'motor', 'minimalauswahl', 'ge', 'aufnahmemoment', 'ge', 'grenzkriechmoment', 'verwendet'], ['berechnung', 'prädizierten', 'fw', 'moments', 'aktuell', 'analog', 'fw', 'moment', 'i', 'anteil', 'll', 'reglers', 'sowie', 'getriebevorsteuermoment', 'berücksichtigt', 'i', 'anteil', 'stellt', 'tatsächliches', 'moment', 'dar', 'kompensiert', 'momentenfehler', 'darf', 'darum', 'berücksichtigt', 'prädizierte', 'fw', 'moment', 'getriebe', 'kupplungsmoment', 'interpretiert', 'rechnet', 'i', 'anteil', 'rein', 'paßt', 'kupplungsmoment', 'tatsächlichen', 'motormoment', 'eben', 'i', 'anteil', 'größer', 'fehler', 'z', 'b', 'tatsächlich', 'größeres', 'modelliertes', 'schleppmoment', 'kompensiert', 'prädizierte', 'fw', 'moment', 'anfahren', 'kupplungsmoment', 'fahrer', 'einkoordiniert', 'anfahren', 'gibt', 'sollmoment', 'kriechfunktion', 'solange', 'fahrzeuggeschwindigkeit', 'kleiner', 'sollkriechgeschwindigkeit', 'fahrer', 'fordert', 'betätigung', 'fahrpedals', 'ebenfalls', 'sollmoment', 'beiden', 'max', 'auswahl', 'verstehen', 'd', 'h', 'größere', 'beiden', 'verwenden', 'addieren', 'beides', 'nachteile', 'fahrzeug', 'bewertet', 'außerdem', 'gutes', 'stück', 'weit', 'geschmackssache', 'funktion', 'beides', 'ermöglichen', 'deswegen', 'konfigurationsschalter', 'realisieren', 'bestehenden', 'funktion', 'einrechnung', 'immer', 'schalter', 'variante', 'summierung', 'darstellbar', 'hierbei', 'kommt', 'wegfallende', 'kriechmoment', 'beschleunigendem', 'fahrzeug', 'momentenreduktion'], ['fahrzeug', 'klemme', 'vkm', 'erststart', 'bewegt', 'nachträgliche', 'stoppanforderung', 'stoppphase', 'gegangen', 'löst', 'darauffolgender', 'start', 'aktiven', 'teilnehmers', 'nichtverfügbarkeitsanzeige', 'bereits', 'serie', 'nichtverfügbarkeitsanzeige', 'speziellen', 'situation', 'angezeigt', 'ursache', 'durchgestrichene', 'a', 'unmittelbar', 'klemme', 'erststart', 'kombi', 'erscheint', 'gibt', 'neben', 'überschreiten', 'km', 'h', 'bedingung', 'nachträgliche', 'stoppanforderung', 'motorlauf', 'vorliegen', 'bevor', 'anzeige', 'eventuellen', 'aktiven', 'teilnehmer', 'start', 'überhaupt', 'freigegeben', 'bzw', 'scharf', 'geschalten', 'freigabe', 'erfolgt', 'intern', 'object', 'heißt', 'kombiinstrument', 'zeitpunkt', 'angezeigt', 'sogenannte', 'scharfschalten', 'anzeige', 'durchgestrichenes', 'a', 'erfordert', 'flanke', 'nachtr', 'stopp', 'zustand', 'motor', 'läuft', 'aktuell', 'zeitpunkt', 'flanke', 'aufgrund', 'sequencings', 'schon', 'zustand', 'motor', 'stoppt', 'aktiv', 'anzeige', 'bleibt', 'lange', 'inaktiv', 'fahrzeug', 'bewegt', 'v', 'km', 'h', 'motor', 'läuft', 'flanke', 'nachträglichen', 'stoppanforderung', 'gleichzeitig', 'vorliegt', 'z', 'b', 'nachtr', 'stoppanforderung', 'stoppverbot', 'anliegt', 'lösung', 'fall', 'erststart', 'interne', 'scharfschalten', 'nichtverfügbarkeitsanzeige', 'bedingung', 'flanke', 'nachträglichen', 'stoppanforderung', 'verundet', 'zustand', 'motor', 'stoppt', 'erfüllt'], ['kommunikation', 'motor', 'sg', 'charisma', 'koordinator', 'sowohl', 'sperrungen', 'abwürfe', 'hybrid', 'betriebsmodi', 'motor', 'sg', 'möglich', 'sperrungen', 'stellen', 'dar', 'kunde', 'sperrung', 'hmi', 'entsprechenden', 'modi', 'mehr', 'anwählen', 'wohingegen', 'abwurf', 'verlassen', 'aktuell', 'eingenommenen', 'hybrid', 'betriebsmodus', 'veranlassen', 'anwählbarkeit', 'modus', 'danach', 'sofort', 'gewährleistet', 'aktuell', 'abwurf', 'betriebsmoduses', 'fall', 'verwendet', 'wählhebelposition', 's', 'ev', 'modus', 'abgeworfen', 'problem', 'neue', 'aktuelle', 'anforderung', 'wählhebelposition', 's', 'hybrid', 'betriebsmodi', 'hybrid', 'auto', 'hybrid', 'charge', 'abgeworfen', 'hybrid', 'hold', 'charisma', 'koordinator', 'eingenommen', 'umsetzung', 'crs', 'aktuelle', 'audi', 'anforderung', 'abwurf', 'betriebsmodi', 'umsetzbar', 'applikativ', 'möglich', 'abwurf', 'beliebige', 'hybrid', 'betriebsmodi', 'gewährleisten'], ['folgenden', 'modulen', 'covom', 'interne', 'signale', 'eingelesen', 'nutzung', 'fremden', 'funktionspaketen', 'modulen', 'vorgesehen', 'covom', 'interne', 'signale', 'ggf', 'abweichende', 'begelgungen', 'bedeutungen', 'tragen', 'offiziellen', 'covom', 'ausgangssignale', 'betroffenen', 'signale', 'müssen', 'freigegebene', 'covom', 'ausgangssignale', 'ersetzt', 'covomst', 'stact', 'vw', 'covomstctl', 'elmopmstgy', 'besser', 'covom', 'stact', 'vw', 'identische', 'belegung', 'covomst', 'stact', 'vw', 'ptopp', 'besser', 'covom', 'stact', 'vw', 'identische', 'belegung', 'covomst', 'sttar', 'vw', 'ptopp', 'besser', 'covom', 'sttar', 'vw', 'identische', 'belegung', 'strtstopmod', 'idxstrt', 'vw', 'cordtqlim', 'engndispoptm', 'besser', 'covom', 'idxstrt', 'vw', 'achtung', 'signalbelegung', 'siehe', 'anhang'], ['abgebrochenen', 'anfahrvorgang', 'pwg', 'leerlaufsolldrehzahlanhebung', 'copspd', 'nidl', 'vw', 'anfahrdrehzahl', 'basissolldrehzahl', 'runtergerampt', 'erfolgt', 'aktiven', 'negativen', 'rampe', 'erneut', 'anfahrvorgang', 'pwg', 'rampe', 'basissolldrehzahl', 'initialisiert', 'anschließend', 'anfahrdrehzahl', 'hochgerampt', 'somit', 'kommt', 'absenkung', 'drehzahl', 'dadurch', 'spürbaren', 'anfahrschwäche', 'beim', 'anfahren', 'pwg', 'lösungsvorschlag', 'erkannten', 'anfahrvorgang', 'copspd', 'bdrvoff', 'vw', 'rampe', 'entweder', 'leerlaufsolldrehzahl', 'inklusive', 'anfahranhebung', 'cordspddes', 'nstat', 'vw', 'max', 'auswahl', 'rampenausgang', 'copspd', 'nidl', 'vw', 'basissolldrehzahl', 'spdidleng', 'nstat', 'vw', 'initialisiert'], ['ptopp', 'minimalen', 'em', 'moment', 'limtqel', 'minimal', 'verfügbares', 'gesamtmoment', 'gebildet', 'ptcom', 'genutzt', 'verfügbare', 'rekumoment', 'bestimmen', 'problem', 'ptopp', 'genutzte', 'moment', 'beinhaltet', 'derating', 'soc', 'bzw', 'elmderstgy', 'somit', 'weder', 'verfügbare', 'rekumoment', 'reku', 'soc', 'beeinflusst', 'signal', 'limtqel', 'tqwhlmin', 'vw', 'enthält', 'sämtlich', 'deratings', 'entweder', 'ptopp', 'enthaltene', 'berechnung', 'komplett', 'duchr', 'moment', 'ersetzt', 'zumindest', 'errechnete', 'moment', 'begrenzt'], ['vlcsplt', 'applizierbare', 'radmoment', 'initialisierung', 'backlashfilters', 'dient', 'entjitterung', 'bremsmoments', 'komfortables', 'bremsverhalten', 'gewährleisten', 'bremseneinstieg', 'eingestellt', 'benennung', 'radmoments', 'vlcsplt', 'tqdeltabrkmin', 'c', 'vw', 'enthält', 'jedoch', 'kürzel', 'whl', 'rad', 'daher', 'grund', 'festgelegten', 'namenkonventionen', 'möglicher', 'fehlinterpretationen', 'angepasst', 'neue', 'name', 'daher', 'vlcsplt', 'tqwhldeltabrkmin', 'c', 'vw', 'lauten'], ['überwachung', 'geht', 'aktuell', 'davon', 'moment', 'anfahrreglers', 'abschaltung', 'monoton', 'fällt', 'jedoch', 'fall', 'moment', 'rampe', 'heruntergerampt', 'mittels', 'max', 'grenze', 'moment', 'jedoch', 'rampe', 'abhängigkeit', 'kupplungswegs', 'verändert', 'steigen', 'anpassung', 'überwachung', 'oben', 'beschriebene', 'verhalten', 'toleriert'], ['hang', 'on', 'allradsystem', 'quattro', 'ultra', 'benötigt', 'diversen', 'fahr', 'fehlerzuständen', 'möglichkeit', 'motormoment', 'bauteilschutzgründen', 'begrenzen', 'anforderungen', 'momentenstruktur', 'angehängten', 'lastenheft', 'detail', 'entnehmen', 'relevante', 'punkte', 'momentenstruktur', 'umzusetzen', 'einlesen', 'plausibilieren', 'bussignals', 'alr', 'begrenzungsmoment', 'aufbereitung', 'anforderung', 'gestufte', 'momentenabregelung', 'benötigt', 'beginn', 'zündungspfad', 'später', 'luftpfad', 'beeinflusst', 'zweikanligkeit', 'erzeugt', 'einkoordinierung', 'priorisierung', 'schutzmomentes', 'momentenstruktur', 'änderung', 'betrifft', 'pt', 'paket'], ['erwartete', 'dynamische', 'moment', 'deadlocksolver', 'zurückgesetzt', 'sobald', 'anreissphase', 'k', 'sollmoment', 'ändert', 'ausgewertet', 'allerdings', 'erst', 'ende', 'adaption', 'führt', 'erwartete', 'dynamische', 'moment', 'erkannten', 'deadlock', 'gültig', 'betrachtet', 'innerhalb', 'applikationsgrenzen', 'liegt', 'erwartete', 'dynamische', 'moment', 'darf', 'erst', 'adaptionsende', 'somit', 'auswertung', 'deadlocks', 'zurückgesetzt'], ['aktuelle', 'pt', 'struktur', 'sowohl', 'otto', 'dieselprojekte', 'genutzt', 'beide', 'motorvarianten', 'unterschiedliche', 'egas', 'überwachungen', 'besitzen', 'eingriffsschnittstellen', 'beschleunigungsregler', 'accmon', 'dieselprojekten', 'genutzt', 'systemkonstantenstellung', 'geklammert', 'problem', 'ea', 'tsievo', 'beschleunigungsbasierte', 'egas', 'überwachung', 'ottomotoren', 'umgesetzt', 'd', 'h', 'otto', 'diesel', 'sollen', 'gleiche', 'überwachungskonzept', 'bekommen', 'aufgrund', 'aktuellen', 'klammerung', 'eng', 'stengsys', 'sc', 'vw', 'möglich', 'eingriffsmoment', 'accmonregler', 'pt', 'somit', 'dieselprojekten', 'pt', 'einkoordiniert', 'achtung', 'beachten', 'systemkonstanten', 'klammerung', 'aktuell', 'neueren', 'version', 'cordtqveh', 'vorgesehen', 'aktuell', 'projekt', 'vorgesehenen', 'version', 'sc', 'klammerung', 'aktuell', 'allerdings', 'vorgesehen', 'nciht', 'abzusehen', 'reinen', 'otto', 'konzepten', 'zukünftig', 'höhere', 'version', 'corttqveh', 'verwendet', 'nachfolgende', 'änderung', 'aktueller', 'version', 'umgesetzt', 'eingriffe', 'accmon', 'regler', 'otto', 'diesel', 'unabhängig', 'erfolgen', 'klammerung', 'systemkonstante', 'beschleunigungsbasierte', 'überwachung', 'aktiv', 'vorgesehen', 'betroffene', 'funktionen', 'eingriffe', 'accmon', 'reglers', 'cordtqveh', 'monfct', 'tqwhl', 'actllim', 'vw', 'monfct', 'b', 'actllimacv', 'vw', 'copspdtq', 'veh', 'blim', 'amonfct', 'vw', 'weitere', 'module', 'ggf', 'prüfen'], ['vkm', 'idle', 'zustand', 'hybridfahrzeug', 'eingenommen', 'elektrischen', 'fahren', 'verbrenner', 'geöffneter', 'k', 'leerlauf', 'betrieben', 'zustand', 'vkm', 'k', 'sequenzielle', 'abarbeitung', 'stoppsequenzen', 'erst', 'k', 'öffen', 'vkm', 'abstellen', 'aktuell', 'innerhalb', 'regulären', 'stopps', 'raster', 'eingenommen', 'kurzzeitige', 'vkm', 'idle', 'zustand', 'innerhalb', 'stopps', 'führt', 'verschiedenen', 'funktionen', 'fehlern', 'aktive', 'stoppphase', 'idxstop', 'häufig', 'ausgewertet', 'vkm', 'idle', 'erkannt', 'obwohl', 'stopp', 'ausgeführt', 'daher', 'zentrales', 'vkm', 'idle', 'bit', 'verfügung', 'gestellt', 'istzustand', 'vkm', 'idle', 'stopps', 'anzeigt', 'übergänge', 'vkm', 'idle', 'zustand', 'hinein', 'heraus', 'darin', 'angezeigt', 'anmerkung', 'bit', 'copom', 'adapter', 'statuswort', 'copom', 'stmnstextd', 'bit', 'ersetzt', 'bit', 'bisher', 'adapter', 'vkm', 'idle', 'zustand', 'zuliefererfunktionen', 'angezeigt', 'situation', 'beim', 'wechsel', 'vkm', 'idle', 'hybdrv', 'unterscheiden', 'signale', 'copom', 'stmnstextd', 'covom', 'bengidlmod', 'vw', 'copom', 'stmnstextd', 'bleibt', 'vkm', 'idle', 'zustand', 'gesetzt', 'hybdrv', 'erreicht', 'covom', 'bengidlmod', 'vw', 'hingegen', 'sofort', 'zurückgesetzt', 'ziellösung', 'übergang', 'vkm', 'idle', 'hybdrv', 'beginnt', 'siehe', 'attachment'], ['benötigt', 'adaptionsfunktionen', 'nockenwellenphasensteller', 'einbau', 'fertigungstoleranzen', 'ausgleichen', 'einführung', 'data', 'matrix', 'codes', 'schnittstelle', 'berücksichtigung', 'offsets', 'benötigt', 'hiervon', 'füllungserfassung', 'gemch', 'abhängig', 'gilt', 'alternative', 'systeme', 'nockenwellenphasenadaption', 'solange', 'sichergestellt', 'prototypen', 'sowie', 'ersten', 'konzept', 'entwicklungsbaustufen', 'zuverlässige', 'adaption', 'verfügung', 'steht', 'möglichkeit', 'manuellen', 'adaption', 'benötigt', 'betrieb', 'mehrerer', 'fahrzeuge', 'inbesondere', 'miller', 'motoren', 'ansonsten', 'sicherer', 'betrieb', 'sichergestellt', 'möglichkeit', 'manuellen', 'adaption', 'müsste', 'einführung', 'adaptiionssystems', 'späteren', 'zeitpunkt', 'projekt', 'applikation', 'füllungserfassung', 'neu', 'erstellt', 'abweichung', 'applikationsmotor', 'benötigt', 'adaptionsfunktionen', 'abgleichen', 'saugrohr', 'abgasgegendruckes', 'untereinander', 'sensorfehler', 'auszugleichen'], ['übernahme', 'referenz', 'cr', 'bev', 'seitenschiene', 'modulmainline', 'gültig', 'phev', 'beim', 'schalten', 'kühlerumgehungsventils', 'treten', 'hohe', 'gradienten', 'eingang', 'le', 'gradienten', 'beim', 'schalten', 'dämpfen', 'art', 'mischbetrieb', 'notwendig', 'übergänge', 'verschleifen'], ['esc', 'bildet', 'sendet', 'bussignal', '„esc', 'v', 'zustartverbot“', 'v', 'zustartfreigabe', 'v', 'zustartverbot', 'zustartveto', 'bzw', 'startabbruch', 'v', 'start', 'darstellt', 'forderung', 'esc', 'signal', 'msg', 'eingelesen', 'berücksichtigt', 'signal', 'esc', 'v', 'zustartverbot', 'gesetzt', 'gefordert', 'vkm', 'start', 'v', 'zustartsystem', 'beginnen', 'laufenden', 'v', 'zustart', 'abbrechen', 'umsetzung', 'startverbots', 'bzw', 'startabbruchs', 'signal', 'esc', 'v', 'zustartverbot', 'covom', 'analog', 'signal', 'bem', 'hybrid', 'info', 'erfolgen', 'informationen', 'signal', 'esc', 'v', 'zustartverbot', 'siehe', 'anhang']]\n"
     ]
    }
   ],
   "source": [
    "# M2 Clustering by subsystem\n",
    "\n",
    "file = open(\"/home/seb/Capstone Project/Data/CRQ/CRQ_preprocessed.pkl\", 'rb')\n",
    "crq = pickle.load(file)\n",
    "\n",
    "engine = ['motor', 'einspritzung', 'zündung']\n",
    "transmission = ['getriebe', \"gang\", \"wählhebel\", \"fahrstufe\", \"schlupf\", \"kupplung\"]\n",
    "control_unit = [\"funktion\", \"applikation\", \"regler\", ]\n",
    "vehicle=[\"can\", \"kombiinstrument\", 'flexray', ]\n",
    "exhaust\n",
    "\n",
    "print(crq[130:150])"
   ]
  },
  {
   "cell_type": "code",
   "execution_count": null,
   "metadata": {},
   "outputs": [],
   "source": [
    "# M3 Word Analogy"
   ]
  },
  {
   "cell_type": "code",
   "execution_count": null,
   "metadata": {},
   "outputs": [],
   "source": [
    "# M4 Word similarity"
   ]
  }
 ],
 "metadata": {
  "kernelspec": {
   "display_name": "Python 3",
   "language": "python",
   "name": "python3"
  },
  "language_info": {
   "codemirror_mode": {
    "name": "ipython",
    "version": 3
   },
   "file_extension": ".py",
   "mimetype": "text/x-python",
   "name": "python",
   "nbconvert_exporter": "python",
   "pygments_lexer": "ipython3",
   "version": "3.6.8"
  }
 },
 "nbformat": 4,
 "nbformat_minor": 2
}
