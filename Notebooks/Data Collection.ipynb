{
 "cells": [
  {
   "cell_type": "code",
   "execution_count": 1,
   "metadata": {},
   "outputs": [],
   "source": [
    "import nltk\n",
    "import os\n",
    "import PyPDF2\n",
    "import pickle\n",
    "import pandas as pd\n",
    "import textract"
   ]
  },
  {
   "cell_type": "code",
   "execution_count": null,
   "metadata": {},
   "outputs": [
    {
     "name": "stdout",
     "output_type": "stream",
     "text": [
      "showing info https://raw.githubusercontent.com/nltk/nltk_data/gh-pages/index.xml\n"
     ]
    }
   ],
   "source": [
    "nltk.download()"
   ]
  },
  {
   "cell_type": "markdown",
   "metadata": {},
   "source": [
    "### Preprocessing\n",
    "\n",
    "1. ingest: Was für ein Format brauchen die Algos final? Liste von Listen (bzw. Sequenz von Sequnezen) von Tokens, über die einzelnen Listen wird dann jeweils getrennt gearbeitet\n",
    "\n",
    "2. lower case\n",
    "3. cleaning: special characters, numbers, punctuation, stopwords, tags (wie HTML), whitespace\n",
    "4. speziell im deutschen: Umlaute ersetzen!\n",
    "5. End-of-Line Hyphen\n",
    "\n",
    "End-of-line hyphens are used for splitting whole words into parts to perform justification of text during typesetting. Therefore they should be removed during tokenization because they are not part of the word but rather layouting instructions.\n",
    "\n",
    "5. Lemmatizer, Stemming\n",
    "6. tokenizer\n",
    "7. padding\n",
    "\n",
    "\n",
    "Grundsätzliche Fragen:\n",
    "+ sind die gelabelten CRQ in den ungelabelten CRQ drin oder muss ich die noch mal reinladen?\n",
    "+ Stopwords für die deutsche Sprache bei GenSim oder nachladen? Wenn ja, welche? \n",
    "Done. Aus PyPi eine stop_words Liste gefunden\n",
    "+ soll ich ausschließlich gensin verwenden oder alles mit nativem Python machen? \n",
    "Gensin kann leider keine deutschen Stopwords\n",
    "\n",
    "Aufteilung: \n",
    "\n",
    "Buch, Patent und CRQ sind jeweils am Ende eine Sequenz bzw. eine Liste von Tokens."
   ]
  },
  {
   "cell_type": "code",
   "execution_count": null,
   "metadata": {},
   "outputs": [],
   "source": [
    "# Ingest Books \n",
    "\n",
    "path = \"/home/seb/Capstone Project/Data/Books\"\n",
    "path_specific = \"/home/seb/Desktop/Book Collection/Thermodynamik Der Verbrennungskraftmaschine - Rudolf Pischinger.pdf\"\n",
    "\n",
    "def test(path, path_specific):\n",
    "    pdf_file = open(path_specific, \"rb\")\n",
    "    read_pdf = PyPDF2.PdfFileReader(pdf_file)\n",
    "    number_of_pages = read_pdf.getNumPages()\n",
    "    print(number_of_pages)\n",
    "    for i in range(0, read_pdf.getNumPages()):\n",
    "        page = read_pdf.getPage(i)\n",
    "        print(page.extractText())\n",
    "\n",
    "    page = read_pdf.getPage(0)\n",
    "    page_content = page.extractText()\n",
    "    print(page_content)\n",
    "\n",
    "def page_count(path):\n",
    "    cnt = 0\n",
    "    sum = 0\n",
    "    for file in os.listdir(path):\n",
    "        pdf_file = open(os.path.join(path, file), \"rb\")\n",
    "        read_pdf = PyPDF2.PdfFileReader(pdf_file)\n",
    "        number_of_pages = read_pdf.getNumPages()\n",
    "        print(number_of_pages)\n",
    "        sum+=number_of_pages\n",
    "        cnt+=1\n",
    "    return sum, cnt\n",
    "\n",
    "def word_count_2(path):\n",
    "    cnt = 0\n",
    "    sum_pages = 0\n",
    "    sum_words = 0\n",
    "    for file in os.listdir(path):\n",
    "        sum_words_book = 0\n",
    "        pdf_file = open(os.path.join(path, file), \"rb\")\n",
    "        read_pdf = PyPDF2.PdfFileReader(pdf_file)\n",
    "        number_of_pages = read_pdf.getNumPages()\n",
    "        \n",
    "        for i in range(0, number_of_pages):\n",
    "            page = read_pdf.getPage(i)\n",
    "            page_content = page.extractText()\n",
    "            num_words_page = len(page_content.split())\n",
    "            sum_words_book+=num_words_page    \n",
    "        sum_pages+=number_of_pages\n",
    "        sum_words +=sum_words_book\n",
    "        cnt+=1\n",
    "    return sum_pages, sum_words, cnt\n",
    "\n",
    "def word_count(path):\n",
    "    cnt = 0\n",
    "    sum = 0\n",
    "    for file in os.listdir(path):\n",
    "        if file.endswith(\".pdf\"):  \n",
    "            print(file)\n",
    "            text = textract.process(os.path.join(path, file))\n",
    "            print(len(text))\n",
    "            res = len(text.split())\n",
    "            cnt+=1\n",
    "            sum+=res\n",
    "    print(cnt)\n",
    "    print(res)\n",
    "    \n",
    "# print(page_count(path))\n",
    "print(word_count_2(path))"
   ]
  },
  {
   "cell_type": "code",
   "execution_count": 16,
   "metadata": {},
   "outputs": [
    {
     "name": "stdout",
     "output_type": "stream",
     "text": [
      "1\n",
      "['\\n\\n\\n\\n\\n\\n\\n\\n\\n\\n\\n\\n\\n\\n\\n\\n\\n\\n\\n\\n\\n\\n\\n\\n\\n\\n\\n\\n\\n\\n\\n\\n\\n\\n\\n\\n\\n\\n\\n\\n\\n\\n\\n\\n\\n\\n\\n\\n\\n\\n\\n\\n\\n\\n\\n\\n\\n\\n\\n\\n\\n\\n\\n', '\\n\\n\\n\\n\\n\\n\\n\\n\\n\\n\\n\\n\\n\\n\\n\\n\\n\\n\\n\\n\\n\\n\\n\\n\\n\\n\\n\\n\\n\\n\\n\\n\\n\\n\\n\\n\\n\\n\\n\\n\\n\\n\\n\\n\\n\\n\\n\\n\\n\\n\\n\\n\\n\\n\\n\\n\\n\\n\\n\\n\\n\\n\\n\\n\\n\\n\\n\\n\\n\\n\\n\\n\\n\\n\\n\\n\\n\\n\\n\\n\\n\\n\\n\\n\\n\\n\\n\\n\\n\\n\\n\\n\\n\\n\\n\\n\\n\\n\\n\\n\\n\\n\\n\\n\\n\\n\\n\\n\\n\\n\\n\\n\\n\\n\\n\\n\\n\\n\\n\\n\\n\\n\\n\\n', '\\n\\n\\n\\n\\n\\n\\n\\n\\n\\n\\n\\n\\n\\n\\n\\n\\n\\n\\n\\n\\n\\n\\n\\n\\n\\n\\n\\n\\n\\n\\n\\n\\n\\n\\n\\n\\n\\n\\n\\n\\n\\n\\n\\n\\n\\n\\n\\n\\n\\n\\n\\n\\n\\n\\n\\n\\n\\n\\n\\n\\n\\n\\n\\n\\n\\n\\n\\n\\n\\n\\n\\n\\n\\n\\n\\n\\n\\n\\n\\n\\n\\n\\n\\n\\n\\n\\n\\n\\n\\n\\n\\n\\n\\n\\n\\n\\n\\n\\n\\n\\n\\n\\n\\n\\n\\n\\n\\n\\n\\n\\n\\n\\n\\n\\n\\n\\n\\n\\n\\n\\n\\n\\n\\n', '\\n\\n\\n\\n\\n\\n\\n\\n\\n\\n\\n\\n\\n\\n\\n\\n\\n\\n\\n\\n\\n\\n\\n\\n\\n\\n\\n\\n\\n\\n\\n\\n\\n\\n\\n\\n\\n\\n\\n\\n\\n\\n\\n\\n\\n\\n\\n\\n\\n\\n\\n\\n\\n\\n\\n\\n\\n\\n\\n\\n\\n\\n\\n\\n\\n\\n\\n\\n\\n\\n\\n\\n\\n\\n\\n\\n\\n\\n\\n\\n\\n\\n\\n\\n\\n\\n\\n\\n\\n\\n\\n\\n\\n\\n\\n\\n\\n\\n\\n\\n\\n\\n\\n\\n\\n\\n\\n\\n\\n\\n\\n\\n\\n\\n\\n\\n\\n\\n\\n\\n\\n\\n\\n\\n', '\\n\\n\\n\\n\\n\\n\\n\\n\\n\\n\\n\\n\\n\\n\\n\\n\\n\\n\\n\\n\\n\\n\\n\\n\\n\\n\\n\\n\\n\\n\\n\\n\\n\\n\\n\\n\\n\\n\\n\\n\\n\\n\\n\\n\\n\\n\\n\\n\\n\\n\\n\\n\\n\\n\\n\\n\\n\\n\\n\\n\\n\\n\\n\\n\\n\\n\\n\\n\\n\\n\\n\\n\\n\\n\\n\\n\\n\\n\\n\\n\\n\\n\\n\\n\\n\\n\\n\\n\\n\\n\\n\\n\\n\\n\\n\\n\\n\\n\\n\\n\\n\\n\\n\\n\\n\\n\\n\\n\\n\\n\\n\\n\\n\\n\\n\\n\\n\\n\\n\\n\\n\\n\\n\\n', '\\n\\n\\n\\n\\n\\n\\n\\n\\n\\n\\n\\n\\n\\n\\n\\n\\n\\n\\n\\n\\n\\n\\n\\n\\n\\n\\n\\n\\n\\n\\n\\n\\n\\n\\n\\n\\n\\n\\n\\n\\n\\n\\n\\n\\n\\n\\n\\n\\n\\n\\n\\n\\n\\n\\n\\n\\n\\n\\n\\n\\n\\n\\n\\n\\n\\n\\n\\n\\n\\n\\n\\n\\n\\n\\n\\n\\n\\n\\n\\n\\n\\n\\n\\n\\n\\n\\n\\n\\n\\n\\n\\n\\n\\n\\n\\n\\n\\n\\n\\n\\n\\n\\n\\n\\n\\n\\n\\n\\n\\n\\n\\n\\n\\n\\n\\n\\n\\n\\n\\n\\n\\n\\n\\n', '\\n\\n\\n\\n\\n\\n\\n\\n\\n\\n\\n\\n\\n\\n\\n\\n\\n\\n\\n\\n\\n\\n\\n\\n\\n\\n\\n\\n\\n\\n\\n\\n\\n\\n\\n\\n\\n\\n\\n\\n\\n\\n\\n\\n\\n\\n\\n\\n\\n\\n\\n\\n\\n\\n\\n\\n\\n\\n\\n\\n\\n\\n\\n\\n\\n\\n\\n\\n\\n\\n\\n\\n\\n\\n\\n\\n\\n\\n\\n\\n\\n\\n\\n\\n\\n\\n\\n\\n\\n\\n\\n\\n\\n\\n\\n\\n\\n\\n\\n\\n\\n\\n\\n\\n\\n\\n\\n\\n\\n\\n\\n\\n\\n\\n\\n\\n\\n\\n\\n\\n\\n\\n\\n\\n\\n\\n\\n\\n\\n\\n', '\\n\\n\\n\\n\\n\\n\\n\\n\\n\\n\\n\\n\\n\\n\\n\\n\\n\\n\\n\\n\\n\\n\\n\\n\\n\\n\\n\\n\\n\\n\\n\\n\\n\\n\\n\\n\\n\\n\\n\\n\\n\\n\\n\\n\\n\\n\\n\\n\\n\\n\\n\\n\\n\\n\\n\\n\\n\\n\\n\\n\\n\\n\\n\\n\\n\\n\\n\\n\\n\\n\\n\\n\\n\\n\\n\\n\\n\\n\\n\\n']\n"
     ]
    }
   ],
   "source": [
    "#Liefert eine Liste von Listen mit jedem Buch als eine Wortliste.\n",
    "\n",
    "path_books = \"/home/seb/Capstone Project/Data/Patents_2\"\n",
    "\n",
    "def books_to_seq_2(path):\n",
    "    sum_books = 0\n",
    "    for file in os.listdir(path):\n",
    "        text = textract.process(os.path.join(path, file))\n",
    "        sum_books+=1\n",
    "    return text, sum_books \n",
    "\n",
    "\n",
    "\n",
    "\n",
    "\n",
    "def books_to_sequence(path):\n",
    "    raw_data = []\n",
    "    sum_pages = 0\n",
    "    sum_books = 0\n",
    "    for file in os.listdir(path):\n",
    "        pdf_file = open(os.path.join(path, file), \"rb\")\n",
    "        read_pdf = PyPDF2.PdfFileReader(pdf_file)\n",
    "        number_of_pages = read_pdf.getNumPages()\n",
    "        sum_pages+=number_of_pages\n",
    "        sum_books+=1\n",
    "        for i in range(number_of_pages):\n",
    "            page = read_pdf.getPage(i)\n",
    "            page_content = page.extractText() \n",
    "            raw_data.append(page_content)\n",
    "    return raw_data, sum_pages, sum_books\n",
    "\n",
    "data, pages, books = books_to_sequence(path_books)\n",
    "#data, books = books_to_seq2(path_books)\n",
    "print(books)\n",
    "\n",
    "print(data[:10000])"
   ]
  },
  {
   "cell_type": "code",
   "execution_count": 47,
   "metadata": {},
   "outputs": [
    {
     "name": "stdout",
     "output_type": "stream",
     "text": [
      "<class 'bytes'>\n"
     ]
    }
   ],
   "source": [
    "print(type(data))\n",
    "#prep1 = data.replace\n",
    "#prep1 = [s.replace('-\\n','') for s in data] \n",
    "#print(prep1[:5])\n",
    "#prep2 = prep1.split()\n",
    "#print(prep2)"
   ]
  },
  {
   "cell_type": "code",
   "execution_count": 31,
   "metadata": {},
   "outputs": [
    {
     "name": "stdout",
     "output_type": "stream",
     "text": [
      "352\n",
      "['AlternativeAntriebefürAutomobile\\n2.,erweiterteAu˜age\\n']\n",
      "True\n"
     ]
    }
   ],
   "source": [
    "print(len(data))\n",
    "print(data[:1])\n",
    "with open('copy.pkl', 'wb') as pkl:\n",
    "    pickle.dump(seq, pkl, protocol=pickle.HIGHEST_PROTOCOL)\n",
    "\n",
    "with open('copy.pkl', 'rb') as s:\n",
    "    b = pickle.load(s)\n",
    "    \n",
    "print(seq==b)"
   ]
  },
  {
   "cell_type": "code",
   "execution_count": 10,
   "metadata": {},
   "outputs": [
    {
     "data": {
      "text/plain": [
       "'utf-8'"
      ]
     },
     "execution_count": 10,
     "metadata": {},
     "output_type": "execute_result"
    }
   ],
   "source": [
    "import sys\n",
    "sys.getdefaultencoding()"
   ]
  },
  {
   "cell_type": "code",
   "execution_count": 13,
   "metadata": {},
   "outputs": [
    {
     "name": "stdout",
     "output_type": "stream",
     "text": [
      "[b'(19)\\n\\n*DE102013011772A120140626*\\n(10)\\n\\nDE 10 2013 011 772 A1 2014.06.26\\n\\nOffenlegungsschrift\\n\\n(12)\\n\\nF02D 13/02 (2006.01)\\n\\n(21) Aktenzeichen: 10 2013 011 772.0\\n(22) Anmeldetag: 15.07.2013\\n(43) Offenlegungstag: 26.06.2014\\n\\n(51) Int Cl.:\\n\\n(66) Innere Priorit\\xc3\\xa4t:\\n10 2012 025 391.5\\n\\n(72) Erfinder:\\nLorenz, Marc, 85117, Eitensheim, DE; Mueller,\\nDavid, 85057, Ingolstadt, DE; Ernst, Sebastian,\\n85049, Ingolstadt, DE\\n\\n24.12.2012\\n\\n(71) Anmelder:\\nAUDI AG, 85057, Ingolstadt, DE\\n\\nF02D 41/18 (2006.01)\\n\\nPr\\xc3\\xbcfungsantrag gem\\xc3\\xa4\\xc3\\x9f \\xc2\\xa7 44 PatG ist gestellt.\\nDie folgenden Angaben sind den vom Anmelder eingereichten Unterlagen entnommen\\n(54) Bezeichnung: Verfahren zum Betreiben einer Brennkraftmaschine sowie entsprechende Brennkraftmaschine\\n\\n(57) Zusammenfassung: Die Erfindung betrifft ein Verfahren zum Betreiben einer Brennkraftmaschine mit einem zumindest eine Nockenwelle aufweisenden Ventiltrieb, mit den\\nfolgenden Schritten w\\xc3\\xa4hrend eines Normalbetriebs: Bestimmen einer einem Zylinder der Brennkraftmaschine durch wenigstens ein Einlassventil des Ventiltriebs zugef\\xc3\\xbchrten theoretischen Frischluftmenge zumindest aus einer gemessenen\\nDruckgr\\xc3\\xb6\\xc3\\x9fe und aus wenigstens einer Nockenwellenstellung; Bestimmen der in den Zylinder einzubringenden Kraftstoffmenge aus der theoretischen Frischluftmenge; und Einbringen der bestimmten Kraftstoffmenge in den Zylinder. Dabei ist vorgesehen, dass die Nockenwellenstellung mithilfe\\neiner Nockenwellenreferenzstellung ermittelt wird und dass\\nw\\xc3\\xa4hrend eines zumindest einmalig vorzunehmenden Kalibrierbetriebs die folgenden Schritte durchgef\\xc3\\xbchrt werden:\\nEinstellen eines Betriebspunkts mit einer bestimmten theoretischen Frischluftmenge und einer bestimmten, anhand\\nder theoretischen Frischluftmenge und einem Lambdasollwert ermittelten Kraftstoffmenge; Bestimmen eines Lambdawerts des Abgases der Brennkraftmaschine mittels einer in\\neinem Abgastrakt angeordneten Lambdasonde; und Bestimmen der Nockenwellenreferenzstellung aus der Differenz\\nzwischen dem bestimmten Lambdawert und einem Lambdareferenzwert. Die Erfindung betrifft weiterhin eine Brennkraftmaschine.\\n\\n\\x0cDE 10 2013 011 772 A1\\n\\n2014.06.26\\n\\n[0004] Bei konventionellen Brennkraftmaschinen erfolgt das \\xc3\\x96ffnen des Einlassventils, wenn ein in dem\\nZylinder angeordneter Kolben nahe seinem oberen\\nTotpunkt (oder in diesem) vorliegt. Das Schlie\\xc3\\x9fen\\nwird nahe dem unteren Totpunkt des Kolbens (oder in\\ndiesem) vorgenommen. In beiden Positionen ist die\\nBewegungsgeschwindigkeit des Kolbens und mithin\\ndie Str\\xc3\\xb6mungsgeschwindigkeit beziehungsweise der\\nMassendurchsatz der in den Zylinder eingebrachten\\nFrischluft gering, sodass geringf\\xc3\\xbcgige Verschiebungen des \\xc3\\x96ffnungs- und Schlie\\xc3\\x9fzeitpunkts des Einlassventils und/oder des Auslassventils keinen relevanten Einfluss auf die in dem Zylinder vorliegende\\nFrischluftmenge haben. Die Verschiebungen k\\xc3\\xb6nnen\\nsich beispielsweise aus Einbautoleranzen eines Nockentriebs, insbesondere der Nockenwelle, ergeben.\\n\\nBeschreibung\\n[0001] Die Erfindung betrifft ein Verfahren zum Betreiben einer Brennkraftmaschine mit einem zumindest eine Nockenwelle aufweisenden Ventiltrieb, mit\\nden folgenden Schritten w\\xc3\\xa4hrend eines Normalbetriebs: Bestimmen einer einem Zylinder der Brennkraftmaschine durch wenigstens ein Einlassventil des\\nVentiltriebs zugef\\xc3\\xbchrten theoretischen Frischluftmenge zumindest aus einer gemessenen Druckgr\\xc3\\xb6\\xc3\\x9fe\\nund aus wenigstens einer Nockenwellenstellung; Bestimmen der in den Zylinder einzubringenden Kraftstoffmenge aus der theoretischen Frischluftmenge;\\nund Einbringen der bestimmten Kraftstoffmenge in\\nden Zylinder. Die Erfindung betrifft weiterhin eine\\nBrennkraftmaschine.\\n[0002] F\\xc3\\xbcr die Brennkraftmaschine, welche beispielsweise als Otto-Brennkraftmaschine ausgebildet\\nist, wird die in den Zylinder beziehungsweise in einen Brennraum des Zylinders eingebrachte Frischluftmenge zur Kalkulation der erforderlichen einzuspritzenden Kraftstoffmenge ben\\xc3\\xb6tigt. Die Frischluftmenge ist dabei diejenige Menge an Frischluft, die\\nw\\xc3\\xa4hrend eines Einlasszeitraums des wenigstens einen Einlassventils durch dieses in den Zylinder gelangt und dort nachfolgend f\\xc3\\xbcr eine Verbrennung\\ndes Kraftstoffs zu Verf\\xc3\\xbcgung steht. Der Einlasszeitraum wird durch einen \\xc3\\x96ffnungszeitpunkt und einen\\nSchlie\\xc3\\x9fzeitpunkt des Einlassventils definiert und erstreckt sich von dem erstgenannten bis hin zu dem\\nletztgenannten. Die Frischluftmenge kann zudem von\\neinem Auslasszeitraum, w\\xc3\\xa4hrend welchem ein dem\\nZylinder zugeordnetes Auslassventil ge\\xc3\\xb6ffnet ist, beeinflusst werden. Der Auslasszeitraum wird \\xe2\\x80\\x93 analog\\nzu dem Einlasszeitraum \\xe2\\x80\\x93 definiert durch einen \\xc3\\x96ffnungszeitpunkt und einen Schlie\\xc3\\x9fzeitpunkt des Auslassventils. Der Einfluss des Auslasszeitraums auf\\ndie Frischluftmenge ergibt sich insbesondere bei einer \\xc3\\x9cberschneidung des Auslasszeitraums mit dem\\nEinlasszeitraum.\\n\\n[0005] Der Einlasszeitraum, in welchem das Einlassventil ge\\xc3\\xb6ffnet ist, kann jedoch auch deutlich\\nk\\xc3\\xbcrzer gew\\xc3\\xa4hlt werden, insbesondere wenn neuartige Brennverfahren, wie beispielsweise der AtkinsonKreisprozess oder der Miller-Kreisprozess, verwendet werden sollen. Zus\\xc3\\xa4tzlich oder alternativ kann\\neine Ver\\xc3\\xa4nderung des Auslasszeitraums vorgesehen sein. Das \\xc3\\x96ffnen und/oder das Schlie\\xc3\\x9fen des\\nEinlassventils beziehungsweise des Auslassventils\\nerfolgt mithin, w\\xc3\\xa4hrend sich der Kolben in Bewegung befindet und eine hohe Str\\xc3\\xb6mungsgeschwindigkeit der dem Zylinder zugef\\xc3\\xbchrten Frischluft vorliegt.\\nEntsprechend k\\xc3\\xb6nnen die Einbautoleranzen des Nockentriebs und insbesondere der Nockenwelle sowie die sich daraus ergebenden Verschiebungen des\\n\\xc3\\x96ffnungszeitpunkts und/oder des Schlie\\xc3\\x9fzeitpunkts,\\nentweder des Einlassventils, des Auslassventils oder\\nder beiden, einen deutlichen Einfluss auf die in dem\\nZylinder vorliegende Frischluftmenge haben. Bei bekannten Brennkraftmaschinen, welche auf diese Art\\nund Weise betrieben werden, ist daher \\xc3\\xbcblicherweise\\ndie unmittelbare Bestimmung des Luftmassenstroms\\nvorgesehen, was zwar wie bereits erl\\xc3\\xa4utert eine genaue Ermittlung der Frischluftmenge erm\\xc3\\xb6glicht, jedoch einen hohen Kostenaufwand bedeutet.\\n\\n[0003] Die Ermittlung der Frischluftmenge, insbesondere in Form der Frischluftmasse, erfolgt entweder durch eine unmittelbare Messung des Frischluftmassenstroms mittels eines Luftmassenmessers,\\nbeispielsweise eines Hei\\xc3\\x9ffilmmassenmessers, oder\\nlediglich mittelbar auf Basis der Druckgr\\xc3\\xb6\\xc3\\x9fe. Letzteres ist aufgrund der deutlich geringeren Sensorkosten vorteilhaft. Allerdings ist ein hoher programmtechnischer Aufwand in einem Steuerger\\xc3\\xa4t der Brennkraftmaschine notwendig. Zudem liegen aufgrund der\\nlediglich mittelbaren Bestimmung zahlreiche Fehlerquellen vor, welche die Genauigkeit der bestimmten\\nFrischluftmenge beeintr\\xc3\\xa4chtigen k\\xc3\\xb6nnen. Eine derartige Fehlerquelle sind Toleranzen des Nockentriebs,\\nbeispielsweise in der Stellung der Nockenwelle, aufgrund welcher die theoretische Frischluftmenge ermittelt wird.\\n\\n[0006] Es ist daher Aufgabe der Erfindung, ein Verfahren zum Betreiben einer Brennkraftmaschine vorzuschlagen, welches diesen Nachteil nicht aufweist,\\nsondern insbesondere die Ermittlung der in dem Zylinder vorliegenden Frischluftmenge mit hoher Genauigkeit bei gleichzeitig geringen Sensorkosten erm\\xc3\\xb6glicht.\\n[0007] Dies wird erfindungsgem\\xc3\\xa4\\xc3\\x9f mit dem Verfahren mit den Merkmalen des Anspruchs 1 erreicht.\\nDabei ist vorgesehen, dass die Nockenwellenstellung mithilfe einer Nockenwellenreferenzstellung ermittelt wird und dass w\\xc3\\xa4hrend eines zumindest einmalig vorzunehmenden Kalibrierbetriebs die folgenden Schritte durchgef\\xc3\\xbchrt werden: Einstellen eines\\nBetriebspunkts mit einer bestimmten theoretischen\\nFrischluftmenge und einer bestimmten, anhand der\\n\\n2/8\\n\\n\\x0cDE 10 2013 011 772 A1\\ntheoretischen Frischluftmenge und einem Lambdasollwert ermittelten Kraftstoffmenge; Bestimmen eines Lambdawerts des Abgases der Brennkraftmaschine mittels einer in einem Abgastrakt angeordneten Lambdasonde; und Bestimmen der Nockenwellenreferenzstellung aus der Differenz zwischen\\ndem bestimmten Lambdawert und einem Lambdareferenzwert. Es soll explizit darauf hingewiesen werden, dass das beschriebene Verfahren f\\xc3\\xbcr eine beliebige Betriebsart der Brennkraftmaschine eingesetzt\\nwerden kann, also nicht nur dann, wenn neuartige\\nBrennverfahren wie der Atkinson-Kreisprozess oder\\nder Miller-Kreisprozess zum Einsatz kommen. Ebenso kann es f\\xc3\\xbcr eine beliebige Anzahl an Nockenwellen eingesetzt werden, wobei beispielsweise eine der\\nNockenwellen als Einlassnockenwelle und eine andere der Nockenwellen als Auslassnockenwelle vorliegt.\\n\\n2014.06.26\\n\\nn\\xc3\\xa4chst muss jedoch die Nockenwellenreferenzstellung ermittelt werden, welche die Abweichung zwischen den Nockenwellenstellungen der Brennkraftmaschine w\\xc3\\xa4hrend des Normalbetriebs und w\\xc3\\xa4hrend\\ndes Referenzbetriebs beschreibt. Dies erfolgt w\\xc3\\xa4hrend des Kalibrierbetriebs, welcher zumindest einmalig durchzuf\\xc3\\xbchren ist.\\n[0010] W\\xc3\\xa4hrend des Kalibrierbetriebs wird zun\\xc3\\xa4chst\\nder Betriebspunkt mit der bestimmten theoretischen\\nFrischluftmenge und der bestimmten, anhand der\\ntheoretischen Frischluftmenge bestimmten Kraftstoffmenge eingestellt. Die Kraftstoffmenge wird dabei\\naus der theoretischen Frischluftmenge und dem\\nLambdasollwert ermittelt, wobei letzterer \\xc3\\xbcblicherweise frei w\\xc3\\xa4hlbar ist. Beispielsweise wird ein Lambdasollwert von Eins verwendet. Analog zu dem Normalbetrieb wird die ermittelte Kraftstoffmenge in den Zylinder eingebracht und die Verbrennung des Kraftstoffs zusammen mit der in dem Zylinder enthaltenen\\nFrischluftmenge durchgef\\xc3\\xbchrt.\\n\\n[0008] Das Bestimmen der Frischluftmenge w\\xc3\\xa4hrend des Normalbetriebs der Brennkraftmaschine erfolgt anhand der Druckgr\\xc3\\xb6\\xc3\\x9fe, also beispielsweise einem Saugrohrdruck oder einer Saugrohrdruckdifferenz, die insbesondere \\xc3\\xbcber eine Drosselklappe vorliegt, und aus der Nockenwellenstellung. Diese dienen als Eingangsgr\\xc3\\xb6\\xc3\\x9fen in eine mathematische Beziehung, eine Tabelle und/oder ein Kennfeld, wobei\\ndiese beispielsweise anhand eines Referenzbetriebs\\nder Brennkraftmaschine oder einer Referenzbrennkraftmaschine festgelegt wurden. Weicht die Nockenwellenstellung, beispielsweise aufgrund von Einbautoleranzen, von derjenigen w\\xc3\\xa4hrend des Referenzbetriebs ab, so schl\\xc3\\xa4gt sich dies als Fehler in der theoretischen Frischluftmenge zugrunde, weil der \\xc3\\x96ffnungszeitpunkt und/oder der Schlie\\xc3\\x9fzeitpunkt, entweder des Einlassventils, des Auslassventils oder\\nder beiden, nicht bei denselben Nockenwellenstellungen vorliegen wie w\\xc3\\xa4hrend des Referenzbetriebs.\\nDer \\xc3\\x96ffnungszeitpunkt und/oder der Schlie\\xc3\\x9fzeitpunkt\\nsind also \\xe2\\x80\\x93 bezogen auf die Nockenwellenstellung \\xe2\\x80\\x93\\ngegen\\xc3\\xbcber dem Referenzbetrieb f\\xc3\\xbcr das Einlassventil\\nund/oder das Auslassventil verschieden.\\n\\n[0011] Nachfolgend wird der Lambdawert des w\\xc3\\xa4hrend der Verbrennung anfallenden Abgases der\\nBrennkraftmaschine bestimmt, vorzugsweise durch\\nMessung mittels der Lambdasonde. Nun wird die Differenz zwischen dem mittels der Lambdasonde bestimmten Lambdawert und dem Lambdareferenzwert\\nermittelt. Anhand dieser Differenz kann bestimmt\\nwerden, welche Frischluftmenge tats\\xc3\\xa4chlich in dem\\nZylinder vorhanden war. Weicht diese von der theoretischen Frischluftmenge ab, so kann aus der Differenz zwischen der tats\\xc3\\xa4chlichen und der theoretischen Frischluftmenge auf die Abweichung zwischen\\nden Nockenwellenstellungen in dem Normalbetrieb\\nund dem Referenzbetrieb und mithin auf die Nockenwellenreferenzstellung geschlossen werden.\\n[0012] Die Berechnung der Nockenwellenreferenzstellung wird also beispielsweise mittels einer inversen Berechnung vorgenommen. Im Rahmen der inversen Berechnung ist es vorgesehen, aus dem bestimmten Lambdawert und/oder der Differenz wiederum mithilfe der mathematischen Beziehung und/oder\\neiner Tabelle oder dergleichen auf die tats\\xc3\\xa4chlich vorliegende Nockenwellenstellung und mithin die Nockenwellenreferenzstellung zu schlie\\xc3\\x9fen. Es kann jedoch auch vorgesehen sein, dass die Nockenwellenreferenzstellung w\\xc3\\xa4hrend des Kalibrierbetriebs iterativ derart angepasst wird, dass die Differenz zwischen\\ndem bestimmten Lambdawert und dem Lambdareferenzwert kleiner wird. Dies wird vorzugsweise solange durchgef\\xc3\\xbchrt, bis die Differenz einen bestimmten\\nGrenzwert unterschritten hat oder gleich Null ist.\\n\\n[0009] Aus diesem Grund soll die Nockenwellenstellung mithilfe der Nockenwellenreferenzstellung ermittelt werden, welche der Eliminierung derartiger Einbautoleranzen dient, sodass das \\xc3\\x96ffnen und das\\nSchlie\\xc3\\x9fen des Einlassventils und/oder des Auslassventils n\\xc3\\xa4her bei den oder genau bei den auch w\\xc3\\xa4hrend des Referenzbetriebs vorliegenden tats\\xc3\\xa4chlichen Nockenwellenstellungen erfolgt. Beispielsweise\\nsetzt sich die bei dem Bestimmen der Frischluftmenge herangezogene Nockenwellenstellung aus einer\\ngemessenen oder berechneten Nockenwellenausgangsstellung, welche durch die Einbautoleranzen\\nfehlerbehaftet sein kann, und der Nockenwellenreferenzstellung zusammen, wobei diese beiden Gr\\xc3\\xb6\\xc3\\x9fen\\nvorzugsweise durch Addition in die verwendete Nockenwellenstellung \\xc3\\xbcberf\\xc3\\xbchrt werden. Dies ist w\\xc3\\xa4hrend des Normalbetriebs permanent vorgesehen. Zu-\\n\\n[0013] Die Nockenwelle kann entweder als Einlassnockenwelle oder als Auslassnockenwelle vorliegen.\\nIn ersterem Fall dient sie der Bet\\xc3\\xa4tigung des wenigstens einen Einlassventils, in letzterem Fall der Bet\\xc3\\xa4tigung des wenigstens einen Auslassventils. Selbst-\\n\\n3/8\\n\\n\\x0cDE 10 2013 011 772 A1\\nverst\\xc3\\xa4ndlich kann es auch vorgesehen sein, dass die\\nAusf\\xc3\\xbchrungen im Rahmen dieser Beschreibung sowohl auf die Einlassnockenwelle als auch die Auslassnockenwelle Anwendung finden. Dabei kann f\\xc3\\xbcr\\ndie Nockenwellenstellung zwischen einer \\xe2\\x80\\x9eEinlassnockenwellenstellung\\xe2\\x80\\x9d sowie einer \\xe2\\x80\\x9eAuslassnockenwellenstellung\\xe2\\x80\\x9d und f\\xc3\\xbcr die Nockenwellenreferenzstellung zwischen einer \\xe2\\x80\\x9eEinlassnockenwellenreferenzstellung\\xe2\\x80\\x9d und einer \\xe2\\x80\\x9eAuslassnockenwellenreferenzstellung\\xe2\\x80\\x9d unterschieden werden. Diese werden vorzugsweise separat voneinander ermittelt.\\n\\n2014.06.26\\n\\nbestimmt wird, wobei der Lambdareferenzwert aus\\ndem Lambdawert und dem weiteren Lambdawert\\nermittelt oder als Lambdareferenzwert der weitere\\nLambdawert verwendet wird. Vorstehend wurde erl\\xc3\\xa4utert, dass der Lambdasollwert als Lambdareferenzwert herangezogen werden kann. Dies ist jedoch\\nvorzugsweise nur dann der Fall, wenn die tats\\xc3\\xa4chlich\\nin den Zylinder eingebrachte Kraftstoffmenge im Wesentlichen genau der ermittelten Kraftstoffmenge entspricht. Dies ist aufgrund von Toleranzen jedoch nicht\\nnotwendigerweise der Fall, sodass es vorteilhaft ist,\\neinen durch das wenigstens eine Einspritzventil des\\nZylinders verursachten Fehler zu ber\\xc3\\xbccksichtigen.\\n\\n[0014] In einer weiteren Ausgestaltung der Erfindung ist vorgesehen, dass das Bestimmen der Nockenwellenreferenzstellung mithilfe einer mathematischen Beziehung, eines Kennfelds und/oder einer\\nTabelle erfolgt, das/die anhand der Brennkraftmaschine oder einer Referenzbrennkraftmaschine ermittelt wird. Mit der Brennkraftmaschine beziehungsweise der Referenzbrennkraftmaschine wird mithin\\nder Referenzbetrieb durchgef\\xc3\\xbchrt, bei welchem die\\nFrischluftmenge vorzugsweise unmittelbar bestimmt\\nund gleichzeitig die in den Zylinder eingebrachte Kraftstoffmenge erfasst wird. Diese Werte werden in Abh\\xc3\\xa4ngigkeit von der tats\\xc3\\xa4chlich vorliegenden Nockenwellenstellung erfasst und in der mathematischen Beziehung, dem Kennfeld und/oder der\\nTabelle zusammengetragen. Die dabei verwendete Brennkraftmaschine kann dieselbe Brennkraftmaschine sein, die auch w\\xc3\\xa4hrend des Normalbetriebs\\nund des Kalibrierbetriebs verwendet wird. Es kann\\njedoch auch die Referenzbrennkraftmaschine vorgesehen sein, welche stellvertretend f\\xc3\\xbcr eine Vielzahl\\nvon Brennkraftmaschinen auf einem Pr\\xc3\\xbcfstand vermessen wird.\\n\\n[0017] Zu diesem Zweck wird der weitere Betriebspunkt an der Brennkraftmaschine eingestellt. In diesem liegen die weitere theoretische Frischluftmenge und die weitere Kraftstoffmenge vor, welche wiederum mittels des Lambdasollwerts aus der weiteren Frischluftmenge bestimmt wird. Analog zu der\\nvorstehend erl\\xc3\\xa4uterten Vorgehensweise wird nun \\xe2\\x80\\x93\\nnach der Verbrennung in dem Zylinder \\xe2\\x80\\x93 der weitere\\nLambdawert des Abgases ermittelt, wozu die Lambdasonde herangezogen wird. Um den durch die Einspritzeinrichtung beziehungsweise das Einspritzventil verursachten Fehler zu korrigieren, wird nun als\\nLambdareferenzwert nicht oder nicht allein der Lambdawert herangezogen. Vielmehr wird beispielsweise\\nder weitere Lambdawert verwendet oder alternativ\\nder Lambdareferenzwert aus beiden Lambdawerten,\\nn\\xc3\\xa4mlich dem Lambdawert und dem weiteren Lambdawert, ermittelt. Dabei kann davon ausgegangen\\nwerden, dass eine eventuell auftretende Differenz\\ndes mithilfe der Lambdasonde gemessenen Lambdawerts zwischen den beiden Betriebspunkten alleine durch die Einbautoleranz der Nockenwelle verursacht wird und mithin die Nockenwellenreferenzstellung definiert. Diese Differenz kann als Lambdadifferenzwert bezeichnet werden.\\n\\n[0015] Eine Weiterbildung der Erfindung sieht vor,\\ndass als Lambdareferenzwert der Lambdasollwert\\nverwendet wird. Mithilfe des Lambdareferenzwerts\\nkann aus dem Lambdawert die tats\\xc3\\xa4chlich vorhandene Frischluftmenge ermittelt werden. Unter Verwendung des Lambdasollwerts wurde zusammen mit der\\ntheoretischen Frischluftmenge die einzuspritzende\\nKraftstoffmenge ermittelt. Aus diesem Grund kann,\\nfalls keine weiteren Einflussfaktoren relevant sind,\\nder Lambdasollwert die Grundlage f\\xc3\\xbcr das Bestimmen der Nockenwellenreferenzstellung bilden. Ein\\nderartiger Einflussfaktor ist beispielsweise eine unter\\nUmst\\xc3\\xa4nden vorhandene Abweichung zwischen der\\neinzuspritzenden Kraftstoffmenge und der schlussendlich tats\\xc3\\xa4chlich eingebrachten Kraftstoffmenge.\\n\\n[0018] Aus den Betriebsgr\\xc3\\xb6\\xc3\\x9fen der Brennkraftmaschine, n\\xc3\\xa4mlich insbesondere der Differenz der beiden Lambdawerte, der Drehzahl und/oder der Last\\nder Brennkraftmaschine, ist mithin eine genaue Bestimmung der Nockenwellenreferenzstellung m\\xc3\\xb6glich. Besonders bevorzugt wird als Lambdareferenzwert der weitere Lambdawert oder das Ergebnis einer\\nBeziehung verwendet, welche zumindest den Lambdawert und den weiteren Lambdawert als Eingangsgr\\xc3\\xb6\\xc3\\x9fen hat. Die Beziehung bildet beispielsweise einen Mittelwert aus dem Lambdawert und dem weiteren Lambdawert ab.\\n\\n[0016] In einer vorteilhaften Ausgestaltung der Erfindung ist vorgesehen, dass ein weiterer Betriebspunkt mit einer weiteren bestimmten theoretischen\\nFrischluftmenge und einer weiteren bestimmten, anhand der weiteren theoretischen Frischluftmenge und\\ndem Lambdasollwert ermittelten Kraftstoffmenge eingestellt und ein weiterer Lambdawert des Abgases\\nder Brennkraftmaschine mittels der Lambdasonde\\n\\n[0019] Der Betriebspunkt und der weitere Betriebspunkt weisen in einer besonders bevorzugten Ausgestaltung dieselbe theoretische Frischluftmenge,\\ndenselben Lambdasollwert und entsprechend auch\\ndieselbe Kraftstoffmenge auf. Die Betriebspunkte unterscheiden sich somit beispielsweise allein hinsichtlich des \\xc3\\x96ffnungszeitpunkts, des Schlie\\xc3\\x9fzeitpunkts\\n\\n4/8\\n\\n\\x0cDE 10 2013 011 772 A1\\nund/oder des Einlasszeitraums des Einlassventils.\\nAlternativ unterscheiden sie sich lediglich hinsichtlich des \\xc3\\x96ffnungszeitpunkts, des Schlie\\xc3\\x9fzeitpunkts\\nund/oder des Auslasszeitraums des Auslassventils.\\nIn einer weiteren Alternativ sind Unterschiede in den\\ngenannten Gr\\xc3\\xb6\\xc3\\x9fen sowohl f\\xc3\\xbcr das Einlassventil als\\nauch das Auslassventil gegeben. In den unterschiedlichen Betriebspunkten liegen mithin bevorzugt unterschiedliche Zeitpunkte, ein unterschiedlich langer\\nEinlasszeitraum des Einlassventils und/oder ein unterschiedlich langer Auslasszeitraum des Auslassventils vor.\\n\\n2014.06.26\\n\\nden Betriebspunkt und den weiteren Betriebspunkt,\\ndie Toleranz des Einspritzventils verringert oder sogar g\\xc3\\xa4nzlich eliminiert werden kann, weil diese sich\\nauf beide Lambdawerte, also auf den Lambdawert\\nund den weiteren Lambdawert, in gleichem Ausma\\xc3\\x9f\\nauswirkt. Die Differenz zwischen den beiden Lambdawerten wird mithin allein durch die Einbautoleranzen der Nockenwelle verursacht.\\n[0023] Die mehreren Lambdadifferenzwerte werden\\nnun herangezogen, um sowohl f\\xc3\\xbcr die Einlassnockenwelle als auch die Auslassnockenwelle die\\njeweilige Nockenwellenreferenzstellung, mithin also die Einlassnockenwellenreferenzstellung und die\\nAuslassnockenwellenreferenzstellung, zu ermitteln.\\nInsbesondere werden f\\xc3\\xbcr diesen Einsatzzweck wenigstens zwei Betriebspunktepaare beziehungsweise die beiden entsprechenden Lambdadifferenzwerte herangezogen. F\\xc3\\xbcr jedes Betriebspunktepaar wird\\nder Lambdadifferenzwert aus dem Lambdawert beziehungsweise dem weiteren Lambdawert einerseits\\nund dem Lambdareferenzwert andererseits ermittelt.\\nDer Lambdareferenzwert wird dabei f\\xc3\\xbcr jedes Betriebspunktepaar aus dem Lambdawert und dem weiteren Lambdawert ermittelt oder alternativ f\\xc3\\xbcr jedes\\nBetriebspunktepaar als Lambdareferenzwert der jeweilige weitere Lambdawert verwendet.\\n\\n[0020] Durch entsprechendes Einstellen beispielsweise einer Drosselklappe wird dennoch gew\\xc3\\xa4hrleistet, dass zumindest theoretisch in beiden Betriebspunkten dieselbe Frischluftmenge in dem Zylinder vorliegt. Gleichzeitig wird, wie bereits erw\\xc3\\xa4hnt,\\ndie Kraftstoffmenge ebenfalls (zumindest theoretisch) konstant gehalten. Entsprechend kann, falls die\\nLambdawerte zwischen den Betriebspunkten unterschiedlich sind, auf eine allein durch die Fehlstellung der Nockenwelle verursachte Abweichung in der\\nFrischluftmenge geschlossen werden.\\n[0021] In einer bevorzugten Ausf\\xc3\\xbchrungsform der\\nErfindung ist vorgesehen, dass mehrere Betriebspunktepaare vorliegen, jeweils bestehend aus einem Betriebspunkt und einem weiteren Betriebspunkt, wobei der Betriebspunkt und der weitere Betriebspunkt eingestellt werden und f\\xc3\\xbcr jedes Betriebspunktepaar sowohl ein Lambdawert als auch ein\\nweiterer Lambdawert des Abgases der Brennkraftmaschine mittels der Lambdasonde bestimmt wird,\\nwobei f\\xc3\\xbcr jedes Betriebspunktepaar der Lambdareferenzwert aus dem Lambdawert und dem weiteren\\nLambdawert ermittelt oder als Lambdareferenzwert\\nder weitere Lambdawert verwendet wird. Hinsichtlich\\ndes Betriebspunkts und des weiteren Betriebspunkts,\\ninsbesondere deren Wahl, wird auf die weiteren Ausf\\xc3\\xbchrungen im Rahmen dieser Beschreibung verwiesen. Der Betriebspunkt kann also der vorstehend erw\\xc3\\xa4hnte Betriebspunkt sein. Analoges gilt bevorzugt\\nf\\xc3\\xbcr den weiteren Betriebspunkt. Vorzugsweise sind\\ndie Betriebspunkte und die weiteren Betriebspunkte\\naller Betriebspunktepaare voneinander verschieden.\\nEs kann jedoch auch vorgesehen sein, dass die Betriebspunkte identisch sind und lediglich die weiteren Betriebspunkte der Betriebspunktepaare voneinander abweichen.\\n\\n[0024] Selbstverst\\xc3\\xa4ndlich k\\xc3\\xb6nnen auch mehr also\\nzwei Betriebspunktepaare, beispielsweise mindestens vier, und entsprechend mindestens vier Lambdadifferenzwerte verwendet werden. Unter der Bedingung, dass es sich bei den Lambdadifferenzwerten um voneinander unabh\\xc3\\xa4ngige Gr\\xc3\\xb6\\xc3\\x9fen handelt und die Abbildungsfunktion der Lambdadifferenzwerte auf die auszugleichenden Toleranzgr\\xc3\\xb6\\xc3\\x9fen\\neine Umkehrfunktion besitzt, kann aus den mehreren Lambdadifferenzwerten unmittelbar dieselbe Anzahl an Toleranzgr\\xc3\\xb6\\xc3\\x9fen ermittelt werden. Dies ist unabh\\xc3\\xa4ngig davon, ob die gew\\xc3\\xa4hlten Betriebspunkte\\nnur jeweils sensitiv f\\xc3\\xbcr eine der Toleranzgr\\xc3\\xb6\\xc3\\x9fen sind.\\nJe gr\\xc3\\xb6\\xc3\\x9fer die Anzahl der Betriebspunktepaare, umso\\nzuverl\\xc3\\xa4ssiger lassen sich mithin die Toleranzgr\\xc3\\xb6\\xc3\\x9fen\\nbestimmen. Die Toleranzgr\\xc3\\xb6\\xc3\\x9fen sind beispielsweise die Nockenwellenreferenzstellungen f\\xc3\\xbcr die Einlassnockenwelle und die Auslassnockenwelle. Besonders vorteilhaft ist es, die Betriebspunkte derart zu\\nw\\xc3\\xa4hlen, dass sich die Toleranzgr\\xc3\\xb6\\xc3\\x9fen unterschiedlich auswirken. Entsprechend werden f\\xc3\\xbcr die Bestimmung der Einlassnockenwellenreferenzstellung andere Parameter herangezogen als f\\xc3\\xbcr die Bestimmung der Auslassnockenwellenreferenzstellung.\\n\\n[0022] Insgesamt ist also vorgesehen, dass f\\xc3\\xbcr\\njedes Betriebspunktepaar ein Lambdadifferenzwert\\naus dem jeweils bestimmten Lambdawert f\\xc3\\xbcr den Betriebspunkt und aus dem Lambdareferenzwert bestimmt wird, sodass bei mehreren Betriebspunktepaaren mehrere, also wenigstens zwei Lambdadifferenzwerte vorliegen. Vorstehend wurde bereits erl\\xc3\\xa4utert, dass durch Bildung des Lambdadifferenzwerts\\nf\\xc3\\xbcr zwei (unterschiedliche) Betriebspunkte, also f\\xc3\\xbcr\\n\\n[0025] Beispielsweise kann dabei eine Vielzahl von\\nfunktionalen Zusammenh\\xc3\\xa4ngen formuliert werden,\\ninsbesondere f\\xc3\\xbcr jede Toleranzgr\\xc3\\xb6\\xc3\\x9fe einen Zusammenhang. Besonders vorteilhaft sind die Zusammenh\\xc3\\xa4nge linearisiert, sodass die Bestimmung der Toleranzgr\\xc3\\xb6\\xc3\\x9fe beziehungsweise der Toleranzgr\\xc3\\xb6\\xc3\\x9fen\\naus dem Lambdadifferenzwert beziehungsweise den\\n\\n5/8\\n\\n\\x0cDE 10 2013 011 772 A1\\nLambdadifferenzwerten mit geringem Aufwand, insbesondere mit geringer Rechenleistung, m\\xc3\\xb6glich ist.\\nInsbesondere kann bei linearisierten Zusammenh\\xc3\\xa4ngen die zur Berechnung der Nockenwellenreferenzstellung verwendete inverse Berechnung einfach realisiert werden. Alternativ kann selbstverst\\xc3\\xa4ndlich eine\\ninvertierte Tabelle zur Bestimmung der Toleranzgr\\xc3\\xb6\\xc3\\x9fe herangezogen werden.\\n\\n2014.06.26\\n\\nsen herum, um eine m\\xc3\\xb6glichst geringe Abh\\xc3\\xa4ngigkeit\\nder Frischluftf\\xc3\\xbcllung von der Nockenwellenstellung zu\\nerzielen. In dem weiteren Betriebsbereich soll es dagegen au\\xc3\\x9ferhalb des Schlie\\xc3\\x9fwinkelbereichs beziehungsweise abseits des unteren Totpunkts geschlossen werden, sodass eine ausgepr\\xc3\\xa4gte Abh\\xc3\\xa4ngigkeit\\nvorliegt.\\n[0029] Analog zu den vorstehenden Ausf\\xc3\\xbchrungen\\nkann es zus\\xc3\\xa4tzlich oder alternativ vorgesehen sein,\\nin dem Betriebspunkt ein \\xc3\\x96ffnen des Auslassventils in einem \\xc3\\x96ffnungswinkelbereich um den unteren Totpunkt herum und in dem weiteren Betriebspunkt au\\xc3\\x9ferhalb des \\xc3\\x96ffnungswinkelbereichs vorzunehmen. Ebenso kann es zus\\xc3\\xa4tzlich oder alternativ\\nvorgesehen sein, in dem Betriebspunkt ein Schlie\\xc3\\x9fen\\ndes Auslassventils in einem Schlie\\xc3\\x9fwinkelbereich um\\nden unteren Totpunkt herum und in dem weiteren\\nBetriebspunkt au\\xc3\\x9ferhalb des Schlie\\xc3\\x9fwinkelbereichs\\nvorzunehmen.\\n\\n[0026] Eine weitere Ausgestaltung der Erfindung\\nsieht vor, dass der Betriebspunkt und der weitere\\nBetriebspunkt, insbesondere der mehreren Betriebspunktepaare, unterschiedliche Abh\\xc3\\xa4ngigkeiten der\\njeweiligen theoretischen Frischluftmenge von der Nockenwellenstellung aufweisen. Insbesondere weist\\nder Betriebspunkt eine niedrige Abh\\xc3\\xa4ngigkeit, insbesondere keine Abh\\xc3\\xa4ngigkeit, und der weitere Betriebspunkt eine hohe Abh\\xc3\\xa4ngigkeit auf. Entsprechend\\nkann auf Grundlage des Lambdawerts und des weiteren Lambdawerts, die mit dem Betriebspunkt in dem\\nweiteren Betriebspunkt aufgenommen werden, auf\\neine allein von einer Abweichung der Nockenwellenstellung herr\\xc3\\xbchrende Differenz der Frischluftmenge\\ngeschlossen werden. Die mehreren Betriebspunkte\\nund die mehreren weiteren Betriebspunkte der Betriebspunktpaare weisen sind bevorzugt voneinander\\nverschieden, um eine m\\xc3\\xb6glichst weitreichende Unabh\\xc3\\xa4ngigkeit von den Toleranzgr\\xc3\\xb6\\xc3\\x9fen zu erzielen.\\n\\n[0030] Es kann zudem vorgesehen sein, dass die\\nBrennkraftmaschine in dem Normalbetrieb gem\\xc3\\xa4\\xc3\\x9f\\ndem Atkinson-Kreisprozess oder dem Miller-Kreisprozess betrieben wird. Wie bereits vorstehend erl\\xc3\\xa4utert, liegen in diesen Betriebsarten k\\xc3\\xbcrzere Einlasszeitr\\xc3\\xa4ume und/oder Auslasszeitr\\xc3\\xa4ume vor, welche bedingen, dass das \\xc3\\x96ffnen des Einlassventils\\nbeziehungsweise des Auslassventils au\\xc3\\x9ferhalb des\\n\\xc3\\x96ffnungswinkelbereichs und/oder das Schlie\\xc3\\x9fen des\\nEinlassventils beziehungsweise des Auslassventils\\nau\\xc3\\x9ferhalb des Schlie\\xc3\\x9fwinkelbereichs erfolgt. Insbesondere f\\xc3\\xbcr das Einlassventil liegt somit bei dem\\n\\xc3\\x96ffnen beziehungsweise Schlie\\xc3\\x9fen eine hohe Str\\xc3\\xb6mungsgeschwindigkeit der Frischluft vor, sodass die\\nGenauigkeit der mittelbaren Bestimmung der in dem\\nZylinder vorliegenden Frischluftmenge folglich stark\\nvon der Genauigkeit der Nockenwellenstellung abh\\xc3\\xa4ngt.\\n\\n[0027] Eine Weiterbildung der Erfindung sieht vor,\\ndass in dem Betriebspunkt ein \\xc3\\x96ffnen des Einlassventils in einem \\xc3\\x96ffnungswinkelbereich um den oberen Totpunkt herum und in dem weiteren Betriebspunkt au\\xc3\\x9ferhalb des \\xc3\\x96ffnungswinkelbereichs vorgenommen wird. Wie bereits eingangs erl\\xc3\\xa4utert ist die\\nAbh\\xc3\\xa4ngigkeit der Frischluftmenge von der Nockenwellenstellung umso geringer, je geringer die Str\\xc3\\xb6mungsgeschwindigkeit der Frischluft zum Zeitpunkt\\ndes \\xc3\\x96ffnens und des Schlie\\xc3\\x9fens des Einlassventils\\nist. Gleichzeitig ist die Str\\xc3\\xb6mungsgeschwindigkeit im\\nBereich des oberen Totpunkts sowie des unteren Totpunkts am geringsten. Entsprechend soll das \\xc3\\x96ffnen\\ndes Einlassventils in dem Betriebspunkt in dem oberen Totpunkt oder in dem \\xc3\\x96ffnungswinkelbereich um\\nden oberen Totpunkt herum erfolgen, weil somit eine geringe Abh\\xc3\\xa4ngigkeit erzielt wird. In dem weiteren Betriebspunkt soll dagegen eine hohe Abh\\xc3\\xa4ngigkeit vorliegen. Mithin wird das Einlassventil au\\xc3\\x9ferhalb des \\xc3\\x96ffnungswinkelbereichs beziehungsweise\\nabseits des oberen Totpunkts ge\\xc3\\xb6ffnet.\\n\\n[0031] Eine Weiterbildung der Erfindung sieht vor,\\ndass der Kalibrierbetrieb vor einem Einbau der\\nBrennkraftmaschine in ein Kraftfahrzeug, w\\xc3\\xa4hrend\\neines Kundendiensts oder w\\xc3\\xa4hrend eines Fahrbetriebs des Kraftfahrzeugs durchgef\\xc3\\xbchrt wird. Grunds\\xc3\\xa4tzlich kann der Kalibrierbetrieb zu einem beliebigen Zeitpunkt erfolgen. Besonders bevorzugt erfolgt er lediglich einmalig, n\\xc3\\xa4mlich vor dem Einbau\\nder Brennkraftmaschine in das Kraftfahrzeug oder\\nzumindest vor einer Inbetriebnahme des Kraftfahrzeugs. Er kann jedoch auch nachtr\\xc3\\xa4glich zur Kalibrierung verwendet werden, beispielsweise w\\xc3\\xa4hrend des\\nKundendiensts, welcher f\\xc3\\xbcr das Kraftfahrzeug in periodischen Abst\\xc3\\xa4nden vorgenommen wird. Ebenso ist\\nes m\\xc3\\xb6glich, dass er w\\xc3\\xa4hrend des Fahrbetriebs des\\nKraftfahrzeugs durchgef\\xc3\\xbchrt wird, insbesondere periodisch durchgef\\xc3\\xbchrt wird.\\n\\n[0028] Zus\\xc3\\xa4tzlich oder alternativ ist vorgesehen,\\ndass in dem Betriebspunkt ein Schlie\\xc3\\x9fen des Einlassventils in einem Schlie\\xc3\\x9fwinkelbereich um den oberen\\nTotpunkt herum und in dem weiteren Betriebspunkt\\nau\\xc3\\x9ferhalb des Schlie\\xc3\\x9fwinkelbereichs vorgenommen\\nwird. Es gilt mithin analog dasselbe wie f\\xc3\\xbcr das \\xc3\\x96ffnen\\ndes Einlassventils, auf welches vorstehend eingegangen wurde. Das Schlie\\xc3\\x9fen erfolgt in dem unteren\\nTotpunkt oder in dem Schlie\\xc3\\x9fwinkelbereich um die-\\n\\n[0032] Es kann vorgesehen sein, dass vor dem Einbau der Brennkraftmaschine in das Kraftfahrzeug der\\n\\n6/8\\n\\n\\x0cDE 10 2013 011 772 A1\\nReferenzbetrieb mit der Brennkraftmaschine durchgef\\xc3\\xbchrt wird. Nachfolgend wird sie in dem Kraftfahrzeug verbaut und der Kalibrierbetrieb vorgenommen.\\nAlternativ wird die Referenzbrennkraftmaschine f\\xc3\\xbcr\\nden Referenzbetrieb herangezogen. Der Referenzbetrieb erfolgt vorzugsweise auf einem Pr\\xc3\\xbcfstand. Auf\\ndiese Art und Weise kann sichergestellt werden, dass\\nw\\xc3\\xa4hrend des Einbaus auftretende Toleranzen zuverl\\xc3\\xa4ssig ausgeglichen werden, sodass die mittelbare\\nBestimmung der in dem Zylinder vorliegenden Frischluftmenge nach dem Durchf\\xc3\\xbchren des Kalibrierbetriebs zuverl\\xc3\\xa4ssig erfolgen kann.\\n\\n2014.06.26\\n\\nmindest aus einer gemessenen Druckgr\\xc3\\xb6\\xc3\\x9fe und aus\\nwenigstens einer Nockenwellenstellung,\\n\\xe2\\x80\\x93 Bestimmen der in den Zylinder einzubringenden\\nKraftstoffmenge aus der theoretischen Frischluftmenge, und\\n\\xe2\\x80\\x93 Einbringen der bestimmten Kraftstoffmenge in den\\nZylinder,\\ndadurch gekennzeichnet, dass die Nockenwellenstellung mithilfe einer Nockenwellenreferenzstellung\\nermittelt wird und dass w\\xc3\\xa4hrend eines zumindest einmalig vorzunehmenden Kalibrierbetriebs die folgenden Schritte durchgef\\xc3\\xbchrt werden:\\n\\xe2\\x80\\x93 Einstellen eines Betriebspunkts mit einer bestimmten theoretischen Frischluftmenge und einer bestimmten, anhand der theoretischen Frischluftmenge\\nund einem Lambdasollwert ermittelten Kraftstoffmenge,\\n\\xe2\\x80\\x93 Bestimmen eines Lambdawerts des Abgases der\\nBrennkraftmaschine mittels einer in einem Abgastrakt angeordneten Lambdasonde, und\\n\\xe2\\x80\\x93 Bestimmen der Nockenwellenreferenzstellung aus\\nder Differenz zwischen dem bestimmten Lambdawert\\nund einem Lambdareferenzwert.\\n\\n[0033] Die Erfindung betrifft weiterhin eine Brennkraftmaschine, insbesondere zur Durchf\\xc3\\xbchrung des\\nvorstehend beschriebenen Verfahrens, wobei die\\nBrennkraftmaschine \\xc3\\xbcber zumindest einen eine Nockenwelle aufweisenden Ventiltrieb verf\\xc3\\xbcgt und dazu ausgebildet ist, w\\xc3\\xa4hrend eines Normalbetriebs die\\nfolgenden Schritte durchzuf\\xc3\\xbchren: Bestimmen einer\\neinem Zylinder der Brennkraftmaschine durch wenigstens ein Einlassventil des Ventiltriebs zugef\\xc3\\xbchrten theoretischen Frischluftmenge zumindest aus einer gemessenen Druckgr\\xc3\\xb6\\xc3\\x9fe und aus wenigstens einer Nockenwellenstellung; Bestimmen der in den Zylinder einzubringenden Kraftstoffmenge aus der theoretischen Frischluftmenge; und Einbringen der bestimmten Kraftstoffmenge in den Zylinder.\\n\\n2. Verfahren nach Anspruch 1, dadurch gekennzeichnet, dass das Bestimmen der Nockenwellenreferenzstellung mithilfe einer mathematischen Beziehung, eines Kennfelds und/oder einer Tabelle erfolgt,\\ndas/die anhand der Brennkraftmaschine oder einer\\nReferenzbrennkraftmaschine ermittelt werden/wird.\\n\\n[0034] Dabei ist vorgesehen, dass die Brennkraftmaschine zudem dazu ausgebildet ist, die Nockenwellenstellung mithilfe einer Nockenwellenreferenzstellung zu ermitteln und w\\xc3\\xa4hrend eines zumindest einmalig vorzunehmenden Kalibrierbetriebs die\\nfolgenden Schritte durchzuf\\xc3\\xbchren: Einstellen eines\\nBetriebspunkts mit einer bestimmten theoretischen\\nFrischluftmenge und einer bestimmten, anhand der\\ntheoretischen Frischluftmenge und einem Lambdasollwert ermittelten Kraftstoffmenge; Bestimmen eines Lambdawerts des Abgases der Brennkraftmaschine mittels einer in einem Abgastrakt angeordneten Lambdasonde; und Bestimmen der Nockenwellenreferenzstellung aus der Differenz zwischen\\ndem bestimmten Lambdawert und einem Lambdareferenzwert. Auf die Vorteile einer derartigen Vorgehensweise wurde bereits eingegangen. Die Brennkraftmaschine sowie das Verfahren k\\xc3\\xb6nnen gem\\xc3\\xa4\\xc3\\x9f\\nden vorstehenden Ausf\\xc3\\xbchrungen weitergebildet sein,\\nsodass insoweit auf diese verwiesen wird.\\n\\n3. Verfahren nach einem der vorhergehenden Anspr\\xc3\\xbcche, dadurch gekennzeichnet, dass als Lambdareferenzwert der Lambdasollwert verwendet wird.\\n4. Verfahren nach einem der vorhergehenden Anspr\\xc3\\xbcche, dadurch gekennzeichnet, dass ein weiterer Betriebspunkt mit einer weiteren bestimmten\\ntheoretischen Frischluftmenge und einer weiteren bestimmten, anhand der weiteren theoretischen Frischluftmenge und dem Lambdasollwert ermittelten Kraftstoffmenge eingestellt und ein weiterer Lambdawert\\ndes Abgases der Brennkraftmaschine mittels der\\nLambdasonde bestimmt wird, wobei der Lambdareferenzwert aus dem Lambdawert und dem weiteren\\nLambdawert ermittelt oder als Lambdareferenzwert\\nder weitere Lambdawert verwendet wird.\\n5. Verfahren nach einem der vorhergehenden\\nAnspr\\xc3\\xbcche, dadurch gekennzeichnet, dass mehrere Betriebspunktepaare vorliegen, jeweils bestehend\\naus einem Betriebspunkt und einem weiteren Betriebspunkt, wobei der Betriebspunkt und der weitere Betriebspunkt eingestellt werden und f\\xc3\\xbcr jedes Betriebspunktepaar sowohl ein Lambdawert als auch\\nein weiterer Lambdawert des Abgases der Brennkraft\\nmaschine mittels der Lambdasonde bestimmt wird,\\nwobei f\\xc3\\xbcr jedes Betriebspunktepaar der Lambdareferenzwert aus dem Lambdawert und dem weiteren\\n\\nPatentanspr\\xc3\\xbcche\\n1. Verfahren zum Betreiben einer Brennkraftmaschine mit einem zumindest eine Nockenwelle aufweisenden Ventiltrieb, mit den folgenden Schritten\\nw\\xc3\\xa4hrend eines Normalbetriebs:\\n\\xe2\\x80\\x93 Bestimmen einer einem Zylinder der Brennkraftmaschine durch wenigstens ein Einlassventil des Ventiltriebs zugef\\xc3\\xbchrten theoretischen Frischluftmenge zu-\\n\\n7/8\\n\\n\\x0cDE 10 2013 011 772 A1\\nLambdawert ermittelt oder als Lambdareferenzwert\\nder weitere Lambdawert verwendet wird.\\n\\n2014.06.26\\n\\n\\xe2\\x80\\x93 Bestimmen eines Lambdawerts des Abgases der\\nBrennkraftmaschine mittels einer in einem Abgastrakt angeordneten Lambdasonde, und\\nBestimmen der Nockenwellenreferenzstellung aus\\nder Differenz zwischen dem bestimmten Lambdawert\\nund einem Lambdareferenzwert.\\n\\n6. Verfahren nach einem der vorhergehenden Anspr\\xc3\\xbcche, dadurch gekennzeichnet, dass der Betriebspunkt und der weitere Betriebspunkt, insbesondere der mehreren Betriebspunktpaare, eine unterschiedliche Abh\\xc3\\xa4ngigkeit der jeweiligen theoretischen Frischluftmenge von der Nockenwellenstellung aufweisen.\\n\\nEs folgen keine Zeichnungen\\n\\n7. Verfahren nach einem der vorhergehenden Anspr\\xc3\\xbcche, dadurch gekennzeichnet, dass in dem Betriebspunkt ein \\xc3\\x96ffnen des Einlassventils in einem\\n\\xc3\\x96ffnungswinkelbereich um den oberen Totpunkt herum und in dem weiteren Betriebspunkt au\\xc3\\x9ferhalb des\\n\\xc3\\x96ffnungswinkelbereichs vorgenommen wird.\\n8. Verfahren nach einem der vorhergehenden Anspr\\xc3\\xbcche, dadurch gekennzeichnet, dass in dem Betriebspunkt ein Schlie\\xc3\\x9fen des Einlassventils in einem\\nSchlie\\xc3\\x9fwinkelbereich um den unteren Totpunkt herum und in dem weiteren Betriebspunkt au\\xc3\\x9ferhalb des\\nSchlie\\xc3\\x9fwinkelbereichs vorgenommen wird.\\n9. Verfahren nach einem der vorhergehenden Anspr\\xc3\\xbcche, dadurch gekennzeichnet, dass der Kalibrierbetrieb vor einem Einbau der Brennkraftmaschine in einem Kraftfahrzeug, w\\xc3\\xa4hrend eines Kundendiensts oder w\\xc3\\xa4hrend eines Fahrbetriebs des Kraftfahrzeugs durchgef\\xc3\\xbchrt wird.\\n10. Brennkraftmaschine, insbesondere zur Durchf\\xc3\\xbchrung des Verfahrens nach einem oder mehreren\\nder vorhergehenden Anspr\\xc3\\xbcche, wobei die Brennkraftmaschine \\xc3\\xbcber einen zumindest eine Nockenwelle aufweisenden Ventiltrieb verf\\xc3\\xbcgt und dazu ausgebildet ist, w\\xc3\\xa4hrend eines Normalbetriebs die folgenden Schritte durchzuf\\xc3\\xbchren:\\n\\xe2\\x80\\x93 Bestimmen einer einem Zylinder der Brennkraftmaschine durch wenigstens ein Einlassventil des Ventiltriebs zugef\\xc3\\xbchrten theoretischen Frischluftmenge zumindest aus einer gemessenen Druckgr\\xc3\\xb6\\xc3\\x9fe und aus\\nwenigstens einer Nockenwellenstellung,\\n\\xe2\\x80\\x93 Bestimmen der in den Zylinder einzubringenden\\nKraftstoffmenge aus der theoretischen Frischluftmenge, und\\n\\xe2\\x80\\x93 Einbringen der bestimmten Kraftstoffmenge in den\\nZylinder,\\ndadurch gekennzeichnet, dass die Brennkraftmaschine zudem dazu ausgebildet ist, die Nockenwellenstellung mithilfe einer Nockenwellenreferenzstellung zu ermitteln und w\\xc3\\xa4hrend eines zumindest einmalig vorzunehmenden Kalibrierbetriebs die folgenden Schritte durchzuf\\xc3\\xbchren:\\n\\xe2\\x80\\x93 Einstellen eines Betriebspunkts mit einer bestimmten theoretischen Frischluftmenge und einer bestimmten, anhand der theoretischen Frischluftmenge\\nund einem Lambdasollwert ermittelten Kraftstoffmenge,\\n\\n8/8\\n\\n\\x0c']\n",
      "1\n"
     ]
    }
   ],
   "source": [
    "# encoding sollte sein iso-8859-1\n",
    "#Patent Imports\n",
    "#Liefert eine Liste von Listen mit den Patenten\n",
    "\n",
    "import os\n",
    "import PyPDF2\n",
    "import textract\n",
    "\n",
    "path_patents = \"/home/seb/Capstone Project/Data/Patents_2\"\n",
    "path_specific = \"/home/seb/Capstone Project/Patents2/DE112006000494B4.pdf\"\n",
    "\n",
    "def test(path, path_specific):\n",
    "    pdf_file = open(path_specific, \"rb\")\n",
    "    read_pdf = PyPDF2.PdfFileReader(pdf_file)\n",
    "    number_of_pages = read_pdf.getNumPages()\n",
    "    print(number_of_pages)\n",
    "    for i in range(0, read_pdf.getNumPages()):\n",
    "        page = read_pdf.getPage(i)\n",
    "        print(page.extractText())\n",
    "\n",
    "    page = read_pdf.getPage(0)\n",
    "    page_content = page.extractText()\n",
    "    print(page_content)\n",
    "\n",
    "def page_count(path):\n",
    "    cnt = 0\n",
    "    sum = 0\n",
    "    for file in os.listdir(path):\n",
    "        pdf_file = open(os.path.join(path, file), \"rb\")\n",
    "        read_pdf = PyPDF2.PdfFileReader(pdf_file)\n",
    "        number_of_pages = read_pdf.getNumPages()\n",
    "        print(number_of_pages)\n",
    "        sum+=number_of_pages\n",
    "        cnt+=1\n",
    "    return sum, cnt\n",
    "\n",
    "def word_count_2(path):\n",
    "    cnt = 0\n",
    "    sum_pages = 0\n",
    "    sum_words = 0\n",
    "    for file in os.listdir(path):\n",
    "        sum_words_book = 0\n",
    "        pdf_file = open(os.path.join(path, file), \"rb\")\n",
    "        read_pdf = PyPDF2.PdfFileReader(pdf_file)\n",
    "        number_of_pages = read_pdf.getNumPages()\n",
    "        \n",
    "        for i in range(0, number_of_pages):\n",
    "            page = read_pdf.getPage(i)\n",
    "            page_content = page.extractText()\n",
    "            num_words_page = len(page_content.split())\n",
    "            sum_words_book+=num_words_page    \n",
    "        sum_pages+=number_of_pages\n",
    "        sum_words +=sum_words_book\n",
    "        cnt+=1\n",
    "    return sum_pages, sum_words, cnt\n",
    "\n",
    "def word_count(path):\n",
    "    cnt = 0\n",
    "    sum = 0\n",
    "    for file in os.listdir(path):\n",
    "        if file.endswith(\".pdf\"):  \n",
    "            # print(file)\n",
    "            text = textract.process(os.path.join(path, file))\n",
    "            # print(text)\n",
    "            res = len(text.split())\n",
    "            print(res)\n",
    "            cnt+=1\n",
    "            sum+=res\n",
    "    return sum, cnt\n",
    "\n",
    "def patents_to_sequence(path):\n",
    "    pat_cnt = 0\n",
    "    data = []\n",
    "    for file in os.listdir(path):\n",
    "        text=textract.process(os.path.join(path, file), language='ger')\n",
    "        data.append(text)\n",
    "        pat_cnt+=1\n",
    "    return data, pat_cnt\n",
    "\n",
    "# test(path, path_specific) \n",
    "# print(page_count(path))\n",
    "# print(word_count(path))\n",
    "\n",
    "\n",
    "#text = textract.process('path/to/norwegian.pdf', method='tesseract',language='nor',)\n",
    "\n",
    "raw_data, number = patents_to_sequence(path_patents)\n",
    "print(raw_data[:3])\n",
    "print(number)"
   ]
  },
  {
   "cell_type": "code",
   "execution_count": null,
   "metadata": {},
   "outputs": [],
   "source": [
    "# Literature Scraping\n",
    "import textract\n",
    "\n",
    "\n",
    "path = \"/home/seb/Desktop/Book Collection\"\n",
    "path_specific = \"/home/seb/Desktop/Book Collection/Thermodynamik Der Verbrennungskraftmaschine - Rudolf Pischinger.pdf\"\n",
    "text = textract.process(path_specific)\n",
    "print(len(text))\n",
    "res = len(text.split())\n",
    "print(res)\n",
    "print(text[:10])"
   ]
  },
  {
   "cell_type": "code",
   "execution_count": null,
   "metadata": {},
   "outputs": [],
   "source": [
    "print(len(text))\n",
    "\n",
    "\n",
    "#Preprocessing pipeline\n",
    "# Lowercase\n",
    "lower_text = text.lower()\n",
    "print(lower_text[:1000])\n",
    "# remove numbers\n",
    "lower_text_nonumbers = ''.join(word for word in lower_text if not word.isdigit())\n",
    "print(lower_text_nonumbers)\n",
    "# remove punctuation\n",
    "\n",
    "# remove stopwords\n",
    "# remove whitespace\n",
    "# tokenization\n",
    "# lemmatization/stemming\n"
   ]
  },
  {
   "cell_type": "code",
   "execution_count": null,
   "metadata": {},
   "outputs": [],
   "source": [
    "from string import punctuation\n",
    "print(punctuation)\n",
    "\n",
    "lower_text_nonombers_nopunct = ''.join(word for word in lower_text_nonumbers if word not in punctuation)\n",
    "print(lower_text_nonombers_nopunct)"
   ]
  },
  {
   "cell_type": "code",
   "execution_count": 2,
   "metadata": {
    "scrolled": true
   },
   "outputs": [
    {
     "ename": "FileNotFoundError",
     "evalue": "[Errno 2] No such file or directory: './Data/CRQ/WE_tokens-Copy1.txt'",
     "output_type": "error",
     "traceback": [
      "\u001b[0;31m---------------------------------------------------------------------------\u001b[0m",
      "\u001b[0;31mFileNotFoundError\u001b[0m                         Traceback (most recent call last)",
      "\u001b[0;32m<ipython-input-2-edd0a424654b>\u001b[0m in \u001b[0;36m<module>\u001b[0;34m\u001b[0m\n\u001b[1;32m      1\u001b[0m \u001b[0;32mimport\u001b[0m \u001b[0mpandas\u001b[0m \u001b[0;32mas\u001b[0m \u001b[0mpd\u001b[0m\u001b[0;34m\u001b[0m\u001b[0;34m\u001b[0m\u001b[0m\n\u001b[0;32m----> 2\u001b[0;31m \u001b[0minput\u001b[0m \u001b[0;34m=\u001b[0m \u001b[0mpd\u001b[0m\u001b[0;34m.\u001b[0m\u001b[0mread_pickle\u001b[0m\u001b[0;34m(\u001b[0m\u001b[0;34m'./Data/CRQ/WE_tokens-Copy1.txt'\u001b[0m\u001b[0;34m)\u001b[0m\u001b[0;34m\u001b[0m\u001b[0;34m\u001b[0m\u001b[0m\n\u001b[0m\u001b[1;32m      3\u001b[0m \u001b[0minput\u001b[0m \u001b[0;34m=\u001b[0m \u001b[0minput\u001b[0m\u001b[0;34m.\u001b[0m\u001b[0mreset_index\u001b[0m\u001b[0;34m(\u001b[0m\u001b[0mdrop\u001b[0m\u001b[0;34m=\u001b[0m\u001b[0;32mTrue\u001b[0m\u001b[0;34m)\u001b[0m\u001b[0;34m\u001b[0m\u001b[0;34m\u001b[0m\u001b[0m\n\u001b[1;32m      4\u001b[0m \u001b[0msum\u001b[0m \u001b[0;34m=\u001b[0m \u001b[0;36m0\u001b[0m\u001b[0;34m\u001b[0m\u001b[0;34m\u001b[0m\u001b[0m\n\u001b[1;32m      5\u001b[0m \u001b[0;32mfor\u001b[0m \u001b[0mindex\u001b[0m\u001b[0;34m,\u001b[0m \u001b[0mvalue\u001b[0m \u001b[0;32min\u001b[0m \u001b[0minput\u001b[0m\u001b[0;34m.\u001b[0m\u001b[0mitems\u001b[0m\u001b[0;34m(\u001b[0m\u001b[0;34m)\u001b[0m\u001b[0;34m:\u001b[0m\u001b[0;34m\u001b[0m\u001b[0;34m\u001b[0m\u001b[0m\n",
      "\u001b[0;32m/usr/local/lib/python3.6/dist-packages/pandas/io/pickle.py\u001b[0m in \u001b[0;36mread_pickle\u001b[0;34m(path, compression)\u001b[0m\n\u001b[1;32m    143\u001b[0m     \"\"\"\n\u001b[1;32m    144\u001b[0m     \u001b[0mpath\u001b[0m \u001b[0;34m=\u001b[0m \u001b[0m_stringify_path\u001b[0m\u001b[0;34m(\u001b[0m\u001b[0mpath\u001b[0m\u001b[0;34m)\u001b[0m\u001b[0;34m\u001b[0m\u001b[0;34m\u001b[0m\u001b[0m\n\u001b[0;32m--> 145\u001b[0;31m     \u001b[0mf\u001b[0m\u001b[0;34m,\u001b[0m \u001b[0mfh\u001b[0m \u001b[0;34m=\u001b[0m \u001b[0m_get_handle\u001b[0m\u001b[0;34m(\u001b[0m\u001b[0mpath\u001b[0m\u001b[0;34m,\u001b[0m \u001b[0;34m\"rb\"\u001b[0m\u001b[0;34m,\u001b[0m \u001b[0mcompression\u001b[0m\u001b[0;34m=\u001b[0m\u001b[0mcompression\u001b[0m\u001b[0;34m,\u001b[0m \u001b[0mis_text\u001b[0m\u001b[0;34m=\u001b[0m\u001b[0;32mFalse\u001b[0m\u001b[0;34m)\u001b[0m\u001b[0;34m\u001b[0m\u001b[0;34m\u001b[0m\u001b[0m\n\u001b[0m\u001b[1;32m    146\u001b[0m \u001b[0;34m\u001b[0m\u001b[0m\n\u001b[1;32m    147\u001b[0m     \u001b[0;31m# 1) try standard libary Pickle\u001b[0m\u001b[0;34m\u001b[0m\u001b[0;34m\u001b[0m\u001b[0;34m\u001b[0m\u001b[0m\n",
      "\u001b[0;32m/usr/local/lib/python3.6/dist-packages/pandas/io/common.py\u001b[0m in \u001b[0;36m_get_handle\u001b[0;34m(path_or_buf, mode, encoding, compression, memory_map, is_text)\u001b[0m\n\u001b[1;32m    403\u001b[0m         \u001b[0;32melse\u001b[0m\u001b[0;34m:\u001b[0m\u001b[0;34m\u001b[0m\u001b[0;34m\u001b[0m\u001b[0m\n\u001b[1;32m    404\u001b[0m             \u001b[0;31m# Binary mode\u001b[0m\u001b[0;34m\u001b[0m\u001b[0;34m\u001b[0m\u001b[0;34m\u001b[0m\u001b[0m\n\u001b[0;32m--> 405\u001b[0;31m             \u001b[0mf\u001b[0m \u001b[0;34m=\u001b[0m \u001b[0mopen\u001b[0m\u001b[0;34m(\u001b[0m\u001b[0mpath_or_buf\u001b[0m\u001b[0;34m,\u001b[0m \u001b[0mmode\u001b[0m\u001b[0;34m)\u001b[0m\u001b[0;34m\u001b[0m\u001b[0;34m\u001b[0m\u001b[0m\n\u001b[0m\u001b[1;32m    406\u001b[0m         \u001b[0mhandles\u001b[0m\u001b[0;34m.\u001b[0m\u001b[0mappend\u001b[0m\u001b[0;34m(\u001b[0m\u001b[0mf\u001b[0m\u001b[0;34m)\u001b[0m\u001b[0;34m\u001b[0m\u001b[0;34m\u001b[0m\u001b[0m\n\u001b[1;32m    407\u001b[0m \u001b[0;34m\u001b[0m\u001b[0m\n",
      "\u001b[0;31mFileNotFoundError\u001b[0m: [Errno 2] No such file or directory: './Data/CRQ/WE_tokens-Copy1.txt'"
     ]
    }
   ],
   "source": [
    "import pandas as pd\n",
    "input = pd.read_pickle('./Data/CRQ/WE_tokens-Copy1.txt')\n",
    "input = input.reset_index(drop=True)\n",
    "sum = 0\n",
    "for index, value in input.items():\n",
    "     sum+=len(value)\n",
    "print(len(input))\n",
    "print(sum)\n",
    "print(sum/len(input))"
   ]
  },
  {
   "cell_type": "code",
   "execution_count": null,
   "metadata": {},
   "outputs": [],
   "source": [
    "input[:15]"
   ]
  },
  {
   "cell_type": "code",
   "execution_count": null,
   "metadata": {},
   "outputs": [],
   "source": [
    "# Internal Documents Scraping\n",
    "import sys\n",
    "print(sys.version)"
   ]
  },
  {
   "cell_type": "code",
   "execution_count": null,
   "metadata": {},
   "outputs": [],
   "source": [
    "# Import labelled CRQ : Liefert einen Pandas Dataframe zurück: CR_tok_s ist glaube ich der content\n",
    "\n",
    "test_data = pd.read_pickle(\"./CRQ/testset-Copy1.pkl\")\n",
    "train_data = pd.read_pickle(\"./CRQ/trainset-Copy1.pkl\")\n",
    "\n",
    "# Import unlabelled CRQ Data: Liefert eine Pandas Series zurück\n",
    "\n",
    "unlabelled_data = pd.read_pickle(\"./CRQ/WE_tokens-Copy1.pkl\")"
   ]
  },
  {
   "cell_type": "code",
   "execution_count": null,
   "metadata": {},
   "outputs": [],
   "source": [
    "test_data.head()\n",
    "train_data.head()\n",
    "unlabelled_data.head()"
   ]
  },
  {
   "cell_type": "code",
   "execution_count": null,
   "metadata": {},
   "outputs": [],
   "source": [
    "from stop_words import get_stop_words\n",
    "\n",
    "stop_words = get_stop_words('german')"
   ]
  },
  {
   "cell_type": "code",
   "execution_count": null,
   "metadata": {},
   "outputs": [],
   "source": [
    "print(stop_words)"
   ]
  },
  {
   "cell_type": "code",
   "execution_count": null,
   "metadata": {},
   "outputs": [],
   "source": [
    "from gensim.parsing.preprocessing import remove_stopwords\n",
    "from gensim.parsing.preprocessing import STOPWORDS\n",
    "#Leider ist STOPWORDS bei gensim eine immutable list, daher muss man eine andere Funktion verwenden für deutsche Stopwords\n",
    "remove_stopwords('Und this is another tiny test ist mal wieder ein kleiner Test.', stop_words)\n"
   ]
  },
  {
   "cell_type": "code",
   "execution_count": null,
   "metadata": {},
   "outputs": [],
   "source": [
    "#Visualize the embeddings with t-SNE and PCA\n",
    "#PCA in 2D with word similarity pairs can show pairs like country-currency oder country - capital...\n",
    "# was wären bei uns solche Beziehungen ??? "
   ]
  },
  {
   "cell_type": "code",
   "execution_count": null,
   "metadata": {},
   "outputs": [],
   "source": [
    "# Ingest Unlabelled CRQs and save them as raw elements to disk\n",
    "\n",
    "data = open(\"Unlabelled_crs.txt\", 'r')\n",
    "\n",
    "raw_data = data.read()\n",
    "\n",
    "raw_data = raw_data.replace('\"\"',\"'\")\n",
    "\n",
    "raw_data_sep = raw_data.split('\"')\n",
    "\n",
    "raw_data_sep_nonempty = [element for element in raw_data_sep if element!=\"\\n\"]\n",
    "\n",
    "for i in range(500):\n",
    "    print(raw_data_sep_nonempty[i])\n",
    "    print('------------------------------------')\n",
    "\n",
    "import pickle\n",
    "\n",
    "pickle.dump( raw_data_sep_nonempty, open( \"CRQ_1.pkl\", \"wb\" ) )"
   ]
  },
  {
   "cell_type": "code",
   "execution_count": null,
   "metadata": {},
   "outputs": [],
   "source": [
    "# Preprocess unlabellled CRQs \n",
    "\n",
    "\n",
    "import pickle\n",
    "\n",
    "CRQ_data = pickle.load( open( \"../CRQ_1.pkl\", \"rb\" ) )\n",
    "\n",
    "print(CRQ_data[4344])\n",
    "\n",
    "from gensim.parsing.preprocessing import strip_punctuation\n",
    "CRQ_data_nopunc = [strip_punctuation(s) for s in CRQ_data]\n",
    "\n",
    "\n",
    "print(CRQ_data_nopunc[4344])\n",
    "\n",
    "from gensim.parsing.preprocessing import strip_numeric\n",
    "CRQ_data_nopunc_nonum = [strip_numeric(s) for s in CRQ_data_nopunc]\n",
    "print(CRQ_data_nopunc_nonum[4344])\n",
    "\n",
    "\n",
    "from gensim.parsing.preprocessing import strip_multiple_whitespaces\n",
    "\n",
    "CRQ_data_nopunc_nonum_nomultwhite = [strip_multiple_whitespaces(s) for s in CRQ_data_nopunc_nonum]\n",
    "print(CRQ_data_nopunc_nonum_nomultwhite[4344])\n",
    "\n",
    "CRQ_data_nopunc_nonum_nomultwhite_lower = [s.lower() for s in CRQ_data_nopunc_nonum_nomultwhite]\n",
    "print(CRQ_data_nopunc_nonum_nomultwhite_lower[4344])\n",
    "\n",
    "def split_words(string):\n",
    "    return string.split()\n",
    "CRQ_data_nopunc_nonum_nomultwhite_lower_split = [split_words(s) for s in CRQ_data_nopunc_nonum_nomultwhite_lower]\n",
    "\n",
    "print(CRQ_data_nopunc_nonum_nomultwhite_lower_split[4344])\n",
    "\n",
    "from stop_words import get_stop_words\n",
    "\n",
    "stop_words = get_stop_words('german')\n",
    "\n",
    "def remove_stopwords(list):\n",
    "    result = [word for word in list if not word in stop_words]\n",
    "    return result\n",
    "\n",
    "CRQ_data_nopunc_nonum_nomultwhite_lower_split_nostop = [remove_stopwords(l) for l in CRQ_data_nopunc_nonum_nomultwhite_lower_split]\n",
    "\n",
    "print(CRQ_data_nopunc_nonum_nomultwhite_lower_split_nostop[4344])\n",
    "\n",
    "print(CRQ_data_nopunc_nonum_nomultwhite_lower_split_nostop[4634])\n",
    "\n",
    "pickle.dump(CRQ_data_nopunc_nonum_nomultwhite_lower_split_nostop, open(\"CR_preprocessed.pkl\",'w'))\n",
    "\n"
   ]
  }
 ],
 "metadata": {
  "kernelspec": {
   "display_name": "Python 3",
   "language": "python",
   "name": "python3"
  },
  "language_info": {
   "codemirror_mode": {
    "name": "ipython",
    "version": 3
   },
   "file_extension": ".py",
   "mimetype": "text/x-python",
   "name": "python",
   "nbconvert_exporter": "python",
   "pygments_lexer": "ipython3",
   "version": "3.6.8"
  }
 },
 "nbformat": 4,
 "nbformat_minor": 2
}
